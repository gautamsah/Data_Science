{
 "cells": [
  {
   "cell_type": "code",
   "execution_count": 1,
   "id": "481ef3fc-0b54-42c4-bad6-aeea63b68da2",
   "metadata": {},
   "outputs": [],
   "source": [
    "import requests\n",
    "from bs4 import BeautifulSoup as bs\n",
    "from urllib.request import urlopen as uReq\n",
    "import logging"
   ]
  },
  {
   "cell_type": "code",
   "execution_count": 105,
   "id": "54505458-c45c-4ad1-8447-f546e3058ab9",
   "metadata": {},
   "outputs": [],
   "source": [
    "flipcart_url= \"https://www.flipkart.com/search?q=\" + \"iphone12\""
   ]
  },
  {
   "cell_type": "code",
   "execution_count": 106,
   "id": "104edb47-84c8-4bd7-89bb-c8310a8bdc03",
   "metadata": {},
   "outputs": [
    {
     "data": {
      "text/plain": [
       "'https://www.flipkart.com/search?q=iphone12'"
      ]
     },
     "execution_count": 106,
     "metadata": {},
     "output_type": "execute_result"
    }
   ],
   "source": [
    "flipcart_url"
   ]
  },
  {
   "cell_type": "code",
   "execution_count": 107,
   "id": "8e842b19-8ddf-4a7a-887f-2b8e74b27eaf",
   "metadata": {},
   "outputs": [],
   "source": [
    "urlclient= uReq(flipcart_url)"
   ]
  },
  {
   "cell_type": "code",
   "execution_count": 108,
   "id": "082950cf-08f0-4caa-b7f1-e0369cb276ef",
   "metadata": {},
   "outputs": [
    {
     "data": {
      "text/plain": [
       "<http.client.HTTPResponse at 0x7f9513f80310>"
      ]
     },
     "execution_count": 108,
     "metadata": {},
     "output_type": "execute_result"
    }
   ],
   "source": [
    "urlclient"
   ]
  },
  {
   "cell_type": "code",
   "execution_count": 109,
   "id": "15cd0a11-e19b-4191-9d40-55573e3ef724",
   "metadata": {},
   "outputs": [],
   "source": [
    "flipcart_page = urlclient.read()"
   ]
  },
  {
   "cell_type": "code",
   "execution_count": 110,
   "id": "227404a7-6b3a-40c1-9832-36f08c02709b",
   "metadata": {},
   "outputs": [],
   "source": [
    "flipkart_html= bs(flipcart_page, 'html.parser')"
   ]
  },
  {
   "cell_type": "markdown",
   "id": "74bab4d0-de33-41c0-bc23-4fa17f2f3d88",
   "metadata": {},
   "source": [
    "flipkart_html"
   ]
  },
  {
   "cell_type": "code",
   "execution_count": 111,
   "id": "460fadbb-61cb-468b-8b63-c7fe5ea2fe67",
   "metadata": {},
   "outputs": [
    {
     "data": {
      "text/plain": [
       "'https://www.flipkart.com/apple-iphone-11-black-128-gb/p/itm8244e8d955aba?pid=MOBFWQ6BKRYBP5X8&lid=LSTMOBFWQ6BKRYBP5X8IBG6BS&marketplace=FLIPKART&q=iphone11&store=tyy%2F4io&srno=s_1_1&otracker=search&otracker1=search&fm=Search&iid=f644e410-8f27-4ad4-8878-7af403106d38.MOBFWQ6BKRYBP5X8.SEARCH&ppt=hp&ppn=homepage&ssid=kby2ln8gvk0000001677502942007&qH=d6db477051465f9a'"
      ]
     },
     "execution_count": 111,
     "metadata": {},
     "output_type": "execute_result"
    }
   ],
   "source": [
    "\"https://www.flipkart.com/\"+\"apple-iphone-11-black-128-gb/p/itm8244e8d955aba?pid=MOBFWQ6BKRYBP5X8&lid=LSTMOBFWQ6BKRYBP5X8IBG6BS&marketplace=FLIPKART&q=iphone11&store=tyy%2F4io&srno=s_1_1&otracker=search&otracker1=search&fm=Search&iid=f644e410-8f27-4ad4-8878-7af403106d38.MOBFWQ6BKRYBP5X8.SEARCH&ppt=hp&ppn=homepage&ssid=kby2ln8gvk0000001677502942007&qH=d6db477051465f9a\""
   ]
  },
  {
   "cell_type": "code",
   "execution_count": 112,
   "id": "aee92456-b08d-47bd-b38f-2554f74c7a57",
   "metadata": {},
   "outputs": [],
   "source": [
    "bigbox= flipkart_html.findAll(\"div\", {\"class\":\"_1AtVbE col-12-12\"})"
   ]
  },
  {
   "cell_type": "code",
   "execution_count": 113,
   "id": "ccc1709e-7b42-4180-9143-0edb192a998a",
   "metadata": {},
   "outputs": [
    {
     "data": {
      "text/plain": [
       "30"
      ]
     },
     "execution_count": 113,
     "metadata": {},
     "output_type": "execute_result"
    }
   ],
   "source": [
    "len(bigbox)"
   ]
  },
  {
   "cell_type": "code",
   "execution_count": 114,
   "id": "bd763821-72b3-4ae9-bb8d-77e500f90ddd",
   "metadata": {},
   "outputs": [],
   "source": [
    "del bigbox[0:3]"
   ]
  },
  {
   "cell_type": "code",
   "execution_count": 115,
   "id": "079554bd-f280-4853-94bc-0d9731b28072",
   "metadata": {},
   "outputs": [],
   "source": [
    "product_link= \"https://www.flipkart.com\" + bigbox[3].div.div.div.a['href']"
   ]
  },
  {
   "cell_type": "code",
   "execution_count": 116,
   "id": "bcf14212-5289-47eb-934b-873af5b4b1f8",
   "metadata": {},
   "outputs": [],
   "source": [
    "product_req= requests.get(product_link)"
   ]
  },
  {
   "cell_type": "code",
   "execution_count": 117,
   "id": "805cccaf-d295-45a7-9d2e-81f970fabdc7",
   "metadata": {},
   "outputs": [],
   "source": [
    "product_html= bs(product_req.text, \"html.parser\")"
   ]
  },
  {
   "cell_type": "code",
   "execution_count": 118,
   "id": "092f16db-d000-49a9-bf0a-6ec22c6a6ad7",
   "metadata": {},
   "outputs": [],
   "source": [
    "comment_box= product_html.find_all(\"div\", {\"class\":\"_16PBlm\"})"
   ]
  },
  {
   "cell_type": "code",
   "execution_count": 119,
   "id": "3632b068-27b6-4199-bce8-36947f323507",
   "metadata": {},
   "outputs": [
    {
     "data": {
      "text/plain": [
       "11"
      ]
     },
     "execution_count": 119,
     "metadata": {},
     "output_type": "execute_result"
    }
   ],
   "source": [
    "len(comment_box)"
   ]
  },
  {
   "cell_type": "code",
   "execution_count": 120,
   "id": "e61b685d-d80a-40fc-9ca4-f8bd453f0f50",
   "metadata": {},
   "outputs": [
    {
     "data": {
      "text/plain": [
       "'Flipkart Customer'"
      ]
     },
     "execution_count": 120,
     "metadata": {},
     "output_type": "execute_result"
    }
   ],
   "source": [
    "comment_box[0].div.div.find_all('p', {'class':'_2sc7ZR _2V5EHH'})[0].text"
   ]
  },
  {
   "cell_type": "code",
   "execution_count": 121,
   "id": "074fd95a-22e1-4332-bd71-6ebe8ec39a47",
   "metadata": {},
   "outputs": [
    {
     "name": "stdout",
     "output_type": "stream",
     "text": [
      "Flipkart Customer\n",
      "Anurag Lad\n",
      "Vishal Gandhi\n",
      "Athul Shabu\n",
      "Flipkart Customer\n",
      "Ishu Kumar\n",
      "Ayaz Ahmad\n",
      "Vijaya Kurkute\n",
      "Suddha Ram boro\n",
      "Indradav Sharma \n"
     ]
    },
    {
     "ename": "AttributeError",
     "evalue": "'NoneType' object has no attribute 'div'",
     "output_type": "error",
     "traceback": [
      "\u001b[0;31m---------------------------------------------------------------------------\u001b[0m",
      "\u001b[0;31mAttributeError\u001b[0m                            Traceback (most recent call last)",
      "Cell \u001b[0;32mIn[121], line 2\u001b[0m\n\u001b[1;32m      1\u001b[0m \u001b[38;5;28;01mfor\u001b[39;00m i \u001b[38;5;129;01min\u001b[39;00m comment_box:\n\u001b[0;32m----> 2\u001b[0m     \u001b[38;5;28mprint\u001b[39m(\u001b[43mi\u001b[49m\u001b[38;5;241;43m.\u001b[39;49m\u001b[43mdiv\u001b[49m\u001b[38;5;241;43m.\u001b[39;49m\u001b[43mdiv\u001b[49m\u001b[38;5;241m.\u001b[39mfind_all(\u001b[38;5;124m'\u001b[39m\u001b[38;5;124mp\u001b[39m\u001b[38;5;124m'\u001b[39m, {\u001b[38;5;124m'\u001b[39m\u001b[38;5;124mclass\u001b[39m\u001b[38;5;124m'\u001b[39m:\u001b[38;5;124m'\u001b[39m\u001b[38;5;124m_2sc7ZR _2V5EHH\u001b[39m\u001b[38;5;124m'\u001b[39m})[\u001b[38;5;241m0\u001b[39m]\u001b[38;5;241m.\u001b[39mtext)\n",
      "\u001b[0;31mAttributeError\u001b[0m: 'NoneType' object has no attribute 'div'"
     ]
    }
   ],
   "source": [
    "for i in comment_box:\n",
    "    print(i.div.div.find_all('p', {'class':'_2sc7ZR _2V5EHH'})[0].text)"
   ]
  },
  {
   "cell_type": "code",
   "execution_count": 122,
   "id": "319043f5-726f-47c0-9ea7-5cb6c2f6ade3",
   "metadata": {},
   "outputs": [
    {
     "name": "stdout",
     "output_type": "stream",
     "text": [
      "5\n",
      "5\n",
      "5\n",
      "5\n",
      "5\n",
      "5\n",
      "5\n",
      "5\n",
      "5\n",
      "5\n"
     ]
    },
    {
     "ename": "AttributeError",
     "evalue": "'NoneType' object has no attribute 'div'",
     "output_type": "error",
     "traceback": [
      "\u001b[0;31m---------------------------------------------------------------------------\u001b[0m",
      "\u001b[0;31mAttributeError\u001b[0m                            Traceback (most recent call last)",
      "Cell \u001b[0;32mIn[122], line 2\u001b[0m\n\u001b[1;32m      1\u001b[0m \u001b[38;5;28;01mfor\u001b[39;00m i \u001b[38;5;129;01min\u001b[39;00m comment_box:\n\u001b[0;32m----> 2\u001b[0m     \u001b[38;5;28mprint\u001b[39m(\u001b[43mi\u001b[49m\u001b[38;5;241;43m.\u001b[39;49m\u001b[43mdiv\u001b[49m\u001b[38;5;241;43m.\u001b[39;49m\u001b[43mdiv\u001b[49m\u001b[38;5;241m.\u001b[39mdiv\u001b[38;5;241m.\u001b[39mdiv\u001b[38;5;241m.\u001b[39mtext)\n",
      "\u001b[0;31mAttributeError\u001b[0m: 'NoneType' object has no attribute 'div'"
     ]
    }
   ],
   "source": [
    "for i in comment_box:\n",
    "    print(i.div.div.div.div.text)"
   ]
  },
  {
   "cell_type": "code",
   "execution_count": 123,
   "id": "d957eb78-8d66-4146-8680-20dc531aa713",
   "metadata": {},
   "outputs": [
    {
     "name": "stdout",
     "output_type": "stream",
     "text": [
      "Terrific\n",
      "Perfect product!\n",
      "Terrific purchase\n",
      "Must buy!\n",
      "Awesome\n",
      "Mind-blowing purchase\n",
      "Brilliant\n",
      "Highly recommended\n",
      "Awesome\n",
      "Must buy!\n"
     ]
    },
    {
     "ename": "AttributeError",
     "evalue": "'NoneType' object has no attribute 'div'",
     "output_type": "error",
     "traceback": [
      "\u001b[0;31m---------------------------------------------------------------------------\u001b[0m",
      "\u001b[0;31mAttributeError\u001b[0m                            Traceback (most recent call last)",
      "Cell \u001b[0;32mIn[123], line 2\u001b[0m\n\u001b[1;32m      1\u001b[0m \u001b[38;5;28;01mfor\u001b[39;00m i \u001b[38;5;129;01min\u001b[39;00m comment_box:\n\u001b[0;32m----> 2\u001b[0m     \u001b[38;5;28mprint\u001b[39m(\u001b[43mi\u001b[49m\u001b[38;5;241;43m.\u001b[39;49m\u001b[43mdiv\u001b[49m\u001b[38;5;241;43m.\u001b[39;49m\u001b[43mdiv\u001b[49m\u001b[38;5;241m.\u001b[39mdiv\u001b[38;5;241m.\u001b[39mp\u001b[38;5;241m.\u001b[39mtext)\n",
      "\u001b[0;31mAttributeError\u001b[0m: 'NoneType' object has no attribute 'div'"
     ]
    }
   ],
   "source": [
    "for i in comment_box:\n",
    "    print(i.div.div.div.p.text)"
   ]
  },
  {
   "cell_type": "code",
   "execution_count": 124,
   "id": "52684f4e-01cc-4873-bc67-92013aaaec1f",
   "metadata": {},
   "outputs": [
    {
     "name": "stdout",
     "output_type": "stream",
     "text": [
      "Wow superb camera phone Very smooth speed and no lag , iphone is the king always Its a beautiful product\n",
      "The brand is very trustworthy and i got genuine pice at a very low cost.I ordered the green one and trust me the colour was amazing.All the colours but specifically green and purple are nice for look.Thanks to flipkart❤️\n",
      "Awesome phone … value for money.. Happy with battery life.. Awesome camera features… look at the images snapped using the phone… easy to use.. Just feared about getting scratch at back glass… but using cover helped it…\n",
      "Top class performance  and battery backup too. Charges quickly if u are using a 20w charger. Night mode is good , HDR mode works flawlessly. VFM phone.\n",
      "Excellent product worth for every penny, writing this review after using 7 days, earlier was using iPhone 6Plus now on iPhone 12 😍, faster then anything this else.Excellent Picture quality.Just loved it.!!\n",
      "Guys ,this is just Beast at Every Aspect of Configurations, Full Pack with What You want, Like Best Camera , Best Display, Best Battery for whole Day Use, And Everyone know About Processing Speed👌..\n",
      "Almost 1month of purshase and i am loving it . Great for photography and videography and trust me the stability of video is awesome . High end performence in Gaming , the only problem is that it heats up a little while playing Bgmi but if u play in a AC room then there's no issue .The boxy look of iphone 12 is very good and it gives a premium feel while holding . worth buying . also if you are confused between iph 11 or iph12 then close your eyes and go for iphone 12 .\n",
      "Thanx flipkart for value super sale for short time period of 1hour😁, flipkart might need to work on faster deliveryIphone 12 which i got in best price on flipkart1. Camera performance - superb2. Display - superb3. Interface - Amazing\n",
      "Thanks flipkart i trust you got my device perfectly loved it best phone in it's segment\n",
      "I really m glad that i went for i phone in place of all other android devices like the Samsung S series nd one plus . Also , m amazed by the battery life in this i phone . Single charge and its last for a day easily ..Even the gaming experience was great\n"
     ]
    },
    {
     "ename": "AttributeError",
     "evalue": "'NoneType' object has no attribute 'div'",
     "output_type": "error",
     "traceback": [
      "\u001b[0;31m---------------------------------------------------------------------------\u001b[0m",
      "\u001b[0;31mAttributeError\u001b[0m                            Traceback (most recent call last)",
      "Cell \u001b[0;32mIn[124], line 2\u001b[0m\n\u001b[1;32m      1\u001b[0m \u001b[38;5;28;01mfor\u001b[39;00m i \u001b[38;5;129;01min\u001b[39;00m comment_box:\n\u001b[0;32m----> 2\u001b[0m     \u001b[38;5;28mprint\u001b[39m(\u001b[43mi\u001b[49m\u001b[38;5;241;43m.\u001b[39;49m\u001b[43mdiv\u001b[49m\u001b[38;5;241;43m.\u001b[39;49m\u001b[43mdiv\u001b[49m\u001b[38;5;241m.\u001b[39mfind_all(\u001b[38;5;124m'\u001b[39m\u001b[38;5;124mdiv\u001b[39m\u001b[38;5;124m'\u001b[39m,{\u001b[38;5;124m\"\u001b[39m\u001b[38;5;124mclass\u001b[39m\u001b[38;5;124m\"\u001b[39m:\u001b[38;5;124m'\u001b[39m\u001b[38;5;124m'\u001b[39m})[\u001b[38;5;241m0\u001b[39m]\u001b[38;5;241m.\u001b[39mdiv\u001b[38;5;241m.\u001b[39mtext)\n",
      "\u001b[0;31mAttributeError\u001b[0m: 'NoneType' object has no attribute 'div'"
     ]
    }
   ],
   "source": [
    "for i in comment_box:\n",
    "    print(i.div.div.find_all('div',{\"class\":''})[0].div.text)"
   ]
  },
  {
   "cell_type": "markdown",
   "id": "9b664c24-d7f3-47bc-a755-82dcb9a852a2",
   "metadata": {},
   "source": [
    "comment_box[0].div.div.find_all('div',{\"class\":'t-ZTKy'})[0].div"
   ]
  },
  {
   "cell_type": "code",
   "execution_count": null,
   "id": "a9ef8291-894a-4c36-8723-f53b6dabc8ea",
   "metadata": {},
   "outputs": [],
   "source": []
  },
  {
   "cell_type": "code",
   "execution_count": null,
   "id": "3c6a1ef9-3cd2-425b-bf16-ae00d4e9c56c",
   "metadata": {},
   "outputs": [],
   "source": []
  },
  {
   "cell_type": "code",
   "execution_count": null,
   "id": "05513a1e-5055-41de-910e-8c0616879072",
   "metadata": {},
   "outputs": [],
   "source": []
  },
  {
   "cell_type": "code",
   "execution_count": 125,
   "id": "30ae9b47-f93a-4ec4-ba54-b990a29b16f4",
   "metadata": {},
   "outputs": [
    {
     "name": "stdout",
     "output_type": "stream",
     "text": [
      "https://www.flipkart.com/apple-iphone-12-purple-64-gb/p/itmfca1e77621c65?pid=MOBG2EPZJUZEYZGK&lid=LSTMOBG2EPZJUZEYZGK3JC9XU&marketplace=FLIPKART&q=iphone12&store=tyy%2F4io&srno=s_1_2&otracker=search&fm=organic&iid=901e6731-dcf3-40cc-8fa1-bf9388729782.MOBG2EPZJUZEYZGK.SEARCH&ppt=None&ppn=None&ssid=hr8zsiih400000001677505796740&qH=ad588135f239b88b\n",
      "https://www.flipkart.com/apple-iphone-12-green-64-gb/p/itmc8a19a9686173?pid=MOBFWBYZKK3EJPFW&lid=LSTMOBFWBYZKK3EJPFWVBZVKG&marketplace=FLIPKART&q=iphone12&store=tyy%2F4io&srno=s_1_3&otracker=search&fm=organic&iid=901e6731-dcf3-40cc-8fa1-bf9388729782.MOBFWBYZKK3EJPFW.SEARCH&ppt=None&ppn=None&ssid=hr8zsiih400000001677505796740&qH=ad588135f239b88b\n",
      "https://www.flipkart.com/apple-iphone-12-red-128-gb/p/itma7bd86885ed98?pid=MOBFWBYZUHPFWQRD&lid=LSTMOBFWBYZUHPFWQRD6PEPH0&marketplace=FLIPKART&q=iphone12&store=tyy%2F4io&srno=s_1_4&otracker=search&fm=organic&iid=901e6731-dcf3-40cc-8fa1-bf9388729782.MOBFWBYZUHPFWQRD.SEARCH&ppt=None&ppn=None&ssid=hr8zsiih400000001677505796740&qH=ad588135f239b88b\n",
      "https://www.flipkart.com/apple-iphone-12-white-64-gb/p/itm8b88bdc03cd79?pid=MOBFWBYZTK33MBG9&lid=LSTMOBFWBYZTK33MBG9ZFJ0HL&marketplace=FLIPKART&q=iphone12&store=tyy%2F4io&srno=s_1_5&otracker=search&fm=organic&iid=901e6731-dcf3-40cc-8fa1-bf9388729782.MOBFWBYZTK33MBG9.SEARCH&ppt=None&ppn=None&ssid=hr8zsiih400000001677505796740&qH=ad588135f239b88b\n",
      "https://www.flipkart.com/apple-iphone-12-blue-64-gb/p/itm5778ad0d0d255?pid=MOBFWBYZ8DNJNY7N&lid=LSTMOBFWBYZ8DNJNY7NK9PX3E&marketplace=FLIPKART&q=iphone12&store=tyy%2F4io&srno=s_1_6&otracker=search&fm=organic&iid=901e6731-dcf3-40cc-8fa1-bf9388729782.MOBFWBYZ8DNJNY7N.SEARCH&ppt=None&ppn=None&ssid=hr8zsiih400000001677505796740&qH=ad588135f239b88b\n",
      "https://www.flipkart.com/apple-iphone-12-blue-128-gb/p/itm02853ae92e90a?pid=MOBFWBYZKPTZF9VG&lid=LSTMOBFWBYZKPTZF9VGJD5AMO&marketplace=FLIPKART&q=iphone12&store=tyy%2F4io&srno=s_1_7&otracker=search&fm=organic&iid=901e6731-dcf3-40cc-8fa1-bf9388729782.MOBFWBYZKPTZF9VG.SEARCH&ppt=None&ppn=None&ssid=hr8zsiih400000001677505796740&qH=ad588135f239b88b\n",
      "https://www.flipkart.com/apple-iphone-12-white-128-gb/p/itm95393f4c6cc59?pid=MOBFWBYZBTZFGJF9&lid=LSTMOBFWBYZBTZFGJF9RAHZAK&marketplace=FLIPKART&q=iphone12&store=tyy%2F4io&srno=s_1_8&otracker=search&fm=organic&iid=901e6731-dcf3-40cc-8fa1-bf9388729782.MOBFWBYZBTZFGJF9.SEARCH&ppt=None&ppn=None&ssid=hr8zsiih400000001677505796740&qH=ad588135f239b88b\n",
      "https://www.flipkart.com/apple-iphone-12-red-64-gb/p/itm3481e4053d500?pid=MOBFWBYZDP6QCQ8F&lid=LSTMOBFWBYZDP6QCQ8FPGCIEN&marketplace=FLIPKART&q=iphone12&store=tyy%2F4io&srno=s_1_9&otracker=search&fm=organic&iid=901e6731-dcf3-40cc-8fa1-bf9388729782.MOBFWBYZDP6QCQ8F.SEARCH&ppt=None&ppn=None&ssid=hr8zsiih400000001677505796740&qH=ad588135f239b88b\n",
      "https://www.flipkart.com/apple-iphone-12-green-256-gb/p/itm6d126e7980774?pid=MOBFWBYZZPFJYYEY&lid=LSTMOBFWBYZZPFJYYEYEJFIAS&marketplace=FLIPKART&q=iphone12&store=tyy%2F4io&srno=s_1_10&otracker=search&fm=organic&iid=901e6731-dcf3-40cc-8fa1-bf9388729782.MOBFWBYZZPFJYYEY.SEARCH&ppt=None&ppn=None&ssid=hr8zsiih400000001677505796740&qH=ad588135f239b88b\n",
      "https://www.flipkart.com/apple-iphone-12-black-256-gb/p/itm68421fa1c1121?pid=MOBFWBYZ7CR9FRHZ&lid=LSTMOBFWBYZ7CR9FRHZIALAIL&marketplace=FLIPKART&q=iphone12&store=tyy%2F4io&srno=s_1_11&otracker=search&fm=organic&iid=901e6731-dcf3-40cc-8fa1-bf9388729782.MOBFWBYZ7CR9FRHZ.SEARCH&ppt=None&ppn=None&ssid=hr8zsiih400000001677505796740&qH=ad588135f239b88b\n",
      "https://www.flipkart.com/apple-iphone-12-purple-256-gb/p/itmfce36e1443299?pid=MOBG2EPZ6TFVH4YN&lid=LSTMOBG2EPZ6TFVH4YN9NZSKV&marketplace=FLIPKART&q=iphone12&store=tyy%2F4io&srno=s_1_12&otracker=search&fm=organic&iid=901e6731-dcf3-40cc-8fa1-bf9388729782.MOBG2EPZ6TFVH4YN.SEARCH&ppt=None&ppn=None&ssid=hr8zsiih400000001677505796740&qH=ad588135f239b88b\n",
      "https://www.flipkart.com/apple-iphone-12-blue-256-gb/p/itm3be487cd1dea5?pid=MOBFWBYZKYYZUANT&lid=LSTMOBFWBYZKYYZUANT0DVCKS&marketplace=FLIPKART&q=iphone12&store=tyy%2F4io&srno=s_1_13&otracker=search&fm=organic&iid=901e6731-dcf3-40cc-8fa1-bf9388729782.MOBFWBYZKYYZUANT.SEARCH&ppt=None&ppn=None&ssid=hr8zsiih400000001677505796740&qH=ad588135f239b88b\n",
      "https://www.flipkart.com/apple-iphone-12-white-256-gb/p/itmcfbcb621e6326?pid=MOBFWBYZMNGZVMJE&lid=LSTMOBFWBYZMNGZVMJEAEBPN8&marketplace=FLIPKART&q=iphone12&store=tyy%2F4io&srno=s_1_14&otracker=search&fm=organic&iid=901e6731-dcf3-40cc-8fa1-bf9388729782.MOBFWBYZMNGZVMJE.SEARCH&ppt=None&ppn=None&ssid=hr8zsiih400000001677505796740&qH=ad588135f239b88b\n",
      "https://www.flipkart.com/apple-iphone-12-red-256-gb/p/itm16f42310fe29a?pid=MOBFWBYZEBH6SAFP&lid=LSTMOBFWBYZEBH6SAFPS1GZIY&marketplace=FLIPKART&q=iphone12&store=tyy%2F4io&srno=s_1_15&otracker=search&fm=organic&iid=901e6731-dcf3-40cc-8fa1-bf9388729782.MOBFWBYZEBH6SAFP.SEARCH&ppt=None&ppn=None&ssid=hr8zsiih400000001677505796740&qH=ad588135f239b88b\n",
      "https://www.flipkart.com/apple-iphone-11-white-128-gb/p/itme32df47ea6742?pid=MOBFWQ6B7KKRXDDS&lid=LSTMOBFWQ6B7KKRXDDSULUZ0N&marketplace=FLIPKART&q=iphone12&store=tyy%2F4io&spotlightTagId=BestsellerId_tyy%2F4io&srno=s_1_16&otracker=search&fm=organic&iid=901e6731-dcf3-40cc-8fa1-bf9388729782.MOBFWQ6B7KKRXDDS.SEARCH&ppt=None&ppn=None&ssid=hr8zsiih400000001677505796740&qH=ad588135f239b88b\n",
      "https://www.flipkart.com/apple-iphone-11-white-64-gb/p/itmfc6a7091eb20b?pid=MOBFWQ6BVWVEH3XE&lid=LSTMOBFWQ6BVWVEH3XEMXQMLO&marketplace=FLIPKART&q=iphone12&store=tyy%2F4io&srno=s_1_17&otracker=search&fm=organic&iid=901e6731-dcf3-40cc-8fa1-bf9388729782.MOBFWQ6BVWVEH3XE.SEARCH&ppt=None&ppn=None&ssid=hr8zsiih400000001677505796740&qH=ad588135f239b88b\n",
      "https://www.flipkart.com/apple-iphone-13-starlight-128-gb/p/itmc9604f122ae7f?pid=MOBG6VF5ADKHKXFX&lid=LSTMOBG6VF5ADKHKXFXQGX7PK&marketplace=FLIPKART&q=iphone12&store=tyy%2F4io&srno=s_1_18&otracker=search&fm=organic&iid=901e6731-dcf3-40cc-8fa1-bf9388729782.MOBG6VF5ADKHKXFX.SEARCH&ppt=None&ppn=None&ssid=hr8zsiih400000001677505796740&qH=ad588135f239b88b\n",
      "https://www.flipkart.com/apple-iphone-11-black-64-gb/p/itm4e5041ba101fd?pid=MOBFWQ6BXGJCEYNY&lid=LSTMOBFWQ6BXGJCEYNYZXSHRJ&marketplace=FLIPKART&q=iphone12&store=tyy%2F4io&srno=s_1_19&otracker=search&fm=organic&iid=901e6731-dcf3-40cc-8fa1-bf9388729782.MOBFWQ6BXGJCEYNY.SEARCH&ppt=None&ppn=None&ssid=hr8zsiih400000001677505796740&qH=ad588135f239b88b\n",
      "https://www.flipkart.com/apple-iphone-13-blue-128-gb/p/itm6c601e0a58b3c?pid=MOBG6VF5SMXPNQHG&lid=LSTMOBG6VF5SMXPNQHGH3DY6Z&marketplace=FLIPKART&q=iphone12&store=tyy%2F4io&srno=s_1_20&otracker=search&fm=organic&iid=901e6731-dcf3-40cc-8fa1-bf9388729782.MOBG6VF5SMXPNQHG.SEARCH&ppt=None&ppn=None&ssid=hr8zsiih400000001677505796740&qH=ad588135f239b88b\n",
      "https://www.flipkart.com/apple-iphone-14-midnight-128-gb/p/itm9e6293c322a84?pid=MOBGHWFHECFVMDCX&lid=LSTMOBGHWFHECFVMDCXBOYSND&marketplace=FLIPKART&q=iphone12&store=tyy%2F4io&srno=s_1_21&otracker=search&fm=organic&iid=901e6731-dcf3-40cc-8fa1-bf9388729782.MOBGHWFHECFVMDCX.SEARCH&ppt=None&ppn=None&ssid=hr8zsiih400000001677505796740&qH=ad588135f239b88b\n",
      "https://www.flipkart.com/apple-iphone-14-purple-128-gb/p/itm0b581eba85e08?pid=MOBGHWFHQFSQYBFU&lid=LSTMOBGHWFHQFSQYBFUSBTOEU&marketplace=FLIPKART&q=iphone12&store=tyy%2F4io&srno=s_1_22&otracker=search&fm=organic&iid=901e6731-dcf3-40cc-8fa1-bf9388729782.MOBGHWFHQFSQYBFU.SEARCH&ppt=None&ppn=None&ssid=hr8zsiih400000001677505796740&qH=ad588135f239b88b\n",
      "https://www.flipkart.com/apple-iphone-14-starlight-128-gb/p/itm3485a56f6e676?pid=MOBGHWFHABH3G73H&lid=LSTMOBGHWFHABH3G73HRLIX56&marketplace=FLIPKART&q=iphone12&store=tyy%2F4io&spotlightTagId=BestsellerId_tyy%2F4io&srno=s_1_23&otracker=search&fm=organic&iid=901e6731-dcf3-40cc-8fa1-bf9388729782.MOBGHWFHABH3G73H.SEARCH&ppt=None&ppn=None&ssid=hr8zsiih400000001677505796740&qH=ad588135f239b88b\n",
      "https://www.flipkart.com/apple-iphone-13-pink-128-gb/p/itm6e30c6ee045d2?pid=MOBG6VF5GXVFTQ5Y&lid=LSTMOBG6VF5GXVFTQ5YSGQY4O&marketplace=FLIPKART&q=iphone12&store=tyy%2F4io&srno=s_1_24&otracker=search&fm=organic&iid=901e6731-dcf3-40cc-8fa1-bf9388729782.MOBG6VF5GXVFTQ5Y.SEARCH&ppt=None&ppn=None&ssid=hr8zsiih400000001677505796740&qH=ad588135f239b88b\n"
     ]
    },
    {
     "ename": "AttributeError",
     "evalue": "'NoneType' object has no attribute 'a'",
     "output_type": "error",
     "traceback": [
      "\u001b[0;31m---------------------------------------------------------------------------\u001b[0m",
      "\u001b[0;31mAttributeError\u001b[0m                            Traceback (most recent call last)",
      "Cell \u001b[0;32mIn[125], line 2\u001b[0m\n\u001b[1;32m      1\u001b[0m \u001b[38;5;28;01mfor\u001b[39;00m i \u001b[38;5;129;01min\u001b[39;00m bigbox:\n\u001b[0;32m----> 2\u001b[0m     \u001b[38;5;28mprint\u001b[39m(\u001b[38;5;124m\"\u001b[39m\u001b[38;5;124mhttps://www.flipkart.com\u001b[39m\u001b[38;5;124m\"\u001b[39m\u001b[38;5;241m+\u001b[39m\u001b[43mi\u001b[49m\u001b[38;5;241;43m.\u001b[39;49m\u001b[43mdiv\u001b[49m\u001b[38;5;241;43m.\u001b[39;49m\u001b[43mdiv\u001b[49m\u001b[38;5;241;43m.\u001b[39;49m\u001b[43mdiv\u001b[49m\u001b[38;5;241;43m.\u001b[39;49m\u001b[43ma\u001b[49m[\u001b[38;5;124m'\u001b[39m\u001b[38;5;124mhref\u001b[39m\u001b[38;5;124m'\u001b[39m])\n",
      "\u001b[0;31mAttributeError\u001b[0m: 'NoneType' object has no attribute 'a'"
     ]
    }
   ],
   "source": [
    "for i in bigbox:\n",
    "    print(\"https://www.flipkart.com\"+i.div.div.div.a['href'])"
   ]
  },
  {
   "cell_type": "markdown",
   "id": "dd275561-9c95-495d-aefc-851daa0bfcfb",
   "metadata": {},
   "source": [
    "***********************************************************************vid2"
   ]
  },
  {
   "cell_type": "code",
   "execution_count": null,
   "id": "102e8e22-ffb8-4ed1-9193-fa69c88be1ff",
   "metadata": {},
   "outputs": [],
   "source": []
  }
 ],
 "metadata": {
  "kernelspec": {
   "display_name": "Python 3 (ipykernel)",
   "language": "python",
   "name": "python3"
  },
  "language_info": {
   "codemirror_mode": {
    "name": "ipython",
    "version": 3
   },
   "file_extension": ".py",
   "mimetype": "text/x-python",
   "name": "python",
   "nbconvert_exporter": "python",
   "pygments_lexer": "ipython3",
   "version": "3.10.8"
  }
 },
 "nbformat": 4,
 "nbformat_minor": 5
}
