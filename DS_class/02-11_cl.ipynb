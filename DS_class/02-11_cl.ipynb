{
 "cells": [
  {
   "cell_type": "code",
   "execution_count": 1,
   "id": "d1f23521-9f12-4fe7-abf8-92e9b71271c3",
   "metadata": {},
   "outputs": [],
   "source": [
    "f = open(\"test.txt\", \"w\")"
   ]
  },
  {
   "cell_type": "code",
   "execution_count": 1,
   "id": "89610935-eef9-4df7-8981-ff6f26063cb3",
   "metadata": {},
   "outputs": [
    {
     "data": {
      "text/plain": [
       "'/home/jovyan/work'"
      ]
     },
     "execution_count": 1,
     "metadata": {},
     "output_type": "execute_result"
    }
   ],
   "source": [
    "pwd"
   ]
  },
  {
   "cell_type": "code",
   "execution_count": 2,
   "id": "ed3a0d01-ae49-4471-a4aa-335216321e91",
   "metadata": {},
   "outputs": [
    {
     "name": "stdout",
     "output_type": "stream",
     "text": [
      "01-30_cl.ipynb  02-03_cl.ipynb  02-10_cl.ipynb  sample-code.ipynb\n",
      "01-31_cl.ipynb  02-04_cl.ipynb  02-11_cl.ipynb\n",
      "02-01_cl.ipynb  02-05_cl.ipynb  README.md\n",
      "02-02_cl.ipynb  02-08_cl.ipynb  \u001b[0m\u001b[01;34mresources\u001b[0m/\n"
     ]
    }
   ],
   "source": [
    "ls"
   ]
  },
  {
   "cell_type": "code",
   "execution_count": 3,
   "id": "034d32a4-8da5-4206-99be-b7b61f2c9991",
   "metadata": {},
   "outputs": [
    {
     "name": "stdout",
     "output_type": "stream",
     "text": [
      "/home/jovyan/work/resources\n"
     ]
    }
   ],
   "source": [
    "cd resources"
   ]
  },
  {
   "cell_type": "code",
   "execution_count": 4,
   "id": "5ae55971-e0a4-4565-91f4-4fca1504361d",
   "metadata": {},
   "outputs": [
    {
     "name": "stdout",
     "output_type": "stream",
     "text": [
      "/home/jovyan/work/resources/02-11\n"
     ]
    }
   ],
   "source": [
    "cd 02-11"
   ]
  },
  {
   "cell_type": "code",
   "execution_count": 13,
   "id": "b3078b23-d609-4def-b744-c3fcf87b926c",
   "metadata": {},
   "outputs": [],
   "source": [
    "f = open(\"test.txt\", \"w\")"
   ]
  },
  {
   "cell_type": "code",
   "execution_count": 5,
   "id": "5449bb46-a235-45e8-b690-035c5bcaca10",
   "metadata": {},
   "outputs": [
    {
     "data": {
      "text/plain": [
       "'/home/jovyan/work/resources/02-11'"
      ]
     },
     "execution_count": 5,
     "metadata": {},
     "output_type": "execute_result"
    }
   ],
   "source": [
    "pwd"
   ]
  },
  {
   "cell_type": "code",
   "execution_count": 13,
   "id": "f9e98fca-cd6f-4346-949d-53b3c12b3001",
   "metadata": {},
   "outputs": [
    {
     "name": "stdout",
     "output_type": "stream",
     "text": [
      "copy_new.txt  data.csv  data.json  new.txt  num.txt  test1.txt  test.bin\n"
     ]
    }
   ],
   "source": [
    "ls"
   ]
  },
  {
   "cell_type": "code",
   "execution_count": 16,
   "id": "09e2bb80-f054-43c5-93d5-98f5481dac8e",
   "metadata": {},
   "outputs": [
    {
     "data": {
      "text/plain": [
       "30"
      ]
     },
     "execution_count": 16,
     "metadata": {},
     "output_type": "execute_result"
    }
   ],
   "source": [
    "f.write(\"this is my first file to write\")"
   ]
  },
  {
   "cell_type": "code",
   "execution_count": 17,
   "id": "5467af3e-1d7f-4047-8c44-cfa79bbb7ac7",
   "metadata": {},
   "outputs": [],
   "source": [
    "f.close()"
   ]
  },
  {
   "cell_type": "code",
   "execution_count": 18,
   "id": "949657f7-6e03-40e2-9d48-037ffb3856ae",
   "metadata": {},
   "outputs": [],
   "source": [
    "f = open(\"test.txt\", \"w\")"
   ]
  },
  {
   "cell_type": "code",
   "execution_count": 19,
   "id": "103e5b13-e140-45b0-bbec-588764a2d67c",
   "metadata": {},
   "outputs": [
    {
     "data": {
      "text/plain": [
       "15"
      ]
     },
     "execution_count": 19,
     "metadata": {},
     "output_type": "execute_result"
    }
   ],
   "source": [
    "f.write(\"this is my file\")"
   ]
  },
  {
   "cell_type": "code",
   "execution_count": 20,
   "id": "9f767b40-c6b9-4fb5-bd52-42b94e0cf6df",
   "metadata": {},
   "outputs": [],
   "source": [
    "f.close()"
   ]
  },
  {
   "cell_type": "code",
   "execution_count": 21,
   "id": "9b7654f8-92ec-4639-a48a-935b1d5e8158",
   "metadata": {},
   "outputs": [],
   "source": [
    "f = open(\"test.txt\", \"a\")"
   ]
  },
  {
   "cell_type": "code",
   "execution_count": 22,
   "id": "6b433146-28ac-4756-92d6-b30b1177bef5",
   "metadata": {},
   "outputs": [
    {
     "data": {
      "text/plain": [
       "647"
      ]
     },
     "execution_count": 22,
     "metadata": {},
     "output_type": "execute_result"
    }
   ],
   "source": [
    "f.write(\"Since Apple released the iPhone 14 Pro with the Dynamic Island, we knew it would reach the ‘Androidverse‘ soon. And it seems the first one to adopt this fully could be Realme as the company has dropped a little hint, which it later on deleted. Let’s see what the company is aiming to bring to our plates. Realme’s ‘Dynamic Island’ Phone Leaked The company’s CEO Madhav Sheth recently tweeted (via 9To5Mac) about an upcoming Realme C-series phone, which was seen with the Dynamic Island clone, except he called it the Mini Capsule. From the looks of it, the elongated hole punch is just like the iPhone 14 Pro’s Dynamic Island with the floating UI.\")"
   ]
  },
  {
   "cell_type": "code",
   "execution_count": 23,
   "id": "c9d69b0c-3d49-44f2-84cb-dc553cbb291d",
   "metadata": {},
   "outputs": [],
   "source": [
    "f.close()"
   ]
  },
  {
   "cell_type": "code",
   "execution_count": 24,
   "id": "e01905d3-482c-4234-b59c-74607d9b5a5d",
   "metadata": {},
   "outputs": [],
   "source": [
    "f = open(\"test.txt\", \"r\")"
   ]
  },
  {
   "cell_type": "code",
   "execution_count": 25,
   "id": "15e04226-e717-4d55-abd8-3a720801e79d",
   "metadata": {},
   "outputs": [
    {
     "data": {
      "text/plain": [
       "'this is my fileSince Apple released the iPhone 14 Pro with the Dynamic Island, we knew it would reach the ‘Androidverse‘ soon. And it seems the first one to adopt this fully could be Realme as the company has dropped a little hint, which it later on deleted. Let’s see what the company is aiming to bring to our plates. Realme’s ‘Dynamic Island’ Phone Leaked The company’s CEO Madhav Sheth recently tweeted (via 9To5Mac) about an upcoming Realme C-series phone, which was seen with the Dynamic Island clone, except he called it the Mini Capsule. From the looks of it, the elongated hole punch is just like the iPhone 14 Pro’s Dynamic Island with the floating UI.'"
      ]
     },
     "execution_count": 25,
     "metadata": {},
     "output_type": "execute_result"
    }
   ],
   "source": [
    "f.read()"
   ]
  },
  {
   "cell_type": "code",
   "execution_count": 27,
   "id": "b271a322-c7f8-4115-98bc-7d8305300460",
   "metadata": {},
   "outputs": [
    {
     "data": {
      "text/plain": [
       "''"
      ]
     },
     "execution_count": 27,
     "metadata": {},
     "output_type": "execute_result"
    }
   ],
   "source": [
    "f.readline()"
   ]
  },
  {
   "cell_type": "code",
   "execution_count": 28,
   "id": "13f58ec2-e8ee-4ccf-ab23-473beb17dc7a",
   "metadata": {},
   "outputs": [
    {
     "data": {
      "text/plain": [
       "0"
      ]
     },
     "execution_count": 28,
     "metadata": {},
     "output_type": "execute_result"
    }
   ],
   "source": [
    "f.seek(0)"
   ]
  },
  {
   "cell_type": "code",
   "execution_count": 29,
   "id": "057ea7fb-c824-47b3-9722-6889d3225126",
   "metadata": {},
   "outputs": [
    {
     "data": {
      "text/plain": [
       "'this is my fileSince Apple released the iPhone 14 Pro with the Dynamic Island, we knew it would reach the ‘Androidverse‘ soon. And it seems the first one to adopt this fully could be Realme as the company has dropped a little hint, which it later on deleted. Let’s see what the company is aiming to bring to our plates. Realme’s ‘Dynamic Island’ Phone Leaked The company’s CEO Madhav Sheth recently tweeted (via 9To5Mac) about an upcoming Realme C-series phone, which was seen with the Dynamic Island clone, except he called it the Mini Capsule. From the looks of it, the elongated hole punch is just like the iPhone 14 Pro’s Dynamic Island with the floating UI.'"
      ]
     },
     "execution_count": 29,
     "metadata": {},
     "output_type": "execute_result"
    }
   ],
   "source": [
    "f.readline()"
   ]
  },
  {
   "cell_type": "code",
   "execution_count": 31,
   "id": "42175e2b-2289-464e-ae2d-5e302f47066b",
   "metadata": {},
   "outputs": [
    {
     "data": {
      "text/plain": [
       "''"
      ]
     },
     "execution_count": 31,
     "metadata": {},
     "output_type": "execute_result"
    }
   ],
   "source": [
    "f.readline()"
   ]
  },
  {
   "cell_type": "code",
   "execution_count": 34,
   "id": "e0d0a026-a0f0-485c-8fa7-7bfa398e3894",
   "metadata": {},
   "outputs": [
    {
     "data": {
      "text/plain": [
       "0"
      ]
     },
     "execution_count": 34,
     "metadata": {},
     "output_type": "execute_result"
    }
   ],
   "source": [
    "f.seek(0)"
   ]
  },
  {
   "cell_type": "code",
   "execution_count": 35,
   "id": "6c54bf54-ef6b-4526-974d-c589615292a6",
   "metadata": {},
   "outputs": [
    {
     "data": {
      "text/plain": [
       "'this is my fileSince Apple released the iPhone 14 Pro with the Dynamic Island, we knew it would reach the ‘Androidverse‘ soon. And it seems the first one to adopt this fully could be Realme as the company has dropped a little hint, which it later on deleted. Let’s see what the company is aiming to bring to our plates. Realme’s ‘Dynamic Island’ Phone Leaked The company’s CEO Madhav Sheth recently tweeted (via 9To5Mac) about an upcoming Realme C-series phone, which was seen with the Dynamic Island clone, except he called it the Mini Capsule. From the looks of it, the elongated hole punch is just like the iPhone 14 Pro’s Dynamic Island with the floating UI.'"
      ]
     },
     "execution_count": 35,
     "metadata": {},
     "output_type": "execute_result"
    }
   ],
   "source": [
    "f.read()"
   ]
  },
  {
   "cell_type": "code",
   "execution_count": 36,
   "id": "7ad73f06-e2bd-4bdc-ac79-ceacb9849359",
   "metadata": {},
   "outputs": [],
   "source": [
    "data1=open(\"test.txt\", \"r\")"
   ]
  },
  {
   "cell_type": "code",
   "execution_count": 37,
   "id": "0d1a5380-531b-4269-8b71-a64f319af558",
   "metadata": {},
   "outputs": [
    {
     "name": "stdout",
     "output_type": "stream",
     "text": [
      "this is my fileSince Apple released the iPhone 14 Pro with the Dynamic Island, we knew it would reach the ‘Androidverse‘ soon. And it seems the first one to adopt this fully could be Realme as the company has dropped a little hint, which it later on deleted. Let’s see what the company is aiming to bring to our plates. Realme’s ‘Dynamic Island’ Phone Leaked The company’s CEO Madhav Sheth recently tweeted (via 9To5Mac) about an upcoming Realme C-series phone, which was seen with the Dynamic Island clone, except he called it the Mini Capsule. From the looks of it, the elongated hole punch is just like the iPhone 14 Pro’s Dynamic Island with the floating UI.\n"
     ]
    }
   ],
   "source": [
    "for i in data1:\n",
    "    print(i)"
   ]
  },
  {
   "cell_type": "code",
   "execution_count": 38,
   "id": "6e192732-1083-4d17-9c8e-08c0def44284",
   "metadata": {},
   "outputs": [],
   "source": [
    "import os"
   ]
  },
  {
   "cell_type": "code",
   "execution_count": 39,
   "id": "83e61fc9-e26b-4e29-a13d-0cfb5adf71f6",
   "metadata": {},
   "outputs": [
    {
     "data": {
      "text/plain": [
       "678"
      ]
     },
     "execution_count": 39,
     "metadata": {},
     "output_type": "execute_result"
    }
   ],
   "source": [
    "os.path.getsize(\"test.txt\")"
   ]
  },
  {
   "cell_type": "code",
   "execution_count": 40,
   "id": "363f2db5-5a28-4f87-b97b-8cee031877a1",
   "metadata": {},
   "outputs": [],
   "source": [
    "os.remove(\"test.txt\")"
   ]
  },
  {
   "cell_type": "code",
   "execution_count": 41,
   "id": "d01b8851-f7f1-41c6-983d-f8ec395353b6",
   "metadata": {},
   "outputs": [],
   "source": [
    "f=open(\"test.txt\", \"w\")"
   ]
  },
  {
   "cell_type": "code",
   "execution_count": 42,
   "id": "36ae8de2-46db-426f-9881-c6ae31848c92",
   "metadata": {},
   "outputs": [],
   "source": [
    "f.writelines(\"this is my fileSince Apple released the iPhone 14 Pro with the Dynamic Island\"\n",
    "             \"we knew it would reach the ‘Androidverse‘ soon. And it seems the \"\n",
    "             \"first one to adopt this fully could be Realme as the company has \"\n",
    "             \"dropped a little hint, which it later on deleted. Let’s see what the company is aiming to bring to our plates. Realme’s ‘Dynamic Island’ Phone Leaked The company’s CEO Madhav Sheth recently tweeted (via 9To5Mac) about an upcoming Realme C-series phone, which was seen with the Dynamic Island clone, except he called it the Mini Capsule. From the looks of it, the elongated hole punch is just like the iPhone 14 Pro’s Dynamic Island with the floating UI.\")"
   ]
  },
  {
   "cell_type": "code",
   "execution_count": 43,
   "id": "a7d84a48-1845-4c7c-8368-e85f97fbefcc",
   "metadata": {},
   "outputs": [],
   "source": [
    "f.close()"
   ]
  },
  {
   "cell_type": "code",
   "execution_count": 44,
   "id": "ee789def-ef5d-4f4f-92fa-8dd33e8aa21f",
   "metadata": {},
   "outputs": [],
   "source": [
    "os.rename(\"test.txt\", \"new.txt\")"
   ]
  },
  {
   "cell_type": "code",
   "execution_count": 45,
   "id": "4c931c0e-8088-449e-8461-3811ed00ce8e",
   "metadata": {},
   "outputs": [],
   "source": [
    "import shutil"
   ]
  },
  {
   "cell_type": "code",
   "execution_count": 46,
   "id": "68699e42-3954-4d2f-a5f5-8ebb86f63c21",
   "metadata": {},
   "outputs": [
    {
     "data": {
      "text/plain": [
       "'copy_new.txt'"
      ]
     },
     "execution_count": 46,
     "metadata": {},
     "output_type": "execute_result"
    }
   ],
   "source": [
    "shutil.copy(\"new.txt\", \"copy_new.txt\")"
   ]
  },
  {
   "cell_type": "code",
   "execution_count": 48,
   "id": "7055ac2a-13eb-4226-a9d2-af1d757d7487",
   "metadata": {},
   "outputs": [
    {
     "name": "stdout",
     "output_type": "stream",
     "text": [
      "this is my fileSince Apple released the iPhone 14 Pro with the Dynamic Islandwe knew it would reach the ‘Androidverse‘ soon. And it seems the first one to adopt this fully could be Realme as the company has dropped a little hint, which it later on deleted. Let’s see what the company is aiming to bring to our plates. Realme’s ‘Dynamic Island’ Phone Leaked The company’s CEO Madhav Sheth recently tweeted (via 9To5Mac) about an upcoming Realme C-series phone, which was seen with the Dynamic Island clone, except he called it the Mini Capsule. From the looks of it, the elongated hole punch is just like the iPhone 14 Pro’s Dynamic Island with the floating UI.\n"
     ]
    }
   ],
   "source": [
    "with open(\"new.txt\", \"r\") as f:\n",
    "    print(f.read())"
   ]
  },
  {
   "cell_type": "markdown",
   "id": "54772792-b122-493c-b2df-4ef833497c8e",
   "metadata": {},
   "source": [
    "******************************************************************vid2"
   ]
  },
  {
   "cell_type": "code",
   "execution_count": 49,
   "id": "6da6d1c1-d092-44d1-82aa-ed7e779198ba",
   "metadata": {},
   "outputs": [],
   "source": [
    "data={\n",
    "    \"name\":\"sudh\",\n",
    "    \"mail_id\":\"sudh@gmail.com\",\n",
    "    \"phone number\":956456456,\n",
    "    \"subject\":[\"data science\",\"big data\",\"data analytics\"]\n",
    "}"
   ]
  },
  {
   "cell_type": "code",
   "execution_count": 50,
   "id": "2b164cb2-1d8a-4f0b-b6b1-5e32d519b7ea",
   "metadata": {},
   "outputs": [],
   "source": [
    "import json"
   ]
  },
  {
   "cell_type": "code",
   "execution_count": 51,
   "id": "48971c5d-1cc1-49e8-a822-95f39ebadca7",
   "metadata": {},
   "outputs": [],
   "source": [
    "with open(\"data.json\", \"w\") as f:\n",
    "    json.dump(data, f)"
   ]
  },
  {
   "cell_type": "code",
   "execution_count": 52,
   "id": "f9a462bd-9ef4-4727-af1b-df759c082b03",
   "metadata": {},
   "outputs": [],
   "source": [
    "with open(\"data.json\", \"r\") as f:\n",
    "    data1=json.load(f)"
   ]
  },
  {
   "cell_type": "code",
   "execution_count": 53,
   "id": "73440983-2363-4fac-873e-0392018d0033",
   "metadata": {},
   "outputs": [
    {
     "data": {
      "text/plain": [
       "{'name': 'sudh',\n",
       " 'mail_id': 'sudh@gmail.com',\n",
       " 'phone number': 956456456,\n",
       " 'subject': ['data science', 'big data', 'data analytics']}"
      ]
     },
     "execution_count": 53,
     "metadata": {},
     "output_type": "execute_result"
    }
   ],
   "source": [
    "data1"
   ]
  },
  {
   "cell_type": "code",
   "execution_count": 55,
   "id": "a5897305-aaf3-4c0e-b690-1f9dbe53d9ac",
   "metadata": {},
   "outputs": [
    {
     "data": {
      "text/plain": [
       "'big data'"
      ]
     },
     "execution_count": 55,
     "metadata": {},
     "output_type": "execute_result"
    }
   ],
   "source": [
    "data1[\"subject\"][1]"
   ]
  },
  {
   "cell_type": "code",
   "execution_count": 56,
   "id": "84205336-2d53-4f69-a95b-493524fe4473",
   "metadata": {},
   "outputs": [],
   "source": [
    "import csv"
   ]
  },
  {
   "cell_type": "code",
   "execution_count": 57,
   "id": "fa679efa-e2cf-4d99-808a-59a3a54d4650",
   "metadata": {},
   "outputs": [],
   "source": [
    "data=[[\"name\",\"email_id\",\"phone_number\"],\n",
    "      [\"sudh\",\"sudh@gmail.com\", 92342424],\n",
    "      [\"keish\",\"krish@gmail.com\", 9324242]\n",
    "     ]"
   ]
  },
  {
   "cell_type": "code",
   "execution_count": 58,
   "id": "621ece3c-d601-4d51-9ea8-e3f1cabd6aed",
   "metadata": {},
   "outputs": [],
   "source": [
    "with open(\"data.csv\",\"w\") as f:\n",
    "    writer=csv.writer(f)\n",
    "    \n",
    "    for i in data:\n",
    "        writer.writerow(i)\n",
    "        "
   ]
  },
  {
   "cell_type": "code",
   "execution_count": 59,
   "id": "929f9c4e-c3af-46ea-aea3-47f6d0829a79",
   "metadata": {},
   "outputs": [
    {
     "name": "stdout",
     "output_type": "stream",
     "text": [
      "['name', 'email_id', 'phone_number']\n",
      "['sudh', 'sudh@gmail.com', '92342424']\n",
      "['keish', 'krish@gmail.com', '9324242']\n"
     ]
    }
   ],
   "source": [
    "with open(\"data.csv\", \"r\") as f:\n",
    "    read_data = csv.reader(f)\n",
    "    \n",
    "    for i in read_data:\n",
    "        print(i)"
   ]
  },
  {
   "cell_type": "code",
   "execution_count": 61,
   "id": "242b19b0-e183-4381-8386-6111ea789799",
   "metadata": {},
   "outputs": [],
   "source": [
    "with open(\"test.bin\", \"wb\") as f:\n",
    "    f.write(b\"\\x01\\x02\\x03\\x3454235\")"
   ]
  },
  {
   "cell_type": "code",
   "execution_count": 62,
   "id": "dcdea387-a49b-4c4a-bc00-11cc8400932d",
   "metadata": {},
   "outputs": [
    {
     "name": "stdout",
     "output_type": "stream",
     "text": [
      "b'\\x01\\x02\\x03454235'\n"
     ]
    }
   ],
   "source": [
    "with open(\"test.bin\", \"rb\") as f:\n",
    "    print(f.read())"
   ]
  },
  {
   "cell_type": "markdown",
   "id": "df8785fd-e0c8-4624-abe3-1651cd82218a",
   "metadata": {},
   "source": [
    "*********************************************************************vid3"
   ]
  },
  {
   "cell_type": "code",
   "execution_count": 63,
   "id": "3ec2a476-e1d3-437b-8bf8-f54d0f56eb78",
   "metadata": {},
   "outputs": [],
   "source": [
    "import io"
   ]
  },
  {
   "cell_type": "code",
   "execution_count": 65,
   "id": "c37fac57-d74c-411c-a258-0467620b919e",
   "metadata": {},
   "outputs": [],
   "source": [
    "with open(\"test1.txt\", \"wb\") as f:\n",
    "    file= io.BufferedWriter(f)\n",
    "    \n",
    "    file.write(b\"this is my first line\")\n",
    "    file.write(b\"thsi is my second line\")\n",
    "    file.flush()"
   ]
  },
  {
   "cell_type": "code",
   "execution_count": 69,
   "id": "d44b0d19-0602-4667-9ac6-878362625432",
   "metadata": {},
   "outputs": [],
   "source": [
    "with open(\"test1.txt\", \"wb\") as f:\n",
    "    file= io.BufferedWriter(f)\n",
    "    \n",
    "    file.write(b\"this is my fileSince Apple released the iPhone 14 Pro with the Dynamic Islandwe knew it would reach the Androidverse soon\")\n",
    "    file.write(b\"thsi is my second line\")\n",
    "    file.flush()"
   ]
  },
  {
   "cell_type": "code",
   "execution_count": 72,
   "id": "b1b5cd22-26c5-4ca1-8715-f1cbe7828643",
   "metadata": {},
   "outputs": [
    {
     "name": "stdout",
     "output_type": "stream",
     "text": [
      "b'this is my fileSince Apple released the iPhone 14 '\n"
     ]
    }
   ],
   "source": [
    "with open(\"test1.txt\", \"rb\") as f:\n",
    "    \n",
    "    file=io.BufferedReader(f)\n",
    "    data=file.read(50)\n",
    "    print(data)"
   ]
  },
  {
   "cell_type": "markdown",
   "id": "f4c0faef-eb15-4c6c-a242-013a0eceb87b",
   "metadata": {},
   "source": [
    " *************************************************************************vid4"
   ]
  },
  {
   "cell_type": "code",
   "execution_count": 6,
   "id": "6cd98eb2-5181-4040-a6cc-64f0d75f7a19",
   "metadata": {},
   "outputs": [
    {
     "name": "stdout",
     "output_type": "stream",
     "text": [
      "this is my print\n"
     ]
    }
   ],
   "source": [
    "print(\"this is my print\")"
   ]
  },
  {
   "cell_type": "code",
   "execution_count": 5,
   "id": "3f02ae34-cdb2-4b7a-9255-569e6904d161",
   "metadata": {},
   "outputs": [],
   "source": [
    "import logging"
   ]
  },
  {
   "cell_type": "code",
   "execution_count": 6,
   "id": "b3e57ec7-5a5a-42bf-8010-2097c01d7513",
   "metadata": {},
   "outputs": [],
   "source": [
    "logging.basicConfig(filename=\"test.log\", level=logging.INFO)"
   ]
  },
  {
   "cell_type": "code",
   "execution_count": 7,
   "id": "61833e36-3732-48ad-afed-559dccc4e6c2",
   "metadata": {},
   "outputs": [],
   "source": [
    "logging.info(\"log this line of execution\")"
   ]
  },
  {
   "cell_type": "code",
   "execution_count": 8,
   "id": "2a910fce-9704-492d-9ec1-1ef3e960681a",
   "metadata": {},
   "outputs": [],
   "source": [
    "logging.info(\"this is my print\")"
   ]
  },
  {
   "cell_type": "markdown",
   "id": "4ca84399-ffa2-4008-9b59-31523cb6fbc0",
   "metadata": {},
   "source": [
    "1. NOTSET\n",
    "2. DEBUG\n",
    "3. INFO\n",
    "4. WARNING\n",
    "5. ERROR\n",
    "6. CRITICAL"
   ]
  },
  {
   "cell_type": "code",
   "execution_count": 9,
   "id": "b22f0a0b-abc9-496b-86b2-045eadb15d2a",
   "metadata": {},
   "outputs": [],
   "source": [
    "logging.debug(\"this is my msg\")"
   ]
  },
  {
   "cell_type": "code",
   "execution_count": 10,
   "id": "50d1ba04-ddad-4411-8246-8eba17a34a83",
   "metadata": {},
   "outputs": [],
   "source": [
    "logging.warning(\"this is my warning msg\")"
   ]
  },
  {
   "cell_type": "code",
   "execution_count": 11,
   "id": "c1ae8bd6-ea12-4e45-9237-5884112f2309",
   "metadata": {},
   "outputs": [],
   "source": [
    "logging.error(\"this is my error\")"
   ]
  },
  {
   "cell_type": "code",
   "execution_count": 12,
   "id": "5377e131-77d7-438a-ae3c-091c6cb6532a",
   "metadata": {},
   "outputs": [],
   "source": [
    "logging.critical(\"this is my critical msg\")"
   ]
  },
  {
   "cell_type": "code",
   "execution_count": 13,
   "id": "99024960-d2ba-45ff-92a5-4d4a94907e5a",
   "metadata": {},
   "outputs": [],
   "source": [
    "logging.warning(\"this is my second warning\")"
   ]
  },
  {
   "cell_type": "code",
   "execution_count": 16,
   "id": "d526c0c4-980c-4274-83e9-f57fc97de60c",
   "metadata": {},
   "outputs": [],
   "source": [
    "logging.shutdown()"
   ]
  },
  {
   "cell_type": "code",
   "execution_count": 6,
   "id": "c49f4717-10f4-4526-b786-d7d7e91a4ab5",
   "metadata": {},
   "outputs": [],
   "source": [
    "logging.basicConfig(filename=\"test1.log\", level=logging.DEBUG, format= \"%(asctime)s %(message)s\")"
   ]
  },
  {
   "cell_type": "code",
   "execution_count": 7,
   "id": "d87af232-fc1c-4837-9ffb-7eba9e0965c0",
   "metadata": {},
   "outputs": [],
   "source": [
    "logging.info(\"this is my info logging\")\n",
    "logging.error(\"this is my error msg\")\n",
    "logging.critical(\"this is my critical\")"
   ]
  },
  {
   "cell_type": "code",
   "execution_count": 10,
   "id": "2e63ebae-8dc8-42df-bcaf-ad9fcf8f758a",
   "metadata": {},
   "outputs": [],
   "source": [
    "logging.shutdown()"
   ]
  },
  {
   "cell_type": "code",
   "execution_count": 6,
   "id": "1d414d3f-e5ff-450d-a462-e455fda2301f",
   "metadata": {},
   "outputs": [],
   "source": [
    "logging.basicConfig(filename=\"test2.log\", level=logging.DEBUG, format= \"%(asctime)s %(name)s %(levelname)s %(message)s\")"
   ]
  },
  {
   "cell_type": "code",
   "execution_count": 7,
   "id": "15eb4099-2106-44c5-bd6c-a1dad07e1c83",
   "metadata": {},
   "outputs": [],
   "source": [
    "logging.info(\"this is my info logging\")\n",
    "logging.error(\"this is my error msg\")\n",
    "logging.critical(\"this is my critical\")"
   ]
  },
  {
   "cell_type": "code",
   "execution_count": 8,
   "id": "302e453e-1820-4116-8049-1cc81f5c4fc6",
   "metadata": {},
   "outputs": [],
   "source": [
    "l= [1,2,3,34,3,[2,3,4],\"sudh\",\"kumar\"]"
   ]
  },
  {
   "cell_type": "code",
   "execution_count": 18,
   "id": "527cce1a-ff84-48fd-8a03-7a33952dcdb5",
   "metadata": {},
   "outputs": [],
   "source": [
    "l1_int=[]\n",
    "l2_str=[]\n",
    "\n",
    "for i in l:\n",
    "    logging.info(\"we are iterating through our list and our local var is i\" + str(l))\n",
    "    if type(i)==list:\n",
    "        logging.info(\"i am inside if statement and i am trying to check list type\" + str(i))\n",
    "        for j in i:\n",
    "            logging.info(\"i am in another for loop for list inside list element\" + str(j))\n",
    "            if type(j)==int:\n",
    "                logging.info(\"i am inside if statement\")\n",
    "                l1_int.append(j)\n",
    "    elif type(i)==int:\n",
    "        l1_int.append(i)\n",
    "    else:\n",
    "        if type(i)==str:\n",
    "            l2_str.append(i)\n",
    "      "
   ]
  },
  {
   "cell_type": "code",
   "execution_count": 10,
   "id": "356ca590-ded7-470d-ba5b-569903400a6f",
   "metadata": {},
   "outputs": [
    {
     "data": {
      "text/plain": [
       "[1, 2, 3, 34, 3, 2, 3, 4]"
      ]
     },
     "execution_count": 10,
     "metadata": {},
     "output_type": "execute_result"
    }
   ],
   "source": [
    "l1_int"
   ]
  },
  {
   "cell_type": "code",
   "execution_count": 12,
   "id": "23168bac-1096-4156-b71a-ff785a0e4c24",
   "metadata": {},
   "outputs": [
    {
     "data": {
      "text/plain": [
       "['sudh', 'kumar']"
      ]
     },
     "execution_count": 12,
     "metadata": {},
     "output_type": "execute_result"
    }
   ],
   "source": [
    "l2_str"
   ]
  },
  {
   "cell_type": "code",
   "execution_count": 20,
   "id": "5135f85e-9ef4-41f3-abcb-e30e43c0d425",
   "metadata": {},
   "outputs": [],
   "source": [
    "l1_int=[]\n",
    "l2_str=[]\n",
    "\n",
    "for i in l:\n",
    "    logging.info(\"we are iterating through our list and our local var is i {}\" .format(l))\n",
    "    if type(i)==list:\n",
    "        logging.info(\"i am inside if statement and i am trying to check list type\" + str(i))\n",
    "        for j in i:\n",
    "            logging.info(\"i am in another for loop for list inside list element\" + str(j))\n",
    "            if type(j)==int:\n",
    "                logging.info(\"i am inside if statement\")\n",
    "                l1_int.append(j)\n",
    "    elif type(i)==int:\n",
    "        l1_int.append(i)\n",
    "    else:\n",
    "        if type(i)==str:\n",
    "            l2_str.append(i)\n",
    "logging.info(\"my final result for int is {l1} and str is {l2}\" .format(l1=l1_int, l2=l2_str))"
   ]
  },
  {
   "cell_type": "markdown",
   "id": "4facad82-76ab-4936-82e7-e8e879575bcb",
   "metadata": {},
   "source": [
    "****************************************************************************vid5\n",
    "in DS python lab"
   ]
  },
  {
   "cell_type": "code",
   "execution_count": null,
   "id": "c099bd81-9721-4101-a7f2-ca1b6262d99d",
   "metadata": {},
   "outputs": [],
   "source": []
  }
 ],
 "metadata": {
  "kernelspec": {
   "display_name": "Python 3 (ipykernel)",
   "language": "python",
   "name": "python3"
  },
  "language_info": {
   "codemirror_mode": {
    "name": "ipython",
    "version": 3
   },
   "file_extension": ".py",
   "mimetype": "text/x-python",
   "name": "python",
   "nbconvert_exporter": "python",
   "pygments_lexer": "ipython3",
   "version": "3.10.8"
  }
 },
 "nbformat": 4,
 "nbformat_minor": 5
}
