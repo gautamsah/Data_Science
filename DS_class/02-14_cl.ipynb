{
 "cells": [
  {
   "cell_type": "code",
   "execution_count": 1,
   "id": "eea8b855-96ff-45d9-a16b-2d3496ad21cf",
   "metadata": {},
   "outputs": [],
   "source": [
    "import threading"
   ]
  },
  {
   "cell_type": "code",
   "execution_count": 7,
   "id": "bb424212-079f-417c-9268-e12e4c1cedd7",
   "metadata": {},
   "outputs": [],
   "source": [
    "def test(id):\n",
    "    print(\"prog start %d \"% id)"
   ]
  },
  {
   "cell_type": "code",
   "execution_count": 8,
   "id": "349ced43-bb24-4184-b00e-73eb7383daf3",
   "metadata": {},
   "outputs": [
    {
     "name": "stdout",
     "output_type": "stream",
     "text": [
      "prog start 45 \n"
     ]
    }
   ],
   "source": [
    "test(45)"
   ]
  },
  {
   "cell_type": "code",
   "execution_count": 12,
   "id": "bbb9eabf-f16d-4561-a466-b56e50fcef4e",
   "metadata": {},
   "outputs": [],
   "source": [
    "thread=[threading.Thread(target=test, args=(i,)) for i in range(10)]"
   ]
  },
  {
   "cell_type": "code",
   "execution_count": 13,
   "id": "8e8c0163-e0fb-4f07-b035-625beb79b6c0",
   "metadata": {},
   "outputs": [
    {
     "name": "stdout",
     "output_type": "stream",
     "text": [
      "prog start 0 \n",
      "prog start 1 \n",
      "prog start 2 \n",
      "prog start 3 \n",
      "prog start 4 \n",
      "prog start 5 \n",
      "prog start 6 \n",
      "prog start 7 \n",
      "prog start 8 \n",
      "prog start 9 \n"
     ]
    }
   ],
   "source": [
    "for t in thread:\n",
    "    t.start()"
   ]
  },
  {
   "cell_type": "code",
   "execution_count": 14,
   "id": "7f2109d2-b350-48af-a6fc-2a465a3a4520",
   "metadata": {},
   "outputs": [
    {
     "data": {
      "text/plain": [
       "[0, 1, 2, 3, 4, 5, 6, 7, 8, 9]"
      ]
     },
     "execution_count": 14,
     "metadata": {},
     "output_type": "execute_result"
    }
   ],
   "source": [
    "list(range(10))"
   ]
  },
  {
   "cell_type": "code",
   "execution_count": 15,
   "id": "44190cbd-34da-482f-939d-e1286118c58f",
   "metadata": {},
   "outputs": [
    {
     "data": {
      "text/plain": [
       "[<Thread(Thread-15 (test), stopped 139851314755136)>,\n",
       " <Thread(Thread-16 (test), stopped 139851314755136)>,\n",
       " <Thread(Thread-17 (test), stopped 139851314755136)>,\n",
       " <Thread(Thread-18 (test), stopped 139851314755136)>,\n",
       " <Thread(Thread-19 (test), stopped 139851314755136)>,\n",
       " <Thread(Thread-20 (test), stopped 139851314755136)>,\n",
       " <Thread(Thread-21 (test), stopped 139851314755136)>,\n",
       " <Thread(Thread-22 (test), stopped 139851314755136)>,\n",
       " <Thread(Thread-23 (test), stopped 139851314755136)>,\n",
       " <Thread(Thread-24 (test), stopped 139851314755136)>]"
      ]
     },
     "execution_count": 15,
     "metadata": {},
     "output_type": "execute_result"
    }
   ],
   "source": [
    "thread"
   ]
  },
  {
   "cell_type": "code",
   "execution_count": 17,
   "id": "339f3b16-695b-4299-b04d-63eef9fe064c",
   "metadata": {},
   "outputs": [
    {
     "data": {
      "text/plain": [
       "139851924137408"
      ]
     },
     "execution_count": 17,
     "metadata": {},
     "output_type": "execute_result"
    }
   ],
   "source": [
    "id(thread)"
   ]
  },
  {
   "cell_type": "code",
   "execution_count": 3,
   "id": "e7e2bdb9-43e3-42f8-8806-6cddf1f84aed",
   "metadata": {},
   "outputs": [],
   "source": [
    "import threading\n",
    "import urllib.request\n",
    "\n",
    "def file_download(url, filename):\n",
    "    urllib.request.urlretrieve(url, filename)"
   ]
  },
  {
   "cell_type": "code",
   "execution_count": 4,
   "id": "697ff2dd-0b26-436d-bd8a-cf7add004871",
   "metadata": {},
   "outputs": [],
   "source": [
    "file_download(\"https://raw.githubusercontent.com/gautamsah/GitTutorial/master/hello.txt\", \"resources/02-14/test.txt\")"
   ]
  },
  {
   "cell_type": "code",
   "execution_count": 5,
   "id": "e97c6814-4b38-479a-aeb7-45dc9fd3e4d5",
   "metadata": {},
   "outputs": [],
   "source": [
    "url_list= [\"https://raw.githubusercontent.com/gautamsah/GitTutorial/master/hello.txt\",\n",
    "           \"https://raw.githubusercontent.com/gautamsah/GitTutorial/master/first.txt\",\n",
    "           \"https://raw.githubusercontent.com/gautamsah/GitTutorial/master/error.txt\"]"
   ]
  },
  {
   "cell_type": "code",
   "execution_count": 6,
   "id": "dad44bb3-92a0-4f23-acd5-0764b1232b41",
   "metadata": {},
   "outputs": [
    {
     "data": {
      "text/plain": [
       "['https://raw.githubusercontent.com/gautamsah/GitTutorial/master/hello.txt',\n",
       " 'https://raw.githubusercontent.com/gautamsah/GitTutorial/master/first.txt',\n",
       " 'https://raw.githubusercontent.com/gautamsah/GitTutorial/master/error.txt']"
      ]
     },
     "execution_count": 6,
     "metadata": {},
     "output_type": "execute_result"
    }
   ],
   "source": [
    "url_list"
   ]
  },
  {
   "cell_type": "code",
   "execution_count": 7,
   "id": "8a2bd857-33d2-489f-9b9b-476e099aee51",
   "metadata": {},
   "outputs": [],
   "source": [
    "file_name_list=[\"resources/02-14/data1.txt\", \"resources/02-14/data2.txt\", \"resources/02-14/data3.txt\"]"
   ]
  },
  {
   "cell_type": "code",
   "execution_count": 8,
   "id": "75df7084-e573-4cb0-b417-9740208e208c",
   "metadata": {},
   "outputs": [
    {
     "data": {
      "text/plain": [
       "['resources/02-14/data1.txt',\n",
       " 'resources/02-14/data2.txt',\n",
       " 'resources/02-14/data3.txt']"
      ]
     },
     "execution_count": 8,
     "metadata": {},
     "output_type": "execute_result"
    }
   ],
   "source": [
    "file_name_list"
   ]
  },
  {
   "cell_type": "code",
   "execution_count": 9,
   "id": "5cc4e93a-8899-4312-8a72-3b0155b52285",
   "metadata": {},
   "outputs": [],
   "source": [
    "ther=[threading.Thread(target=file_download, args=(url_list[i], file_name_list[i])) for i in range(len(url_list))]"
   ]
  },
  {
   "cell_type": "code",
   "execution_count": 10,
   "id": "69c5a6db-b0d5-4051-b115-ffdb13f0da79",
   "metadata": {},
   "outputs": [
    {
     "data": {
      "text/plain": [
       "[<Thread(Thread-5 (file_download), initial)>,\n",
       " <Thread(Thread-6 (file_download), initial)>,\n",
       " <Thread(Thread-7 (file_download), initial)>]"
      ]
     },
     "execution_count": 10,
     "metadata": {},
     "output_type": "execute_result"
    }
   ],
   "source": [
    "ther"
   ]
  },
  {
   "cell_type": "code",
   "execution_count": 15,
   "id": "7fc14d79-37d4-4001-b363-94b93dcfd906",
   "metadata": {},
   "outputs": [
    {
     "ename": "AttributeError",
     "evalue": "'list' object has no attribute 'start'",
     "output_type": "error",
     "traceback": [
      "\u001b[0;31m---------------------------------------------------------------------------\u001b[0m",
      "\u001b[0;31mAttributeError\u001b[0m                            Traceback (most recent call last)",
      "Cell \u001b[0;32mIn[15], line 1\u001b[0m\n\u001b[0;32m----> 1\u001b[0m \u001b[43mther\u001b[49m\u001b[38;5;241;43m.\u001b[39;49m\u001b[43mstart\u001b[49m()\n",
      "\u001b[0;31mAttributeError\u001b[0m: 'list' object has no attribute 'start'"
     ]
    }
   ],
   "source": [
    "ther.start()"
   ]
  },
  {
   "cell_type": "code",
   "execution_count": 11,
   "id": "d13191ee-fa89-4c2b-b652-6915eefe2ab2",
   "metadata": {},
   "outputs": [],
   "source": [
    "for t in ther:\n",
    "    t.start()"
   ]
  },
  {
   "cell_type": "code",
   "execution_count": 12,
   "id": "21179a77-f764-4a1a-b438-b238d5473d1b",
   "metadata": {},
   "outputs": [
    {
     "data": {
      "text/plain": [
       "[<Thread(Thread-5 (file_download), stopped 139783921718848)>,\n",
       " <Thread(Thread-6 (file_download), started 139783913326144)>,\n",
       " <Thread(Thread-7 (file_download), started 139783904933440)>]"
      ]
     },
     "execution_count": 12,
     "metadata": {},
     "output_type": "execute_result"
    }
   ],
   "source": [
    "ther"
   ]
  },
  {
   "cell_type": "code",
   "execution_count": 13,
   "id": "a4c7b2e2-fd71-47e3-a11e-9acd364a77ed",
   "metadata": {},
   "outputs": [
    {
     "data": {
      "text/plain": [
       "139784281663808"
      ]
     },
     "execution_count": 13,
     "metadata": {},
     "output_type": "execute_result"
    }
   ],
   "source": [
    "id(ther)"
   ]
  },
  {
   "cell_type": "code",
   "execution_count": 14,
   "id": "02d49601-f02c-4fe4-b679-d33a8d56ad73",
   "metadata": {},
   "outputs": [],
   "source": [
    "import time"
   ]
  },
  {
   "cell_type": "code",
   "execution_count": 24,
   "id": "12a50936-653e-4b23-91dd-62c97bdd4eba",
   "metadata": {},
   "outputs": [],
   "source": [
    "def test1(id):\n",
    "    for i  in range(10):\n",
    "        print(\"test1 %d printing %d %s\" %(id,i,time.ctime()))\n",
    "        time.sleep(1)"
   ]
  },
  {
   "cell_type": "code",
   "execution_count": 25,
   "id": "fcb8d571-df12-4448-aafe-29ddc2ab8676",
   "metadata": {},
   "outputs": [
    {
     "name": "stdout",
     "output_type": "stream",
     "text": [
      "test1 1 printing 0 Fri Feb 24 09:40:20 2023\n",
      "test1 1 printing 1 Fri Feb 24 09:40:21 2023\n",
      "test1 1 printing 2 Fri Feb 24 09:40:22 2023\n",
      "test1 1 printing 3 Fri Feb 24 09:40:23 2023\n",
      "test1 1 printing 4 Fri Feb 24 09:40:24 2023\n",
      "test1 1 printing 5 Fri Feb 24 09:40:25 2023\n",
      "test1 1 printing 6 Fri Feb 24 09:40:26 2023\n",
      "test1 1 printing 7 Fri Feb 24 09:40:27 2023\n",
      "test1 1 printing 8 Fri Feb 24 09:40:28 2023\n",
      "test1 1 printing 9 Fri Feb 24 09:40:29 2023\n"
     ]
    }
   ],
   "source": [
    "test1(1)"
   ]
  },
  {
   "cell_type": "code",
   "execution_count": 26,
   "id": "bb7a5d1a-f604-4d8a-9482-9d46a16be5ed",
   "metadata": {},
   "outputs": [],
   "source": [
    "thread1=[threading.Thread(target=test1, args=(i,)) for i in range(3)]"
   ]
  },
  {
   "cell_type": "code",
   "execution_count": 27,
   "id": "04805db5-bc2d-4536-8361-240c6d7e760d",
   "metadata": {},
   "outputs": [
    {
     "name": "stdout",
     "output_type": "stream",
     "text": [
      "test1 0 printing 0 Fri Feb 24 09:40:30 2023\n",
      "test1 1 printing 0 Fri Feb 24 09:40:30 2023\n",
      "test1 2 printing 0 Fri Feb 24 09:40:30 2023\n",
      "test1 1 printing 1 Fri Feb 24 09:40:31 2023\n",
      "test1 0 printing 1 Fri Feb 24 09:40:31 2023\n",
      "test1 2 printing 1 Fri Feb 24 09:40:31 2023\n",
      "test1 1 printing 2 Fri Feb 24 09:40:32 2023test1 0 printing 2 Fri Feb 24 09:40:32 2023\n",
      "test1 2 printing 2 Fri Feb 24 09:40:32 2023\n",
      "\n",
      "test1 0 printing 3 Fri Feb 24 09:40:33 2023\n",
      "test1 1 printing 3 Fri Feb 24 09:40:33 2023\n",
      "test1 2 printing 3 Fri Feb 24 09:40:33 2023\n",
      "test1 0 printing 4 Fri Feb 24 09:40:34 2023\n",
      "test1 1 printing 4 Fri Feb 24 09:40:34 2023\n",
      "test1 2 printing 4 Fri Feb 24 09:40:34 2023\n",
      "test1 0 printing 5 Fri Feb 24 09:40:35 2023\n",
      "test1 1 printing 5 Fri Feb 24 09:40:35 2023\n",
      "test1 2 printing 5 Fri Feb 24 09:40:35 2023\n",
      "test1 0 printing 6 Fri Feb 24 09:40:36 2023\n",
      "test1 1 printing 6 Fri Feb 24 09:40:36 2023\n",
      "test1 2 printing 6 Fri Feb 24 09:40:36 2023\n",
      "test1 0 printing 7 Fri Feb 24 09:40:37 2023\n",
      "test1 1 printing 7 Fri Feb 24 09:40:37 2023\n",
      "test1 2 printing 7 Fri Feb 24 09:40:37 2023\n",
      "test1 0 printing 8 Fri Feb 24 09:40:38 2023\n",
      "test1 1 printing 8 Fri Feb 24 09:40:38 2023\n",
      "test1 2 printing 8 Fri Feb 24 09:40:38 2023\n",
      "test1 0 printing 9 Fri Feb 24 09:40:39 2023\n",
      "test1 1 printing 9 Fri Feb 24 09:40:39 2023\n",
      "test1 2 printing 9 Fri Feb 24 09:40:39 2023\n"
     ]
    }
   ],
   "source": [
    "for t in thread1:\n",
    "    t.start()"
   ]
  },
  {
   "cell_type": "code",
   "execution_count": 19,
   "id": "6e01c0c5-563a-4d26-9782-4a0284fdfe60",
   "metadata": {},
   "outputs": [],
   "source": [
    "import time"
   ]
  },
  {
   "cell_type": "code",
   "execution_count": 20,
   "id": "aaa89192-342e-4e0d-bf59-f5b51711f8c3",
   "metadata": {},
   "outputs": [],
   "source": [
    "def test1(id):\n",
    "    for i  in range(10):\n",
    "        print(\"test1 %d printing %d\" %(id,i))\n",
    "        #time.sleep(1)"
   ]
  },
  {
   "cell_type": "code",
   "execution_count": 21,
   "id": "3995262b-0845-4a8a-8baf-c6b0da3ae1e3",
   "metadata": {},
   "outputs": [
    {
     "name": "stdout",
     "output_type": "stream",
     "text": [
      "test1 1 printing 0\n",
      "test1 1 printing 1\n",
      "test1 1 printing 2\n",
      "test1 1 printing 3\n",
      "test1 1 printing 4\n",
      "test1 1 printing 5\n",
      "test1 1 printing 6\n",
      "test1 1 printing 7\n",
      "test1 1 printing 8\n",
      "test1 1 printing 9\n"
     ]
    }
   ],
   "source": [
    "test1(1)"
   ]
  },
  {
   "cell_type": "code",
   "execution_count": 22,
   "id": "f64705f8-4596-4b29-b38e-bdba52b1c34e",
   "metadata": {},
   "outputs": [],
   "source": [
    "thread1=[threading.Thread(target=test1, args=(i,)) for i in range(3)]"
   ]
  },
  {
   "cell_type": "code",
   "execution_count": 23,
   "id": "2a3b12ab-15c3-41f9-aa42-dee2f9320341",
   "metadata": {},
   "outputs": [
    {
     "name": "stdout",
     "output_type": "stream",
     "text": [
      "test1 0 printing 0\n",
      "test1 0 printing 1\n",
      "test1 0 printing 2\n",
      "test1 0 printing 3\n",
      "test1 0 printing 4\n",
      "test1 0 printing 5\n",
      "test1 0 printing 6\n",
      "test1 0 printing 7\n",
      "test1 0 printing 8\n",
      "test1 0 printing 9\n",
      "test1 1 printing 0\n",
      "test1 1 printing 1\n",
      "test1 1 printing 2\n",
      "test1 1 printing 3\n",
      "test1 1 printing 4\n",
      "test1 1 printing 5\n",
      "test1 1 printing 6\n",
      "test1 1 printing 7\n",
      "test1 1 printing 8\n",
      "test1 1 printing 9\n",
      "test1 2 printing 0\n",
      "test1 2 printing 1\n",
      "test1 2 printing 2\n",
      "test1 2 printing 3\n",
      "test1 2 printing 4\n",
      "test1 2 printing 5\n",
      "test1 2 printing 6\n",
      "test1 2 printing 7\n",
      "test1 2 printing 8\n",
      "test1 2 printing 9\n"
     ]
    }
   ],
   "source": [
    "for t in thread1:\n",
    "    t.start()"
   ]
  },
  {
   "cell_type": "code",
   "execution_count": 35,
   "id": "f48967da-8d89-4eda-a677-dd1c61fb8daa",
   "metadata": {},
   "outputs": [],
   "source": [
    "shared_var=0\n",
    "lock_var=threading.Lock()"
   ]
  },
  {
   "cell_type": "code",
   "execution_count": 36,
   "id": "edce21df-193a-407d-89bf-9f84185ba142",
   "metadata": {},
   "outputs": [],
   "source": [
    "def test2(id):\n",
    "    global shared_var\n",
    "    with lock_var:\n",
    "        shared_var=shared_var+1\n",
    "        print(\"test2 id is %d has increased the shared variable by %d \" %(id,shared_var))"
   ]
  },
  {
   "cell_type": "code",
   "execution_count": 37,
   "id": "1e10870c-bbb1-4513-a57b-13c176a623d6",
   "metadata": {},
   "outputs": [],
   "source": [
    "ther3= [threading.Thread(target=test2, args=(i,)) for i in range (3)]"
   ]
  },
  {
   "cell_type": "code",
   "execution_count": 38,
   "id": "a05483e1-4b9f-4b6b-af52-798d6c6740dc",
   "metadata": {},
   "outputs": [
    {
     "data": {
      "text/plain": [
       "[<Thread(Thread-20 (test2), initial)>,\n",
       " <Thread(Thread-21 (test2), initial)>,\n",
       " <Thread(Thread-22 (test2), initial)>]"
      ]
     },
     "execution_count": 38,
     "metadata": {},
     "output_type": "execute_result"
    }
   ],
   "source": [
    "ther3"
   ]
  },
  {
   "cell_type": "code",
   "execution_count": 39,
   "id": "beeb3b8d-4ac1-4bf5-8f76-67d15c60c2dc",
   "metadata": {},
   "outputs": [
    {
     "name": "stdout",
     "output_type": "stream",
     "text": [
      "test2 id is 0 has increased the shared variable by 1 \n",
      "test2 id is 1 has increased the shared variable by 2 \n",
      "test2 id is 2 has increased the shared variable by 3 \n"
     ]
    }
   ],
   "source": [
    "for t in ther3:\n",
    "    t.start()"
   ]
  },
  {
   "cell_type": "code",
   "execution_count": 40,
   "id": "a3453d1d-9e1d-41da-8518-358ae2df7f6e",
   "metadata": {},
   "outputs": [
    {
     "name": "stdout",
     "output_type": "stream",
     "text": [
      "test2 id is 0 has increased the shared variable by 1 \n",
      "test2 id is 1 has increased the shared variable by 2 \n",
      "test2 id is 2 has increased the shared variable by 3 \n"
     ]
    }
   ],
   "source": [
    "shared_var=0\n",
    "lock_var=threading.Lock()\n",
    "def test2(id):\n",
    "    global shared_var\n",
    "    with lock_var:\n",
    "        shared_var=shared_var+1\n",
    "        print(\"test2 id is %d has increased the shared variable by %d \" %(id,shared_var))\n",
    "        time.sleep(1)\n",
    "ther3= [threading.Thread(target=test2, args=(i,)) for i in range (3)]\n",
    "for t in ther3:\n",
    "    t.start()"
   ]
  },
  {
   "cell_type": "code",
   "execution_count": null,
   "id": "2e392261-7c64-4e85-bb6e-30c734652afb",
   "metadata": {},
   "outputs": [],
   "source": []
  }
 ],
 "metadata": {
  "kernelspec": {
   "display_name": "Python 3 (ipykernel)",
   "language": "python",
   "name": "python3"
  },
  "language_info": {
   "codemirror_mode": {
    "name": "ipython",
    "version": 3
   },
   "file_extension": ".py",
   "mimetype": "text/x-python",
   "name": "python",
   "nbconvert_exporter": "python",
   "pygments_lexer": "ipython3",
   "version": "3.10.8"
  }
 },
 "nbformat": 4,
 "nbformat_minor": 5
}
