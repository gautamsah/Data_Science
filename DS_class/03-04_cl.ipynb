{
 "cells": [
  {
   "cell_type": "markdown",
   "id": "8d75134b-86f6-4ac1-aef6-cad825ed027a",
   "metadata": {},
   "source": [
    "https://colab.research.google.com/drive/1a1jQPmgKgweyHm-dZVeCavDOb2nWYrlI?usp=share_link"
   ]
  }
 ],
 "metadata": {
  "kernelspec": {
   "display_name": "Python 3 (ipykernel)",
   "language": "python",
   "name": "python3"
  },
  "language_info": {
   "codemirror_mode": {
    "name": "ipython",
    "version": 3
   },
   "file_extension": ".py",
   "mimetype": "text/x-python",
   "name": "python",
   "nbconvert_exporter": "python",
   "pygments_lexer": "ipython3",
   "version": "3.10.8"
  }
 },
 "nbformat": 4,
 "nbformat_minor": 5
}
