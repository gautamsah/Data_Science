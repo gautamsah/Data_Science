{
 "cells": [
  {
   "cell_type": "markdown",
   "id": "e72ceacd-8e0c-488e-b455-d895aed7fe5b",
   "metadata": {},
   "source": [
    "https://colab.research.google.com/drive/1ZAy8NJEbfscgsxqBD6rn51zwc3wqxel-?usp=share_link"
   ]
  }
 ],
 "metadata": {
  "kernelspec": {
   "display_name": "Python 3 (ipykernel)",
   "language": "python",
   "name": "python3"
  },
  "language_info": {
   "codemirror_mode": {
    "name": "ipython",
    "version": 3
   },
   "file_extension": ".py",
   "mimetype": "text/x-python",
   "name": "python",
   "nbconvert_exporter": "python",
   "pygments_lexer": "ipython3",
   "version": "3.10.8"
  }
 },
 "nbformat": 4,
 "nbformat_minor": 5
}
