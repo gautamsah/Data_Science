{
 "cells": [
  {
   "cell_type": "code",
   "execution_count": 26,
   "id": "1eff61ef-d51d-4e1d-bbbd-3076e34f55c7",
   "metadata": {},
   "outputs": [],
   "source": [
    "def test(a, b):\n",
    "    return a+b"
   ]
  },
  {
   "cell_type": "code",
   "execution_count": 27,
   "id": "157ed3ed-8e2b-4178-8775-99e251292e8a",
   "metadata": {},
   "outputs": [
    {
     "data": {
      "text/plain": [
       "7"
      ]
     },
     "execution_count": 27,
     "metadata": {},
     "output_type": "execute_result"
    }
   ],
   "source": [
    "test(3,4)"
   ]
  },
  {
   "cell_type": "code",
   "execution_count": 28,
   "id": "51b76fb8-5526-4fd6-b5a0-39dcdf21be6c",
   "metadata": {},
   "outputs": [
    {
     "data": {
      "text/plain": [
       "'sudhkumar'"
      ]
     },
     "execution_count": 28,
     "metadata": {},
     "output_type": "execute_result"
    }
   ],
   "source": [
    "test(\"sudh\",\"kumar\")"
   ]
  },
  {
   "cell_type": "code",
   "execution_count": 29,
   "id": "b0bfa973-0f7e-41bd-92f6-6194eaf969fa",
   "metadata": {},
   "outputs": [
    {
     "data": {
      "text/plain": [
       "[3, 4, 5, 6, 45, 767, 67]"
      ]
     },
     "execution_count": 29,
     "metadata": {},
     "output_type": "execute_result"
    }
   ],
   "source": [
    "test([3,4,5,6],[45,767,67])"
   ]
  },
  {
   "cell_type": "code",
   "execution_count": 30,
   "id": "87ff059b-d550-4801-8f17-525c4f962b40",
   "metadata": {},
   "outputs": [],
   "source": [
    "class data_science:\n",
    "    def syllabus(self):\n",
    "        print(\"This is my syllabus for data science masters\")"
   ]
  },
  {
   "cell_type": "code",
   "execution_count": 31,
   "id": "3dfd3bf6-05f2-4dc6-90fa-df880a532eaf",
   "metadata": {},
   "outputs": [],
   "source": [
    "class web_dev:\n",
    "    def syllabus(self):\n",
    "        print(\"Thsi is my syllabus for web dev\")"
   ]
  },
  {
   "cell_type": "code",
   "execution_count": 32,
   "id": "960d449a-58a6-4c9b-86ca-a3e138371f15",
   "metadata": {},
   "outputs": [],
   "source": [
    "def class_parcer(class_obj):\n",
    "    for i in class_obj:\n",
    "        i.syllabus()"
   ]
  },
  {
   "cell_type": "code",
   "execution_count": 33,
   "id": "3644d0c4-be9c-463f-8fce-9b609edc0a83",
   "metadata": {},
   "outputs": [],
   "source": [
    "data_science=data_science()"
   ]
  },
  {
   "cell_type": "code",
   "execution_count": 34,
   "id": "ac0da058-0eca-4927-931f-fd14c8451919",
   "metadata": {},
   "outputs": [],
   "source": [
    "web_de=web_dev()"
   ]
  },
  {
   "cell_type": "code",
   "execution_count": 37,
   "id": "23d42444-8faa-43e5-8172-e30add7980de",
   "metadata": {},
   "outputs": [],
   "source": [
    "class_obj=[data_science, web_de]"
   ]
  },
  {
   "cell_type": "code",
   "execution_count": 38,
   "id": "5a0f2e57-38a1-4606-92da-8666c0caab6c",
   "metadata": {},
   "outputs": [
    {
     "name": "stdout",
     "output_type": "stream",
     "text": [
      "This is my syllabus for data science masters\n",
      "Thsi is my syllabus for web dev\n"
     ]
    }
   ],
   "source": [
    "class_parcer(class_obj)"
   ]
  },
  {
   "cell_type": "markdown",
   "id": "ae81e768-c29d-4d16-9fd6-7f6fa2412d95",
   "metadata": {},
   "source": [
    "****************************************************************vid2"
   ]
  },
  {
   "cell_type": "code",
   "execution_count": 41,
   "id": "7ebd1669-d10b-4692-b911-515e082cddd1",
   "metadata": {},
   "outputs": [],
   "source": [
    "class test:\n",
    "    \n",
    "    def __init__(self, a, b):\n",
    "        self.a=a\n",
    "        self.b=b"
   ]
  },
  {
   "cell_type": "code",
   "execution_count": 42,
   "id": "a50aa8a3-13d4-4558-acbb-6b4f43660100",
   "metadata": {},
   "outputs": [],
   "source": [
    "t=test(23,34)"
   ]
  },
  {
   "cell_type": "code",
   "execution_count": 43,
   "id": "0d07419b-67d7-472b-b608-aa1c827f75de",
   "metadata": {},
   "outputs": [],
   "source": [
    "t.a=2345345"
   ]
  },
  {
   "cell_type": "code",
   "execution_count": 44,
   "id": "a84ab0b1-7a18-4563-856c-b091e03bdc3d",
   "metadata": {},
   "outputs": [
    {
     "data": {
      "text/plain": [
       "2345345"
      ]
     },
     "execution_count": 44,
     "metadata": {},
     "output_type": "execute_result"
    }
   ],
   "source": [
    "t.a"
   ]
  },
  {
   "cell_type": "code",
   "execution_count": 52,
   "id": "18eb7b54-ad18-4cb7-ab44-23f90e0721a0",
   "metadata": {},
   "outputs": [],
   "source": [
    "class car:\n",
    "    def __init__(self,year,make,model,speed):\n",
    "        self.__year=year\n",
    "        self.__make=make\n",
    "        self.__model=model\n",
    "        self.__speed=0\n",
    "    \n",
    "    def set_speed(self, speed):\n",
    "        self.__speed=0 if speed < 0 else speed\n",
    "    \n",
    "    def get_speed(self):\n",
    "        return self.__speed"
   ]
  },
  {
   "cell_type": "code",
   "execution_count": 53,
   "id": "cf250ff2-3333-47a5-b736-d2063bab0562",
   "metadata": {},
   "outputs": [],
   "source": [
    "c=car(2021, \"toyota\", \"innova\", 12)"
   ]
  },
  {
   "cell_type": "code",
   "execution_count": 54,
   "id": "6bc625f2-3f84-447a-bf7e-845e0d36fc79",
   "metadata": {},
   "outputs": [
    {
     "data": {
      "text/plain": [
       "2021"
      ]
     },
     "execution_count": 54,
     "metadata": {},
     "output_type": "execute_result"
    }
   ],
   "source": [
    "c._car__year"
   ]
  },
  {
   "cell_type": "code",
   "execution_count": 55,
   "id": "0f2bf81e-a6d4-4594-a6cb-14722b0974fa",
   "metadata": {},
   "outputs": [],
   "source": [
    "c.set_speed(-3245)"
   ]
  },
  {
   "cell_type": "code",
   "execution_count": 56,
   "id": "d227ad9b-95b1-4388-b038-69aab364e498",
   "metadata": {},
   "outputs": [
    {
     "data": {
      "text/plain": [
       "0"
      ]
     },
     "execution_count": 56,
     "metadata": {},
     "output_type": "execute_result"
    }
   ],
   "source": [
    "c.get_speed()"
   ]
  },
  {
   "cell_type": "code",
   "execution_count": 6,
   "id": "24382815-1f04-4ed5-8e39-ec17df0b6bf6",
   "metadata": {},
   "outputs": [],
   "source": [
    "class bank_account:\n",
    "    def __init__(self, balance):\n",
    "        self.__balance=balance\n",
    "    \n",
    "    def deposit(self, amount):\n",
    "        self.__balance=self.__balance+amount\n",
    "        \n",
    "    def withdraw(self, amount):\n",
    "        if self.__balance>=amount:\n",
    "            self.__balance=self.__balance-amount\n",
    "            return True\n",
    "        else:\n",
    "            return False\n",
    "    \n",
    "    def get_balance(self):\n",
    "        return self.__balance"
   ]
  },
  {
   "cell_type": "code",
   "execution_count": 7,
   "id": "cefc0e8c-3b04-400a-8f14-effbc4309c93",
   "metadata": {},
   "outputs": [],
   "source": [
    "sudh=bank_account(1000)"
   ]
  },
  {
   "cell_type": "code",
   "execution_count": 8,
   "id": "3eb9cdf2-4b40-4c5d-895b-813553172829",
   "metadata": {},
   "outputs": [
    {
     "data": {
      "text/plain": [
       "1000"
      ]
     },
     "execution_count": 8,
     "metadata": {},
     "output_type": "execute_result"
    }
   ],
   "source": [
    "sudh.get_balance()"
   ]
  },
  {
   "cell_type": "code",
   "execution_count": 9,
   "id": "bc7407a8-70f5-48a7-b8b5-782991643ec5",
   "metadata": {},
   "outputs": [],
   "source": [
    "sudh.deposit(5000)"
   ]
  },
  {
   "cell_type": "code",
   "execution_count": 10,
   "id": "b39765d3-58fe-4dc7-98d1-7eaca7d04ab7",
   "metadata": {},
   "outputs": [
    {
     "data": {
      "text/plain": [
       "6000"
      ]
     },
     "execution_count": 10,
     "metadata": {},
     "output_type": "execute_result"
    }
   ],
   "source": [
    "sudh.get_balance()"
   ]
  },
  {
   "cell_type": "code",
   "execution_count": 11,
   "id": "e7e307c4-b226-47d3-9326-ccc97116fcf3",
   "metadata": {},
   "outputs": [],
   "source": [
    "sudh.deposit(1000)"
   ]
  },
  {
   "cell_type": "code",
   "execution_count": 12,
   "id": "90e28ad1-8ae4-4d23-a829-a5fab34cf663",
   "metadata": {},
   "outputs": [
    {
     "data": {
      "text/plain": [
       "7000"
      ]
     },
     "execution_count": 12,
     "metadata": {},
     "output_type": "execute_result"
    }
   ],
   "source": [
    "sudh.get_balance()"
   ]
  },
  {
   "cell_type": "code",
   "execution_count": 13,
   "id": "85522c17-62d2-461d-8dfc-0bb72cd37dc0",
   "metadata": {},
   "outputs": [
    {
     "data": {
      "text/plain": [
       "False"
      ]
     },
     "execution_count": 13,
     "metadata": {},
     "output_type": "execute_result"
    }
   ],
   "source": [
    "sudh.withdraw(9000)"
   ]
  },
  {
   "cell_type": "code",
   "execution_count": 14,
   "id": "2e51e4f2-1c56-452a-8d98-32fc3096f9b8",
   "metadata": {},
   "outputs": [
    {
     "data": {
      "text/plain": [
       "True"
      ]
     },
     "execution_count": 14,
     "metadata": {},
     "output_type": "execute_result"
    }
   ],
   "source": [
    "sudh.withdraw(2000)"
   ]
  },
  {
   "cell_type": "code",
   "execution_count": 15,
   "id": "93ea98e0-f451-467a-b71b-31cfaee3d44c",
   "metadata": {},
   "outputs": [
    {
     "data": {
      "text/plain": [
       "5000"
      ]
     },
     "execution_count": 15,
     "metadata": {},
     "output_type": "execute_result"
    }
   ],
   "source": [
    "sudh.get_balance()"
   ]
  },
  {
   "cell_type": "markdown",
   "id": "d976db27-8828-49cf-a260-b57355e8b115",
   "metadata": {},
   "source": [
    "************************************************************************vid3"
   ]
  },
  {
   "cell_type": "code",
   "execution_count": 5,
   "id": "e8a96f5c-4aaa-4716-8bbf-6968e0e941cc",
   "metadata": {},
   "outputs": [],
   "source": [
    "class test:\n",
    "    def test_meth(self):\n",
    "        return \"this is my first class\"\n",
    "    "
   ]
  },
  {
   "cell_type": "code",
   "execution_count": 6,
   "id": "3d498377-0bd1-4281-a2f9-3744b357933d",
   "metadata": {},
   "outputs": [],
   "source": [
    "class child_test(test):\n",
    "    pass"
   ]
  },
  {
   "cell_type": "code",
   "execution_count": 7,
   "id": "65dc774b-abf3-40c6-88cf-cd2dba9c874e",
   "metadata": {},
   "outputs": [],
   "source": [
    "child_test_obj=child_test()"
   ]
  },
  {
   "cell_type": "code",
   "execution_count": 8,
   "id": "d8ecee80-5cbc-49df-b508-47f96c654a23",
   "metadata": {},
   "outputs": [
    {
     "data": {
      "text/plain": [
       "'this is my first class'"
      ]
     },
     "execution_count": 8,
     "metadata": {},
     "output_type": "execute_result"
    }
   ],
   "source": [
    "child_test_obj.test_meth()"
   ]
  },
  {
   "cell_type": "code",
   "execution_count": 9,
   "id": "752b3263-3e67-4b31-b29e-38e0a9c372ad",
   "metadata": {},
   "outputs": [],
   "source": [
    "class class1:\n",
    "    \n",
    "    def test_class1(self):\n",
    "        return \"this id a meth from class1\"\n",
    " "
   ]
  },
  {
   "cell_type": "code",
   "execution_count": 10,
   "id": "8a98986c-a651-49b5-b644-0db51978ce5f",
   "metadata": {},
   "outputs": [],
   "source": [
    "class class2(class1):\n",
    "    def test_class2(self):\n",
    "        return \"this id a meth from class2\""
   ]
  },
  {
   "cell_type": "code",
   "execution_count": 11,
   "id": "399a9575-ba9e-4933-aead-79f829760caf",
   "metadata": {},
   "outputs": [],
   "source": [
    "class class3(class2):\n",
    "    pass\n"
   ]
  },
  {
   "cell_type": "code",
   "execution_count": 12,
   "id": "673aa4cf-b174-4847-b111-0fa348627304",
   "metadata": {},
   "outputs": [],
   "source": [
    "obj_class3=class3()"
   ]
  },
  {
   "cell_type": "code",
   "execution_count": 14,
   "id": "cfa2d0f9-18a9-4000-a76f-d8bf6799f003",
   "metadata": {},
   "outputs": [
    {
     "data": {
      "text/plain": [
       "'this id a meth from class1'"
      ]
     },
     "execution_count": 14,
     "metadata": {},
     "output_type": "execute_result"
    }
   ],
   "source": [
    "obj_class3.test_class1()"
   ]
  },
  {
   "cell_type": "code",
   "execution_count": 15,
   "id": "ac31b231-df6a-47d2-8e26-4140aa9da397",
   "metadata": {},
   "outputs": [
    {
     "data": {
      "text/plain": [
       "'this id a meth from class2'"
      ]
     },
     "execution_count": 15,
     "metadata": {},
     "output_type": "execute_result"
    }
   ],
   "source": [
    "obj_class3.test_class2()"
   ]
  },
  {
   "cell_type": "code",
   "execution_count": 16,
   "id": "971a6ff8-7500-4e15-bd0f-fbcf07de94d8",
   "metadata": {},
   "outputs": [],
   "source": [
    "class class1:\n",
    "    \n",
    "    def test_class1(self):\n",
    "        return \"this is a class1\""
   ]
  },
  {
   "cell_type": "code",
   "execution_count": 17,
   "id": "24d7f2ef-6905-496c-a118-f8c367283b39",
   "metadata": {},
   "outputs": [],
   "source": [
    "class class2:\n",
    "    \n",
    "    def test_class2(self):\n",
    "        return \"this is a class2\""
   ]
  },
  {
   "cell_type": "code",
   "execution_count": 18,
   "id": "ab1db11b-3080-4f9b-a679-eee7495b703a",
   "metadata": {},
   "outputs": [],
   "source": [
    "class class3(class1, class2):\n",
    "    pass"
   ]
  },
  {
   "cell_type": "code",
   "execution_count": 19,
   "id": "8bb68f3b-1e81-4067-8e52-19f2ac29bdb5",
   "metadata": {},
   "outputs": [],
   "source": [
    "obj_class3=class3()"
   ]
  },
  {
   "cell_type": "code",
   "execution_count": 20,
   "id": "293923d5-fd50-4872-af15-a9ed6d8d4268",
   "metadata": {},
   "outputs": [
    {
     "data": {
      "text/plain": [
       "'this is a class1'"
      ]
     },
     "execution_count": 20,
     "metadata": {},
     "output_type": "execute_result"
    }
   ],
   "source": [
    "obj_class3.test_class1()"
   ]
  },
  {
   "cell_type": "code",
   "execution_count": 21,
   "id": "d9e01576-a2f4-4a3e-80bc-86071f54bd34",
   "metadata": {},
   "outputs": [
    {
     "data": {
      "text/plain": [
       "'this is a class2'"
      ]
     },
     "execution_count": 21,
     "metadata": {},
     "output_type": "execute_result"
    }
   ],
   "source": [
    "obj_class3.test_class2()"
   ]
  },
  {
   "cell_type": "markdown",
   "id": "0a59f26e-a5ef-4cb5-a01f-43a44efe4d9d",
   "metadata": {},
   "source": [
    "***********************************************************************vid4"
   ]
  },
  {
   "cell_type": "code",
   "execution_count": 2,
   "id": "0f9086ef-6d01-4ad3-8015-5c7081e971a7",
   "metadata": {},
   "outputs": [],
   "source": [
    "import abc\n",
    "class pwskills:\n",
    "    \n",
    "    def students_details(self):\n",
    "        pass\n",
    "    \n",
    "    def students_assignments(self):\n",
    "        pass\n",
    "    \n",
    "    def students_marks(self):\n",
    "        pass\n",
    "    "
   ]
  },
  {
   "cell_type": "code",
   "execution_count": 3,
   "id": "89fde430-ecd1-4674-a923-5b1525f67a6e",
   "metadata": {},
   "outputs": [
    {
     "data": {
      "text/plain": [
       "<function abc.abstractmethod(funcobj)>"
      ]
     },
     "execution_count": 3,
     "metadata": {},
     "output_type": "execute_result"
    }
   ],
   "source": [
    "abc.abstractmethod"
   ]
  },
  {
   "cell_type": "code",
   "execution_count": 4,
   "id": "e8ffe779-380a-44ae-a7f5-8f56502d67d8",
   "metadata": {},
   "outputs": [],
   "source": [
    "import abc\n",
    "class pwskills:\n",
    "    \n",
    "    @abc.abstractmethod\n",
    "    def students_details(self):\n",
    "        pass\n",
    "    \n",
    "    @abc.abstractmethod\n",
    "    def students_assignments(self):\n",
    "        pass\n",
    "    \n",
    "    @abc.abstractmethod\n",
    "    def students_marks(self):\n",
    "        pass\n",
    "    "
   ]
  },
  {
   "cell_type": "code",
   "execution_count": 5,
   "id": "18dde465-91af-49b7-bed0-6f8e673a6d08",
   "metadata": {},
   "outputs": [],
   "source": [
    "class students_details(pwskills):\n",
    "    \n",
    "    def students_details(self):\n",
    "        return \"this is a meth for taking students details\"\n",
    "    \n",
    "    def students_assignments(self):\n",
    "        return \"this is a meth for assigning details for a particular student\"\n",
    "    "
   ]
  },
  {
   "cell_type": "code",
   "execution_count": 6,
   "id": "77a3f960-607a-43c8-b1f3-9bc8f50262f2",
   "metadata": {},
   "outputs": [],
   "source": [
    "class data_science_masters(pwskills):\n",
    "    \n",
    "    def students_details(self):\n",
    "        return \"this will return a student details for data science masters\"\n",
    "    \n",
    "    def students_assignments(self):\n",
    "        return \"this will give you a student assignment details for data science masters\"\n",
    "    "
   ]
  },
  {
   "cell_type": "code",
   "execution_count": 7,
   "id": "4609302f-5543-4107-9f30-4e541732d909",
   "metadata": {},
   "outputs": [
    {
     "data": {
      "text/plain": [
       "'this will return a student details for data science masters'"
      ]
     },
     "execution_count": 7,
     "metadata": {},
     "output_type": "execute_result"
    }
   ],
   "source": [
    "dsm= data_science_masters()\n",
    "dsm.students_details()"
   ]
  },
  {
   "cell_type": "code",
   "execution_count": 9,
   "id": "d9687be4-a9f0-427c-aa43-57fc7c0794d8",
   "metadata": {},
   "outputs": [
    {
     "data": {
      "text/plain": [
       "'this is a meth for taking students details'"
      ]
     },
     "execution_count": 9,
     "metadata": {},
     "output_type": "execute_result"
    }
   ],
   "source": [
    "sd= students_details()\n",
    "sd.students_details()"
   ]
  },
  {
   "cell_type": "code",
   "execution_count": null,
   "id": "5d28bbe8-59a3-4658-9287-c5255773b577",
   "metadata": {},
   "outputs": [],
   "source": []
  }
 ],
 "metadata": {
  "kernelspec": {
   "display_name": "Python 3 (ipykernel)",
   "language": "python",
   "name": "python3"
  },
  "language_info": {
   "codemirror_mode": {
    "name": "ipython",
    "version": 3
   },
   "file_extension": ".py",
   "mimetype": "text/x-python",
   "name": "python",
   "nbconvert_exporter": "python",
   "pygments_lexer": "ipython3",
   "version": "3.10.8"
  }
 },
 "nbformat": 4,
 "nbformat_minor": 5
}
