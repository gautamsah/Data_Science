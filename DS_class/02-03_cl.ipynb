{
 "cells": [
  {
   "cell_type": "code",
   "execution_count": 1,
   "id": "54ee77f5-96c2-4e9f-8be1-e89ccd173993",
   "metadata": {},
   "outputs": [
    {
     "name": "stdout",
     "output_type": "stream",
     "text": [
      "1\n",
      "2\n",
      "3\n",
      "4\n",
      "5\n",
      "6\n",
      "7\n",
      "8\n",
      "9\n",
      "10\n"
     ]
    }
   ],
   "source": [
    "a=1\n",
    "while a<=10:\n",
    "    print(a)\n",
    "    a=a+1"
   ]
  },
  {
   "cell_type": "code",
   "execution_count": 5,
   "id": "ba92215a-2024-4ff5-8836-99d7242b89cf",
   "metadata": {},
   "outputs": [
    {
     "name": "stdin",
     "output_type": "stream",
     "text": [
      "enter your limit 5\n"
     ]
    },
    {
     "data": {
      "text/plain": [
       "15"
      ]
     },
     "execution_count": 5,
     "metadata": {},
     "output_type": "execute_result"
    }
   ],
   "source": [
    "#sum up the number till some point\n",
    "\n",
    "n=int(input('enter your limit'))\n",
    "starting_point=0\n",
    "counter=1\n",
    "\n",
    "while counter<=n:\n",
    "    starting_point=starting_point+counter\n",
    "    counter=counter+1\n",
    "starting_point"
   ]
  },
  {
   "cell_type": "code",
   "execution_count": 8,
   "id": "1a8d33d0-3f6e-42f0-b432-2c86def0746b",
   "metadata": {},
   "outputs": [
    {
     "name": "stdin",
     "output_type": "stream",
     "text": [
      "enter your number 5\n"
     ]
    },
    {
     "data": {
      "text/plain": [
       "120"
      ]
     },
     "execution_count": 8,
     "metadata": {},
     "output_type": "execute_result"
    }
   ],
   "source": [
    "number=int(input(\"enter your number\"))\n",
    "factorial=1\n",
    "while number>0:\n",
    "    factorial = factorial * number\n",
    "    number=number-1\n",
    "factorial"
   ]
  },
  {
   "cell_type": "code",
   "execution_count": 2,
   "id": "bae4e529-d94b-47b5-baca-c716f56e690d",
   "metadata": {},
   "outputs": [
    {
     "name": "stdin",
     "output_type": "stream",
     "text": [
      "enter the element you are looking for  10\n"
     ]
    },
    {
     "name": "stdout",
     "output_type": "stream",
     "text": [
      "0\n",
      "1\n",
      "1\n",
      "2\n",
      "3\n",
      "5\n",
      "8\n",
      "13\n",
      "21\n",
      "34\n"
     ]
    }
   ],
   "source": [
    "#fibonacci series\n",
    "#0 1 1 2 3 5 8 13 21 34\n",
    "\n",
    "number=int(input(\"enter the element you are looking for \"))\n",
    "a,b=0,1\n",
    "counter=0\n",
    "while counter<number:\n",
    "    print(a)\n",
    "    c=a+b\n",
    "    a=b\n",
    "    b=c\n",
    "    counter=counter+1\n",
    "    "
   ]
  },
  {
   "cell_type": "code",
   "execution_count": 3,
   "id": "7d8e8c37-63dd-48fb-8687-6b90898e711f",
   "metadata": {},
   "outputs": [
    {
     "name": "stdout",
     "output_type": "stream",
     "text": [
      "0\n",
      "1\n",
      "1\n",
      "2\n",
      "3\n",
      "5\n",
      "8\n",
      "13\n",
      "21\n",
      "34\n"
     ]
    }
   ],
   "source": [
    "a,b=0,1\n",
    "for i in range(10):\n",
    "    print(a)\n",
    "    c=a+b\n",
    "    a=b\n",
    "    b=c"
   ]
  },
  {
   "cell_type": "code",
   "execution_count": 4,
   "id": "266b0928-e2cf-4e2d-8af2-6c53acc84391",
   "metadata": {},
   "outputs": [],
   "source": [
    "s=\"sudh\""
   ]
  },
  {
   "cell_type": "code",
   "execution_count": 5,
   "id": "04181af8-dd8a-4a39-83dd-5880512f936d",
   "metadata": {},
   "outputs": [
    {
     "data": {
      "text/plain": [
       "'hdus'"
      ]
     },
     "execution_count": 5,
     "metadata": {},
     "output_type": "execute_result"
    }
   ],
   "source": [
    "s[::-1]"
   ]
  },
  {
   "cell_type": "code",
   "execution_count": 11,
   "id": "40919794-69f8-4a22-8ba0-88e6ac343a25",
   "metadata": {},
   "outputs": [
    {
     "name": "stdin",
     "output_type": "stream",
     "text": [
      "enter your string for reversal sudh\n"
     ]
    }
   ],
   "source": [
    "word=input(\"enter your string for reversal\")"
   ]
  },
  {
   "cell_type": "code",
   "execution_count": 13,
   "id": "d17a2a6b-6c17-4f4d-a987-6a474c7eb3d0",
   "metadata": {},
   "outputs": [
    {
     "name": "stdout",
     "output_type": "stream",
     "text": [
      "hdus\n"
     ]
    }
   ],
   "source": [
    "reverse=\"\"\n",
    "length=len(word)\n",
    "while length>0:\n",
    "    reverse=reverse+word[length -1]\n",
    "    length=length-1\n",
    "print(reverse)"
   ]
  },
  {
   "cell_type": "code",
   "execution_count": 14,
   "id": "954f97ad-0fdf-4c2e-8a2f-5fb35fa1449e",
   "metadata": {},
   "outputs": [
    {
     "name": "stdin",
     "output_type": "stream",
     "text": [
      "enter your number 3\n"
     ]
    },
    {
     "name": "stdout",
     "output_type": "stream",
     "text": [
      "3  *  1 =  3\n",
      "3  *  2 =  6\n",
      "3  *  3 =  9\n",
      "3  *  4 =  12\n",
      "3  *  5 =  15\n",
      "3  *  6 =  18\n",
      "3  *  7 =  21\n",
      "3  *  8 =  24\n",
      "3  *  9 =  27\n",
      "3  *  10 =  30\n"
     ]
    }
   ],
   "source": [
    "#print table of numbers\n",
    "\n",
    "n=int(input(\"enter your number\"))\n",
    "i=1\n",
    "while i<=10:\n",
    "    result=n*i\n",
    "    print(n,\" * \",i,\"= \",result)\n",
    "    i=i+1"
   ]
  },
  {
   "cell_type": "code",
   "execution_count": 15,
   "id": "46625a3c-4adf-447c-874e-6b28892695a9",
   "metadata": {},
   "outputs": [
    {
     "name": "stdout",
     "output_type": "stream",
     "text": [
      "1\n",
      "2\n",
      "3\n",
      "4\n",
      "this will be executed once your while will complete it sucessfully\n"
     ]
    }
   ],
   "source": [
    "n=5\n",
    "i=1\n",
    "while i<n:\n",
    "    print(i)\n",
    "    i=i+1\n",
    "else:\n",
    "    print(\"this will be executed once your while will complete it sucessfully\")"
   ]
  },
  {
   "cell_type": "code",
   "execution_count": 16,
   "id": "c23b9dce-5dc9-4ac1-b845-ff03240bd1f9",
   "metadata": {},
   "outputs": [
    {
     "name": "stdout",
     "output_type": "stream",
     "text": [
      "1\n",
      "2\n",
      "3\n"
     ]
    }
   ],
   "source": [
    "n=5\n",
    "i=1\n",
    "while i<n:\n",
    "    print(i)\n",
    "    if i==3:\n",
    "        break\n",
    "    i=i+1\n",
    "else:\n",
    "    print(\"this will be executed once your while will complete it sucessfully\")"
   ]
  },
  {
   "cell_type": "markdown",
   "id": "58c23016-5492-4e26-a4f1-2c7a97e69b11",
   "metadata": {},
   "source": [
    "***********************************************************************vid2"
   ]
  },
  {
   "cell_type": "code",
   "execution_count": 17,
   "id": "bfe66e12-db99-4685-a8d3-3845b0b5ff2d",
   "metadata": {},
   "outputs": [],
   "source": [
    "l=[1,2,3,4,45,5]\n",
    "l1=[]\n",
    "for i in l:\n",
    "    l1.append(i**2)"
   ]
  },
  {
   "cell_type": "code",
   "execution_count": 18,
   "id": "91bbddf9-55eb-43f5-b8f7-1300f3bdec7c",
   "metadata": {},
   "outputs": [
    {
     "data": {
      "text/plain": [
       "[1, 4, 9, 16, 2025, 25]"
      ]
     },
     "execution_count": 18,
     "metadata": {},
     "output_type": "execute_result"
    }
   ],
   "source": [
    "l1"
   ]
  },
  {
   "cell_type": "code",
   "execution_count": 19,
   "id": "b9101c46-211a-4873-8c8e-bf04b9026ff4",
   "metadata": {},
   "outputs": [
    {
     "data": {
      "text/plain": [
       "[1, 2, 3, 4, 45, 5]"
      ]
     },
     "execution_count": 19,
     "metadata": {},
     "output_type": "execute_result"
    }
   ],
   "source": [
    "l"
   ]
  },
  {
   "cell_type": "code",
   "execution_count": 20,
   "id": "fe0b1c53-2ee9-4f32-b409-417835ac6e71",
   "metadata": {},
   "outputs": [
    {
     "data": {
      "text/plain": [
       "[1, 4, 9, 16, 2025, 25]"
      ]
     },
     "execution_count": 20,
     "metadata": {},
     "output_type": "execute_result"
    }
   ],
   "source": [
    "[i**2 for i in l]"
   ]
  },
  {
   "cell_type": "code",
   "execution_count": 22,
   "id": "c306bb68-48b3-4161-93bc-600d2abd1cdc",
   "metadata": {},
   "outputs": [
    {
     "data": {
      "text/plain": [
       "[2, 4]"
      ]
     },
     "execution_count": 22,
     "metadata": {},
     "output_type": "execute_result"
    }
   ],
   "source": [
    "[i for i in l if i%2==0]"
   ]
  },
  {
   "cell_type": "code",
   "execution_count": 23,
   "id": "3437ca79-f358-4d94-a462-c48fe8d4f54c",
   "metadata": {},
   "outputs": [],
   "source": [
    "l1=[\"sudh\",\"pwskills\",\"kumar\",\"data science masters\"]"
   ]
  },
  {
   "cell_type": "code",
   "execution_count": 24,
   "id": "6caf4d0c-5435-4376-b930-b2ea8d767e9c",
   "metadata": {},
   "outputs": [
    {
     "data": {
      "text/plain": [
       "['SUDH', 'PWSKILLS', 'KUMAR', 'DATA SCIENCE MASTERS']"
      ]
     },
     "execution_count": 24,
     "metadata": {},
     "output_type": "execute_result"
    }
   ],
   "source": [
    "[i.upper() for i in l1]"
   ]
  },
  {
   "cell_type": "code",
   "execution_count": 28,
   "id": "6f52f103-64ee-4e3a-9418-ef84b0892c21",
   "metadata": {},
   "outputs": [
    {
     "data": {
      "text/plain": [
       "[1, 4, 9, 16, 2025, 25]"
      ]
     },
     "execution_count": 28,
     "metadata": {},
     "output_type": "execute_result"
    }
   ],
   "source": [
    "list(i**2 for i in l)"
   ]
  },
  {
   "cell_type": "code",
   "execution_count": 29,
   "id": "5289fc36-7296-4c65-962e-635329698391",
   "metadata": {},
   "outputs": [],
   "source": [
    "d={\"key1\":1,\"key2\":2,\"key3\":3,\"key4\":4}"
   ]
  },
  {
   "cell_type": "code",
   "execution_count": 30,
   "id": "9fc76c35-0799-48b3-8e8d-c0d5c54f5762",
   "metadata": {},
   "outputs": [
    {
     "data": {
      "text/plain": [
       "dict_items([('key1', 1), ('key2', 2), ('key3', 3), ('key4', 4)])"
      ]
     },
     "execution_count": 30,
     "metadata": {},
     "output_type": "execute_result"
    }
   ],
   "source": [
    "d.items()"
   ]
  },
  {
   "cell_type": "code",
   "execution_count": 31,
   "id": "3ee5f10e-3604-4907-82b0-974a128559ce",
   "metadata": {},
   "outputs": [
    {
     "data": {
      "text/plain": [
       "{'key1': 1, 'key2': 4, 'key3': 9, 'key4': 16}"
      ]
     },
     "execution_count": 31,
     "metadata": {},
     "output_type": "execute_result"
    }
   ],
   "source": [
    "{k:v**2 for k,v in d.items()}"
   ]
  },
  {
   "cell_type": "code",
   "execution_count": 32,
   "id": "3f7ae819-e9ad-4d95-b78e-01d0fbf743f6",
   "metadata": {},
   "outputs": [
    {
     "data": {
      "text/plain": [
       "{'key1': 1, 'key2': 2, 'key3': 3, 'key4': 4}"
      ]
     },
     "execution_count": 32,
     "metadata": {},
     "output_type": "execute_result"
    }
   ],
   "source": [
    "d"
   ]
  },
  {
   "cell_type": "code",
   "execution_count": 33,
   "id": "94ceb549-6324-460d-8d0b-a80bbc63a9c6",
   "metadata": {},
   "outputs": [
    {
     "data": {
      "text/plain": [
       "{'key2': 2, 'key3': 3, 'key4': 4}"
      ]
     },
     "execution_count": 33,
     "metadata": {},
     "output_type": "execute_result"
    }
   ],
   "source": [
    "{k : v for k,v in d.items() if v>1}"
   ]
  },
  {
   "cell_type": "markdown",
   "id": "2ad95fe5-6eab-4217-9d8d-de0a46a1f360",
   "metadata": {},
   "source": [
    "*************************************************************************vid3"
   ]
  },
  {
   "cell_type": "code",
   "execution_count": 34,
   "id": "b3392baa-c7e8-4aa3-a74c-3c2cb5bab63d",
   "metadata": {},
   "outputs": [
    {
     "name": "stdout",
     "output_type": "stream",
     "text": [
      "this is my print\n"
     ]
    }
   ],
   "source": [
    "print(\"this is my print\")"
   ]
  },
  {
   "cell_type": "code",
   "execution_count": 35,
   "id": "c0d28139-a167-45ce-81eb-431e1eaa6e92",
   "metadata": {},
   "outputs": [],
   "source": [
    "l=[324,45,45,45]"
   ]
  },
  {
   "cell_type": "code",
   "execution_count": 36,
   "id": "f614986b-e4ac-4a7c-83e1-9758c1b3e99d",
   "metadata": {},
   "outputs": [
    {
     "data": {
      "text/plain": [
       "4"
      ]
     },
     "execution_count": 36,
     "metadata": {},
     "output_type": "execute_result"
    }
   ],
   "source": [
    "len(l)"
   ]
  },
  {
   "cell_type": "code",
   "execution_count": 37,
   "id": "8a40f806-e1e8-4a1e-93ba-932fb380bf4a",
   "metadata": {},
   "outputs": [
    {
     "data": {
      "text/plain": [
       "list"
      ]
     },
     "execution_count": 37,
     "metadata": {},
     "output_type": "execute_result"
    }
   ],
   "source": [
    "type(l)"
   ]
  },
  {
   "cell_type": "code",
   "execution_count": 38,
   "id": "85cb61b1-df2d-4b3b-907b-1e83146c695c",
   "metadata": {},
   "outputs": [],
   "source": [
    "def test():\n",
    "    pass"
   ]
  },
  {
   "cell_type": "code",
   "execution_count": 41,
   "id": "70dc1e93-ab14-496a-9fa5-4a2ab80dec5c",
   "metadata": {},
   "outputs": [],
   "source": [
    "def test1():\n",
    "    print(\"this is my very very first function\")"
   ]
  },
  {
   "cell_type": "code",
   "execution_count": 42,
   "id": "448c1636-d85b-4baa-a1aa-906ecc9fce0a",
   "metadata": {},
   "outputs": [
    {
     "name": "stdout",
     "output_type": "stream",
     "text": [
      "this is my very very first function\n"
     ]
    }
   ],
   "source": [
    "test1()"
   ]
  },
  {
   "cell_type": "code",
   "execution_count": 44,
   "id": "f4480889-ca26-45ba-a3b3-f3b5a6d91b9b",
   "metadata": {},
   "outputs": [
    {
     "name": "stdout",
     "output_type": "stream",
     "text": [
      "\n"
     ]
    },
    {
     "data": {
      "text/plain": [
       "NoneType"
      ]
     },
     "execution_count": 44,
     "metadata": {},
     "output_type": "execute_result"
    }
   ],
   "source": [
    "type(print())"
   ]
  },
  {
   "cell_type": "code",
   "execution_count": 45,
   "id": "4c60a5bb-d5b1-45d7-9ab6-c975905b78ed",
   "metadata": {},
   "outputs": [
    {
     "name": "stdout",
     "output_type": "stream",
     "text": [
      "this is my very very first function\n"
     ]
    },
    {
     "ename": "TypeError",
     "evalue": "unsupported operand type(s) for +: 'NoneType' and 'str'",
     "output_type": "error",
     "traceback": [
      "\u001b[0;31m---------------------------------------------------------------------------\u001b[0m",
      "\u001b[0;31mTypeError\u001b[0m                                 Traceback (most recent call last)",
      "Cell \u001b[0;32mIn[45], line 1\u001b[0m\n\u001b[0;32m----> 1\u001b[0m \u001b[43mtest1\u001b[49m\u001b[43m(\u001b[49m\u001b[43m)\u001b[49m\u001b[38;5;241;43m+\u001b[39;49m\u001b[38;5;124;43m\"\u001b[39;49m\u001b[38;5;124;43msudh\u001b[39;49m\u001b[38;5;124;43m\"\u001b[39;49m\n",
      "\u001b[0;31mTypeError\u001b[0m: unsupported operand type(s) for +: 'NoneType' and 'str'"
     ]
    }
   ],
   "source": [
    "test1()+\"sudh\""
   ]
  },
  {
   "cell_type": "code",
   "execution_count": 46,
   "id": "dbc71f18-7d90-49e8-bb8a-3a366bf3371e",
   "metadata": {},
   "outputs": [],
   "source": [
    "def test2():\n",
    "    return \"this is my very first return\""
   ]
  },
  {
   "cell_type": "code",
   "execution_count": 47,
   "id": "398fe9b6-a6ca-421b-912e-793a12d70603",
   "metadata": {},
   "outputs": [
    {
     "data": {
      "text/plain": [
       "'this is my very first return'"
      ]
     },
     "execution_count": 47,
     "metadata": {},
     "output_type": "execute_result"
    }
   ],
   "source": [
    "test2()"
   ]
  },
  {
   "cell_type": "code",
   "execution_count": 51,
   "id": "712e6643-e4b5-4be1-aa4a-c46da0e6d5d4",
   "metadata": {},
   "outputs": [
    {
     "data": {
      "text/plain": [
       "'this is my very first return sudh'"
      ]
     },
     "execution_count": 51,
     "metadata": {},
     "output_type": "execute_result"
    }
   ],
   "source": [
    "test2()+\" sudh\""
   ]
  },
  {
   "cell_type": "code",
   "execution_count": 52,
   "id": "1a3da88b-9ea8-46c7-8306-dab89794a4d0",
   "metadata": {},
   "outputs": [],
   "source": [
    "def test3():\n",
    "    return \"sudh\", 23, 345.56, [1,2,3,3]"
   ]
  },
  {
   "cell_type": "code",
   "execution_count": 53,
   "id": "1ab5dbbd-f019-41de-b0ac-cc3f3d585267",
   "metadata": {},
   "outputs": [
    {
     "data": {
      "text/plain": [
       "('sudh', 23, 345.56, [1, 2, 3, 3])"
      ]
     },
     "execution_count": 53,
     "metadata": {},
     "output_type": "execute_result"
    }
   ],
   "source": [
    "test3()"
   ]
  },
  {
   "cell_type": "code",
   "execution_count": 54,
   "id": "b6eae06e-d78a-43eb-b437-a3b4f7e55253",
   "metadata": {},
   "outputs": [],
   "source": [
    "a,b,c,d=test3()"
   ]
  },
  {
   "cell_type": "code",
   "execution_count": 55,
   "id": "7ac0a499-f52d-4586-afae-4719adda1ad8",
   "metadata": {},
   "outputs": [
    {
     "data": {
      "text/plain": [
       "'sudh'"
      ]
     },
     "execution_count": 55,
     "metadata": {},
     "output_type": "execute_result"
    }
   ],
   "source": [
    "a"
   ]
  },
  {
   "cell_type": "code",
   "execution_count": 56,
   "id": "280455c8-736d-4b59-aa47-6266bc3854c5",
   "metadata": {},
   "outputs": [
    {
     "data": {
      "text/plain": [
       "23"
      ]
     },
     "execution_count": 56,
     "metadata": {},
     "output_type": "execute_result"
    }
   ],
   "source": [
    "b"
   ]
  },
  {
   "cell_type": "code",
   "execution_count": 57,
   "id": "99087fcc-79ad-4c0e-bd7f-c5f60952f0fb",
   "metadata": {},
   "outputs": [
    {
     "data": {
      "text/plain": [
       "345.56"
      ]
     },
     "execution_count": 57,
     "metadata": {},
     "output_type": "execute_result"
    }
   ],
   "source": [
    "c"
   ]
  },
  {
   "cell_type": "code",
   "execution_count": 58,
   "id": "7a00b21e-370f-4955-9969-c2a394ba318f",
   "metadata": {},
   "outputs": [
    {
     "data": {
      "text/plain": [
       "[1, 2, 3, 3]"
      ]
     },
     "execution_count": 58,
     "metadata": {},
     "output_type": "execute_result"
    }
   ],
   "source": [
    "d"
   ]
  },
  {
   "cell_type": "code",
   "execution_count": 59,
   "id": "31085efc-ac3d-4c30-b87b-579fd4ac392f",
   "metadata": {},
   "outputs": [],
   "source": [
    "a=1\n",
    "b=4"
   ]
  },
  {
   "cell_type": "code",
   "execution_count": 60,
   "id": "02da081f-c87e-4203-94e9-6413aaf01d23",
   "metadata": {},
   "outputs": [],
   "source": [
    "a,b=1,4"
   ]
  },
  {
   "cell_type": "code",
   "execution_count": 61,
   "id": "b0e7d0ba-8220-46c8-b07c-457260712196",
   "metadata": {},
   "outputs": [],
   "source": [
    "def test4():\n",
    "    a=5+6/7\n",
    "    return a"
   ]
  },
  {
   "cell_type": "code",
   "execution_count": 62,
   "id": "bf6afdcb-efae-4010-a03a-a464c55e826e",
   "metadata": {},
   "outputs": [
    {
     "data": {
      "text/plain": [
       "5.857142857142857"
      ]
     },
     "execution_count": 62,
     "metadata": {},
     "output_type": "execute_result"
    }
   ],
   "source": [
    "test4()"
   ]
  },
  {
   "cell_type": "code",
   "execution_count": 63,
   "id": "f5bbd29f-6d34-4c61-8910-c8a76e7400c3",
   "metadata": {},
   "outputs": [],
   "source": [
    "def test5(a,b,c):\n",
    "    d=a+b/c\n",
    "    return d"
   ]
  },
  {
   "cell_type": "code",
   "execution_count": 65,
   "id": "2692632c-dcf7-4edd-b6fc-5ff2b9902f2c",
   "metadata": {},
   "outputs": [
    {
     "ename": "TypeError",
     "evalue": "test5() missing 3 required positional arguments: 'a', 'b', and 'c'",
     "output_type": "error",
     "traceback": [
      "\u001b[0;31m---------------------------------------------------------------------------\u001b[0m",
      "\u001b[0;31mTypeError\u001b[0m                                 Traceback (most recent call last)",
      "Cell \u001b[0;32mIn[65], line 1\u001b[0m\n\u001b[0;32m----> 1\u001b[0m \u001b[43mtest5\u001b[49m\u001b[43m(\u001b[49m\u001b[43m)\u001b[49m\n",
      "\u001b[0;31mTypeError\u001b[0m: test5() missing 3 required positional arguments: 'a', 'b', and 'c'"
     ]
    }
   ],
   "source": [
    "test5()"
   ]
  },
  {
   "cell_type": "code",
   "execution_count": 67,
   "id": "c597015d-cafa-4134-9574-abf956ba6daf",
   "metadata": {},
   "outputs": [
    {
     "data": {
      "text/plain": [
       "2.625"
      ]
     },
     "execution_count": 67,
     "metadata": {},
     "output_type": "execute_result"
    }
   ],
   "source": [
    "test5(2,5,8)"
   ]
  },
  {
   "cell_type": "code",
   "execution_count": 68,
   "id": "8c26dd6a-cb18-4e0e-994e-2aee6f6dd58b",
   "metadata": {},
   "outputs": [],
   "source": [
    "def test6(a,b):\n",
    "    return a+b"
   ]
  },
  {
   "cell_type": "code",
   "execution_count": 69,
   "id": "6aaff26f-c85d-42bb-b9f3-acc920d4029b",
   "metadata": {},
   "outputs": [
    {
     "data": {
      "text/plain": [
       "7"
      ]
     },
     "execution_count": 69,
     "metadata": {},
     "output_type": "execute_result"
    }
   ],
   "source": [
    "test6(3,4)"
   ]
  },
  {
   "cell_type": "code",
   "execution_count": 71,
   "id": "463e8331-a57c-4384-8283-6e8042eccaeb",
   "metadata": {},
   "outputs": [
    {
     "data": {
      "text/plain": [
       "'sudh kumar'"
      ]
     },
     "execution_count": 71,
     "metadata": {},
     "output_type": "execute_result"
    }
   ],
   "source": [
    "test6(\"sudh\",\" kumar\")"
   ]
  },
  {
   "cell_type": "code",
   "execution_count": 72,
   "id": "487c7728-5755-47d4-a50f-3ead0281dd35",
   "metadata": {},
   "outputs": [
    {
     "data": {
      "text/plain": [
       "[1, 2, 3, 4, 5, 4, 5, 6]"
      ]
     },
     "execution_count": 72,
     "metadata": {},
     "output_type": "execute_result"
    }
   ],
   "source": [
    "test6([1,2,3,4,5],[4,5,6,])"
   ]
  },
  {
   "cell_type": "code",
   "execution_count": 73,
   "id": "09da0494-beb2-4c09-a1f5-c3f9cfecfd90",
   "metadata": {},
   "outputs": [],
   "source": [
    "l=[1,2,3,4,\"sudh\",\"kumar\",[1,2,3,4,5,6]]"
   ]
  },
  {
   "cell_type": "code",
   "execution_count": 74,
   "id": "81f4c775-fc6e-4b53-88a7-4c0a7d3e9e5d",
   "metadata": {},
   "outputs": [],
   "source": [
    "l1=[]\n",
    "for i in l:\n",
    "    if type(i) == int or type(i)==float:\n",
    "        l1.append(i)"
   ]
  },
  {
   "cell_type": "code",
   "execution_count": 75,
   "id": "ecb4f55c-7039-40f0-9020-8942f9a2489b",
   "metadata": {},
   "outputs": [
    {
     "data": {
      "text/plain": [
       "[1, 2, 3, 4]"
      ]
     },
     "execution_count": 75,
     "metadata": {},
     "output_type": "execute_result"
    }
   ],
   "source": [
    "l1"
   ]
  },
  {
   "cell_type": "code",
   "execution_count": 76,
   "id": "ddd9a6d8-9a74-4702-bd7b-4a2988badf78",
   "metadata": {},
   "outputs": [],
   "source": [
    "def test7(l):\n",
    "    l1=[]\n",
    "    for i in l:\n",
    "        if type(i) == int or type(i)==float:\n",
    "            l1.append(i)\n",
    "    return l1"
   ]
  },
  {
   "cell_type": "code",
   "execution_count": 77,
   "id": "068b16a6-a064-4859-a6ed-3710f2f88d78",
   "metadata": {},
   "outputs": [
    {
     "data": {
      "text/plain": [
       "[1, 2, 3, 4]"
      ]
     },
     "execution_count": 77,
     "metadata": {},
     "output_type": "execute_result"
    }
   ],
   "source": [
    "test7(l)"
   ]
  },
  {
   "cell_type": "code",
   "execution_count": 78,
   "id": "37c820b8-764f-46dc-98d2-5ef1b0631bb2",
   "metadata": {},
   "outputs": [
    {
     "data": {
      "text/plain": [
       "[1, 2, 3, 4, 'sudh', 'kumar', [1, 2, 3, 4, 5, 6]]"
      ]
     },
     "execution_count": 78,
     "metadata": {},
     "output_type": "execute_result"
    }
   ],
   "source": [
    "l"
   ]
  },
  {
   "cell_type": "code",
   "execution_count": 79,
   "id": "47ded86c-4d41-4034-ae99-d9657cf41428",
   "metadata": {},
   "outputs": [],
   "source": [
    "def test8(a):\n",
    "    l=[]\n",
    "    for i in a:\n",
    "        if type(i)==list:\n",
    "            for j in i:\n",
    "                l.append(j)\n",
    "        else:\n",
    "            if type(i) == int or type(i)==float:\n",
    "            \tl1.append(i)\n",
    "    return l"
   ]
  },
  {
   "cell_type": "code",
   "execution_count": 80,
   "id": "7087e2fd-1865-478f-b8bf-e5f53598a2be",
   "metadata": {},
   "outputs": [
    {
     "data": {
      "text/plain": [
       "[1, 2, 3, 4, 5, 6]"
      ]
     },
     "execution_count": 80,
     "metadata": {},
     "output_type": "execute_result"
    }
   ],
   "source": [
    "test8(l)"
   ]
  },
  {
   "cell_type": "code",
   "execution_count": 81,
   "id": "a2c1baab-c5e0-4b23-afe3-71287b8f65f7",
   "metadata": {},
   "outputs": [
    {
     "data": {
      "text/plain": [
       "[1, 2, 3, 4, 'sudh', 'kumar', [1, 2, 3, 4, 5, 6]]"
      ]
     },
     "execution_count": 81,
     "metadata": {},
     "output_type": "execute_result"
    }
   ],
   "source": [
    "l"
   ]
  },
  {
   "cell_type": "code",
   "execution_count": 82,
   "id": "608d0062-190b-4cbc-8511-61320b6e5073",
   "metadata": {},
   "outputs": [
    {
     "ename": "TypeError",
     "evalue": "test8() missing 1 required positional argument: 'a'",
     "output_type": "error",
     "traceback": [
      "\u001b[0;31m---------------------------------------------------------------------------\u001b[0m",
      "\u001b[0;31mTypeError\u001b[0m                                 Traceback (most recent call last)",
      "Cell \u001b[0;32mIn[82], line 1\u001b[0m\n\u001b[0;32m----> 1\u001b[0m \u001b[43mtest8\u001b[49m\u001b[43m(\u001b[49m\u001b[43m)\u001b[49m\n",
      "\u001b[0;31mTypeError\u001b[0m: test8() missing 1 required positional argument: 'a'"
     ]
    }
   ],
   "source": [
    "test8()"
   ]
  },
  {
   "cell_type": "code",
   "execution_count": 83,
   "id": "d8a328b8-380e-450f-92d1-1ee56d07af66",
   "metadata": {},
   "outputs": [
    {
     "ename": "TypeError",
     "evalue": "len() takes exactly one argument (0 given)",
     "output_type": "error",
     "traceback": [
      "\u001b[0;31m---------------------------------------------------------------------------\u001b[0m",
      "\u001b[0;31mTypeError\u001b[0m                                 Traceback (most recent call last)",
      "Cell \u001b[0;32mIn[83], line 1\u001b[0m\n\u001b[0;32m----> 1\u001b[0m \u001b[38;5;28;43mlen\u001b[39;49m\u001b[43m(\u001b[49m\u001b[43m)\u001b[49m\n",
      "\u001b[0;31mTypeError\u001b[0m: len() takes exactly one argument (0 given)"
     ]
    }
   ],
   "source": [
    "len()"
   ]
  },
  {
   "cell_type": "code",
   "execution_count": 84,
   "id": "bf159b4e-8a60-424f-adeb-72f77610c757",
   "metadata": {},
   "outputs": [],
   "source": [
    "def test9(a):\n",
    "    '''this is my function to extract num data from list'''\n",
    "    l=[]\n",
    "    for i in a:\n",
    "        if type(i)==list:\n",
    "            for j in i:\n",
    "                l.append(j)\n",
    "        else:\n",
    "            if type(i) == int or type(i)==float:\n",
    "            \tl1.append(i)\n",
    "    return l"
   ]
  },
  {
   "cell_type": "code",
   "execution_count": null,
   "id": "a5823e1b-55a6-401a-85d2-308da1c927e2",
   "metadata": {},
   "outputs": [],
   "source": [
    "test9()"
   ]
  },
  {
   "cell_type": "code",
   "execution_count": 85,
   "id": "438b5632-edc9-417c-8581-e2f8aa9a4499",
   "metadata": {},
   "outputs": [],
   "source": [
    "def test10(a,b):\n",
    "    return a+b"
   ]
  },
  {
   "cell_type": "code",
   "execution_count": 86,
   "id": "4bdadd38-a1ff-4efc-97f8-00e991ce424c",
   "metadata": {},
   "outputs": [],
   "source": [
    "def test11(*args):\n",
    "    return args"
   ]
  },
  {
   "cell_type": "code",
   "execution_count": 87,
   "id": "7563ef7b-f20e-42a1-8f18-e5d08e7fe19a",
   "metadata": {},
   "outputs": [
    {
     "data": {
      "text/plain": [
       "tuple"
      ]
     },
     "execution_count": 87,
     "metadata": {},
     "output_type": "execute_result"
    }
   ],
   "source": [
    "type(test11())"
   ]
  },
  {
   "cell_type": "code",
   "execution_count": 88,
   "id": "d90dbf56-89bb-4174-a904-33cc41dd3296",
   "metadata": {},
   "outputs": [
    {
     "data": {
      "text/plain": [
       "(1, 2, 3)"
      ]
     },
     "execution_count": 88,
     "metadata": {},
     "output_type": "execute_result"
    }
   ],
   "source": [
    "test11(1,2,3)"
   ]
  },
  {
   "cell_type": "code",
   "execution_count": 89,
   "id": "ee9fcc93-be4b-4cb5-9f31-df9f8228acb8",
   "metadata": {},
   "outputs": [
    {
     "data": {
      "text/plain": [
       "(1, 2, 3, 'sudh', 'kumar', [1, 2, 3, 4, 4])"
      ]
     },
     "execution_count": 89,
     "metadata": {},
     "output_type": "execute_result"
    }
   ],
   "source": [
    "test11(1,2,3,'sudh','kumar', [1,2,3,4,4])"
   ]
  },
  {
   "cell_type": "code",
   "execution_count": 90,
   "id": "7a1f3f53-3e01-4627-b3f2-75e9a8c62380",
   "metadata": {},
   "outputs": [],
   "source": [
    "def test12(*sudh):\n",
    "    return sudh"
   ]
  },
  {
   "cell_type": "code",
   "execution_count": 91,
   "id": "0bd89b0b-5751-46e3-ad8d-86c9ace06007",
   "metadata": {},
   "outputs": [
    {
     "data": {
      "text/plain": [
       "(1, 2, 34, 4)"
      ]
     },
     "execution_count": 91,
     "metadata": {},
     "output_type": "execute_result"
    }
   ],
   "source": [
    "test12(1,2,34,4)"
   ]
  },
  {
   "cell_type": "code",
   "execution_count": 93,
   "id": "618e173a-da5f-48c6-8c22-de84179d5da7",
   "metadata": {},
   "outputs": [],
   "source": [
    "def test13(*args,a):\n",
    "    return args,a"
   ]
  },
  {
   "cell_type": "code",
   "execution_count": 94,
   "id": "82e04c19-6ab7-4b65-92eb-e154864e5dd4",
   "metadata": {},
   "outputs": [
    {
     "data": {
      "text/plain": [
       "((1, 2, 3, 4), 23)"
      ]
     },
     "execution_count": 94,
     "metadata": {},
     "output_type": "execute_result"
    }
   ],
   "source": [
    "test13(1,2,3,4,a=23)"
   ]
  },
  {
   "cell_type": "code",
   "execution_count": 96,
   "id": "cbedf930-5792-4a58-a75a-76458cbfe7b3",
   "metadata": {},
   "outputs": [],
   "source": [
    "def test14(c,d,a=23,b=1):\n",
    "    return a,b,c,d"
   ]
  },
  {
   "cell_type": "code",
   "execution_count": 97,
   "id": "6b5a8cae-0bcb-4b62-80b0-2649528d32da",
   "metadata": {},
   "outputs": [
    {
     "ename": "TypeError",
     "evalue": "test14() missing 2 required positional arguments: 'c' and 'd'",
     "output_type": "error",
     "traceback": [
      "\u001b[0;31m---------------------------------------------------------------------------\u001b[0m",
      "\u001b[0;31mTypeError\u001b[0m                                 Traceback (most recent call last)",
      "Cell \u001b[0;32mIn[97], line 1\u001b[0m\n\u001b[0;32m----> 1\u001b[0m \u001b[43mtest14\u001b[49m\u001b[43m(\u001b[49m\u001b[43m)\u001b[49m\n",
      "\u001b[0;31mTypeError\u001b[0m: test14() missing 2 required positional arguments: 'c' and 'd'"
     ]
    }
   ],
   "source": [
    "test14()"
   ]
  },
  {
   "cell_type": "code",
   "execution_count": 98,
   "id": "04a1af0a-79e4-41c2-89b7-951629ba7cae",
   "metadata": {},
   "outputs": [
    {
     "data": {
      "text/plain": [
       "(23, 1, 3, 4)"
      ]
     },
     "execution_count": 98,
     "metadata": {},
     "output_type": "execute_result"
    }
   ],
   "source": [
    "test14(3,4)"
   ]
  },
  {
   "cell_type": "code",
   "execution_count": 101,
   "id": "7d05bb98-87df-4a80-bfdb-c2a3e819fbb3",
   "metadata": {},
   "outputs": [
    {
     "data": {
      "text/plain": [
       "(2342, 1, 2, 5)"
      ]
     },
     "execution_count": 101,
     "metadata": {},
     "output_type": "execute_result"
    }
   ],
   "source": [
    "test14(2,5,a=2342)"
   ]
  },
  {
   "cell_type": "code",
   "execution_count": 102,
   "id": "4ed85d7a-7269-4aaf-82ab-1d22ea3ae5d3",
   "metadata": {},
   "outputs": [],
   "source": [
    "def test15(**kwargs):\n",
    "    return kwargs"
   ]
  },
  {
   "cell_type": "code",
   "execution_count": 103,
   "id": "b58abadc-a146-4257-9a37-662fd5b779ac",
   "metadata": {},
   "outputs": [
    {
     "data": {
      "text/plain": [
       "{}"
      ]
     },
     "execution_count": 103,
     "metadata": {},
     "output_type": "execute_result"
    }
   ],
   "source": [
    "test15()"
   ]
  },
  {
   "cell_type": "code",
   "execution_count": 104,
   "id": "4b6aaf98-40d5-43c8-bad0-ea96bc852ea6",
   "metadata": {},
   "outputs": [
    {
     "data": {
      "text/plain": [
       "dict"
      ]
     },
     "execution_count": 104,
     "metadata": {},
     "output_type": "execute_result"
    }
   ],
   "source": [
    "type(test15())"
   ]
  },
  {
   "cell_type": "code",
   "execution_count": 105,
   "id": "8aa2f45d-2415-4290-9564-e668fcab6060",
   "metadata": {},
   "outputs": [
    {
     "data": {
      "text/plain": [
       "{'a': [1, 2, 3, 4], 'b': 'sudh', 'c': 23.45}"
      ]
     },
     "execution_count": 105,
     "metadata": {},
     "output_type": "execute_result"
    }
   ],
   "source": [
    "test15(a=[1,2,3,4],b=\"sudh\",c=23.45)"
   ]
  },
  {
   "cell_type": "code",
   "execution_count": null,
   "id": "186a04d0-dff7-4ba3-b180-f39752b0bd8c",
   "metadata": {},
   "outputs": [],
   "source": []
  }
 ],
 "metadata": {
  "kernelspec": {
   "display_name": "Python 3 (ipykernel)",
   "language": "python",
   "name": "python3"
  },
  "language_info": {
   "codemirror_mode": {
    "name": "ipython",
    "version": 3
   },
   "file_extension": ".py",
   "mimetype": "text/x-python",
   "name": "python",
   "nbconvert_exporter": "python",
   "pygments_lexer": "ipython3",
   "version": "3.10.8"
  }
 },
 "nbformat": 4,
 "nbformat_minor": 5
}
