{
 "cells": [
  {
   "cell_type": "markdown",
   "id": "e3434ffe-65bb-4b65-8b9e-db491894411e",
   "metadata": {},
   "source": [
    "Q1. Which function is used to open a file? What are the different modes of opening a file? Explain each mode of file opening."
   ]
  },
  {
   "cell_type": "markdown",
   "id": "fce9dba8-fb7f-488d-b4b7-63ef39af650f",
   "metadata": {},
   "source": [
    "In python we use open(file_name, mode)\n",
    "\n",
    "Modes of opening a file are:\n",
    "\n",
    "r\tOpen a file for reading. (default)\n",
    "w\tOpen a file for writing. Creates a new file if it does not exist or truncates the file if it exists.\n",
    "x\tOpen a file for exclusive creation. If the file already exists, the operation fails.\n",
    "a\tOpen a file for appending at the end of the file without truncating it. Creates a new file if it does not exist.\n",
    "t\tOpen in text mode. (default)\n",
    "b\tOpen in binary mode.\n",
    "+\tOpen a file for updating (reading and writing)\n",
    "\n",
    "We can use mode in combination like \n",
    "\n",
    "wb is for writing in binary mode\n",
    "rb is for reading in binary mode"
   ]
  },
  {
   "cell_type": "markdown",
   "id": "e49cbe64-8fb0-410b-b0c2-a4c95b28b110",
   "metadata": {},
   "source": [
    "Q2. Why close() function is used? Why is it important to close a file?"
   ]
  },
  {
   "cell_type": "markdown",
   "id": "2685479d-1199-4272-9f1e-ac0df1a94cc3",
   "metadata": {},
   "source": [
    "The close() method closes an open file.\n",
    "\n",
    "You should always close your files, in some cases, due to buffering, changes made to a file may not show until you close the file."
   ]
  },
  {
   "cell_type": "markdown",
   "id": "bf811d77-79d7-4503-88e0-ed43be5c785d",
   "metadata": {},
   "source": [
    "Q3. Write a python program to create a text file. Write ‘I want to become a Data Scientist’ in that file. Then close the file. Open this file and read the content of the file."
   ]
  },
  {
   "cell_type": "code",
   "execution_count": 2,
   "id": "6d9f01a3-593c-47ea-a4a9-b88b3f2dc77e",
   "metadata": {},
   "outputs": [
    {
     "data": {
      "text/plain": [
       "'I want to become a Data Scientist'"
      ]
     },
     "execution_count": 2,
     "metadata": {},
     "output_type": "execute_result"
    }
   ],
   "source": [
    "file=open(\"test.txt\", \"w\")\n",
    "\n",
    "data=\"I want to become a Data Scientist\"\n",
    "file.write(data)\n",
    "file.close()\n",
    "\n",
    "file=open(\"test.txt\", \"r\")\n",
    "file.readline()"
   ]
  },
  {
   "cell_type": "markdown",
   "id": "cf715272-bb80-4ec7-b4a9-dd0afe52793e",
   "metadata": {},
   "source": [
    "Q4. Explain the following with python code: read(), readline() and readlines()."
   ]
  },
  {
   "cell_type": "markdown",
   "id": "4fa03d03-72f5-4a53-9ce8-1556e5ffc164",
   "metadata": {},
   "source": [
    "read()\n",
    "The read() method returns the specified number of bytes from the file. Reads and returns a string of n characters. Default is -1 which means the whole file.\n",
    "\n",
    "readline()\n",
    "This method will read one line in a file.\n",
    "A new line character is left at the string end and is ignored for the last line provided the file does not finish in a new line.\n",
    "This method reads up to the end of the line with readline() and returns a list.\n",
    "\n",
    "readlines()\n",
    "This method will read the entire content of the file at a time.\n",
    "This method reads all the file content and stores it in the list.\n",
    "This method reads up to the end of the line with readline () and returns a list."
   ]
  },
  {
   "cell_type": "markdown",
   "id": "ec53f2bc-6bcb-4394-85e1-747984d05517",
   "metadata": {},
   "source": [
    "Q5. Explain why with statement is used with open(). What is the advantage of using with statement and open() together?"
   ]
  },
  {
   "cell_type": "markdown",
   "id": "4e25d296-134c-45c3-895a-d2e6b5ddad9a",
   "metadata": {},
   "source": [
    "With the “With” statement, you get better syntax and exception handling.\n",
    "\n",
    "The with statement simplifies exception handling by encapsulating common preparation and cleanup tasks.\n",
    "Also it will automatically close the file. The with statement provides a way for ensuring that a clean-up is always used."
   ]
  },
  {
   "cell_type": "markdown",
   "id": "f14d0afd-ce5d-47d8-9e0e-7b7b1b3a7653",
   "metadata": {},
   "source": [
    "Q6. Explain the write() and writelines() functions. Give a suitable example."
   ]
  },
  {
   "cell_type": "markdown",
   "id": "2de410f5-6cf1-438b-890d-c777b2be384b",
   "metadata": {},
   "source": [
    "write() method takes a string as an argument and writes it to the text file.\n",
    "\n",
    "writelines() method is used to write multiple strings to a file. We need to pass an iterable object like\n",
    "lists, tuple etc. containing strings to writelines() method.\n",
    "\n",
    "Where the texts will be inserted depends on the file mode and stream position.\n",
    "\"a\":  The texts will be inserted at the current file stream position, default at the end of the file.\n",
    "\"w\": The file will be emptied before the texts will be inserted at the current file stream position, default 0."
   ]
  },
  {
   "cell_type": "code",
   "execution_count": 6,
   "id": "d400bdd4-fa83-4b20-b24f-6b14a32e6c8b",
   "metadata": {},
   "outputs": [
    {
     "name": "stdout",
     "output_type": "stream",
     "text": [
      "I want to become a Data Scientist\n",
      "Data ScientistMachine LearningData Analytics\n"
     ]
    }
   ],
   "source": [
    "file=open(\"test.txt\", \"w\")\n",
    "\n",
    "data=\"I want to become a Data Scientist\"\n",
    "file.write(data)\n",
    "file.close()\n",
    "\n",
    "file=open(\"test.txt\", \"r\")\n",
    "print(file.read())\n",
    "\n",
    "l=[\"Data Scientist\", \"Machine Learning\", \"Data Analytics\"]\n",
    "file=open(\"test.txt\", \"w\")\n",
    "file.writelines(l)\n",
    "file.close()\n",
    "\n",
    "file=open(\"test.txt\", \"r\")\n",
    "print(file.read())"
   ]
  },
  {
   "cell_type": "code",
   "execution_count": null,
   "id": "89db9c4f-a531-4515-bada-eda503c04144",
   "metadata": {},
   "outputs": [],
   "source": []
  }
 ],
 "metadata": {
  "kernelspec": {
   "display_name": "Python 3 (ipykernel)",
   "language": "python",
   "name": "python3"
  },
  "language_info": {
   "codemirror_mode": {
    "name": "ipython",
    "version": 3
   },
   "file_extension": ".py",
   "mimetype": "text/x-python",
   "name": "python",
   "nbconvert_exporter": "python",
   "pygments_lexer": "ipython3",
   "version": "3.10.8"
  }
 },
 "nbformat": 4,
 "nbformat_minor": 5
}
