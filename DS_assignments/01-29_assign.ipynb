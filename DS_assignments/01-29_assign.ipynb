{
 "cells": [
  {
   "cell_type": "markdown",
   "id": "dc66c354-9fc9-4528-964d-d28966fc94f5",
   "metadata": {},
   "source": [
    "1. Who developed Python Programming Language?"
   ]
  },
  {
   "cell_type": "markdown",
   "id": "3c1d227d-054c-4799-ba00-1f990b393fdc",
   "metadata": {},
   "source": [
    "Guido van Rossum developed the Python Language"
   ]
  },
  {
   "cell_type": "markdown",
   "id": "9fe292ff-b05c-4991-9c40-dcad44745b68",
   "metadata": {},
   "source": [
    "2. Which type of Programming does Python support?"
   ]
  },
  {
   "cell_type": "markdown",
   "id": "b6f0b286-a5bf-4b0c-9d83-c32b4077cc9a",
   "metadata": {},
   "source": [
    "Python is an interpreted programming language, supporting object-oriented, structured, and functional programming."
   ]
  },
  {
   "cell_type": "markdown",
   "id": "0d672e68-1589-4110-a0e1-cb223855bc12",
   "metadata": {},
   "source": [
    "3. Is python case sensitive when dealing with identifiers?"
   ]
  },
  {
   "cell_type": "markdown",
   "id": "fcdb8173-fe55-47e2-b690-ad50d4a6f872",
   "metadata": {},
   "source": [
    "Yes, Python is case sensitive when dealing with identifiers."
   ]
  },
  {
   "cell_type": "markdown",
   "id": "d3ddc4f9-1009-4d76-8797-804e3ccb89dd",
   "metadata": {},
   "source": [
    "4. What is the correct extension of the Python file?"
   ]
  },
  {
   "cell_type": "markdown",
   "id": "2e029546-2b31-45c9-8d03-cb5a212153f7",
   "metadata": {},
   "source": [
    "The extensions for Python file is .py"
   ]
  },
  {
   "cell_type": "markdown",
   "id": "14a4c971-7dd4-4432-80da-b443edb44db1",
   "metadata": {},
   "source": [
    "5. Is Python code compiled or interpreted?"
   ]
  },
  {
   "cell_type": "markdown",
   "id": "919f72cd-22d5-4083-aaf0-1664102b70ea",
   "metadata": {},
   "source": [
    "It is generally interpreted but it is half truth as python program is first compiled and then interpreted but the compilation part is hidden from the programmer"
   ]
  },
  {
   "cell_type": "markdown",
   "id": "c5cbf62e-b2c1-4774-9a73-9ce5fa4ecf44",
   "metadata": {},
   "source": [
    "6. Name a few blocks Of code used to define in Python language?"
   ]
  },
  {
   "cell_type": "markdown",
   "id": "95bfd6a1-9347-490d-bf85-53c885bb11f3",
   "metadata": {},
   "source": [
    "A block is a piece of Python program text that is executed as a unit. The following are blocks: a module, a function body, and a class definition. Each command typed interactively is a block."
   ]
  },
  {
   "cell_type": "markdown",
   "id": "c74055ef-08d3-4153-ae4b-ca5939448289",
   "metadata": {},
   "source": [
    "7. State a character used to give single-line comments in Python?"
   ]
  },
  {
   "cell_type": "markdown",
   "id": "4dd4144b-9dd1-42ed-92fd-a2a89c02d57d",
   "metadata": {},
   "source": [
    "For single line comment in python we use # character"
   ]
  },
  {
   "cell_type": "markdown",
   "id": "6bea24f0-8b93-4352-aad2-c80c57b061ba",
   "metadata": {},
   "source": [
    "8. Mention functions which can help us to find the version of python that we are currently working on?"
   ]
  },
  {
   "cell_type": "code",
   "execution_count": 4,
   "id": "e2242250-6b3e-4dce-99b1-0a9633fca523",
   "metadata": {},
   "outputs": [
    {
     "name": "stdout",
     "output_type": "stream",
     "text": [
      "Current Python Version: 3.10.8 | packaged by conda-forge | (main, Nov 22 2022, 08:26:04) [GCC 10.4.0]\n"
     ]
    }
   ],
   "source": [
    "import sys \n",
    "print(\"Current Python Version:\", sys.version)"
   ]
  },
  {
   "cell_type": "markdown",
   "id": "88209515-0b1d-4ab4-8dba-65139e1fde8a",
   "metadata": {},
   "source": [
    "9. Python supports the creation Of anonymous functions at runtime, using a construct called"
   ]
  },
  {
   "cell_type": "markdown",
   "id": "a7406c65-4e80-4d75-bde2-5abdbe8be339",
   "metadata": {},
   "source": [
    "The anonymous function is called lambda."
   ]
  },
  {
   "cell_type": "markdown",
   "id": "b36b0b64-bdfd-4e1e-8fc4-83acfa27756c",
   "metadata": {},
   "source": [
    "10. What does pip stand for python?"
   ]
  },
  {
   "cell_type": "markdown",
   "id": "6fa0547c-3c2d-4d37-bcb3-6f38520e8cc6",
   "metadata": {},
   "source": [
    "PIP stands for Preferred Installer Program."
   ]
  },
  {
   "cell_type": "markdown",
   "id": "26d6b109-cd63-4b8f-80aa-6fc7ff844111",
   "metadata": {},
   "source": [
    "11. Mention a few built—in functions in python?"
   ]
  },
  {
   "cell_type": "markdown",
   "id": "50646ced-636b-4eaa-91e8-ebcfab1cb357",
   "metadata": {},
   "source": [
    "print(), type(), input(), abs(), pow(), dir(), sorted(), max(), round(), divmod(), id(), ord(), len(), sum(), help()"
   ]
  },
  {
   "cell_type": "markdown",
   "id": "d8983207-5b39-406d-9c87-a48dd0d1f2f4",
   "metadata": {},
   "source": [
    "12. What is the maximum possible length Of an identifier in Python?"
   ]
  },
  {
   "cell_type": "markdown",
   "id": "117190a3-2ab7-4138-a691-5028ed646b14",
   "metadata": {},
   "source": [
    "An identifier can have a maximum length of 79 characters in Python."
   ]
  },
  {
   "cell_type": "markdown",
   "id": "c60fb043-ddd5-40cf-9280-14b1988b5465",
   "metadata": {},
   "source": [
    "13. What are the benefits of using Python?"
   ]
  },
  {
   "cell_type": "markdown",
   "id": "8a1308d1-7afe-4cd2-95ad-fe2fb492e717",
   "metadata": {},
   "source": [
    "The benefits of using Python are:\n",
    "\n",
    "Simple to use and understand\n",
    "Free and open source\n",
    "Productivity has increased\n",
    "Interpreted Language\n",
    "Extensive library\n",
    "Dynamically typed\n",
    "Portability\n",
    "Supportive community"
   ]
  },
  {
   "cell_type": "markdown",
   "id": "96b6202d-e1f3-4806-8b64-30c0f32b32be",
   "metadata": {},
   "source": [
    "14. How is memory managed in Python?"
   ]
  },
  {
   "cell_type": "markdown",
   "id": "0ddb8d4a-bb5f-480e-9f6f-c51a9b1630b5",
   "metadata": {},
   "source": [
    "Memory management in Python involves a private heap containing all Python objects and data structures. The management of this private heap is ensured internally by the Python memory manager."
   ]
  },
  {
   "cell_type": "markdown",
   "id": "a53f7832-fbaf-45be-996b-8b4136ba1afb",
   "metadata": {},
   "source": [
    "15. How to install Python on Windows and set path variables?"
   ]
  },
  {
   "cell_type": "markdown",
   "id": "417e5c2c-2914-488f-b8fb-f9dee311f527",
   "metadata": {},
   "source": [
    "Steps to Download and Install Python on Windows\n",
    "\n",
    "Step 1: Download Python\n",
    "To start, go to python.org/downloads and then click on the button to download the latest version of Python.\n",
    "\n",
    "Step 2: Run the .exe file\n",
    "Next, run the .exe file that you just downloaded, and then follow the installation instructions.\n",
    "\n",
    "\tNote that depending on your needs, you may also check the box to add Python to the Path checkbox.\n",
    "\n",
    "\n",
    "\n",
    "The complete path of python.exe can be added by:\n",
    "\n",
    "Step 1: Right-clicking This PC and going to Properties.\n",
    "\n",
    "Step 2: Clicking on the Advanced system settings in the menu on the left.\n",
    "\n",
    "Step 3: Clicking on the Environment Variables button on the bottom right.\n",
    "\n",
    "Step 4: In the System variables section, selecting the Path variable and clicking on Edit. The next screen will \n",
    "show all the directories that are currently a part of the PATH variable.\n",
    "\n",
    "Step 5: Clicking on New and entering Python’s install directory.\n",
    "\n",
    "Step 6: Python can now be used directly from the command prompt without having to write its location. Try executing the command python --version; it will output the version of Python installed on your system."
   ]
  },
  {
   "cell_type": "markdown",
   "id": "77d0d880-e258-49d5-9bf7-a85e55db9868",
   "metadata": {},
   "source": [
    "16. Is indentation required in python?"
   ]
  },
  {
   "cell_type": "markdown",
   "id": "5b3dedc2-72b4-48d9-9012-9e3c59f776cc",
   "metadata": {},
   "source": [
    "Indentation is mandatory in python to define the blocks of statements. The number of spaces must be uniform in a block of code."
   ]
  }
 ],
 "metadata": {
  "kernelspec": {
   "display_name": "Python 3 (ipykernel)",
   "language": "python",
   "name": "python3"
  },
  "language_info": {
   "codemirror_mode": {
    "name": "ipython",
    "version": 3
   },
   "file_extension": ".py",
   "mimetype": "text/x-python",
   "name": "python",
   "nbconvert_exporter": "python",
   "pygments_lexer": "ipython3",
   "version": "3.10.8"
  }
 },
 "nbformat": 4,
 "nbformat_minor": 5
}
