{
 "cells": [
  {
   "cell_type": "markdown",
   "id": "12d3a2e7-2c2c-4f66-bf35-b5065587b3f3",
   "metadata": {},
   "source": [
    "Q1. What is a database? Differentiate between SQL and NoSQL databases."
   ]
  },
  {
   "cell_type": "markdown",
   "id": "0b6b0288-f6bf-4e53-99db-d7c886a30a75",
   "metadata": {},
   "source": [
    "A database is information that is set up for easy access, management and updating. Computer databases typically store aggregations of data records or files that contain information, such as sales transactions, customer data, financials and product information.\n",
    "\n",
    "Databases are used for storing, maintaining and accessing any sort of data. They collect information on people, places or things. That information is gathered in one place so that it can be observed and analyzed. Databases can be thought of as an organized collection of information.\n",
    "\n",
    "SQL:\n",
    "RELATIONAL DATABASE MANAGEMENT SYSTEM (RDBMS)\n",
    "These databases have fixed or static or predefined schema\n",
    "These databases are not suited for hierarchical data storage.\n",
    "These databases are best suited for complex queries\n",
    "Vertically Scalable\n",
    "Follows ACID property\n",
    "Examples: MySQL, PostgreSQL, Oracle, MS-SQL Server, etc\n",
    "\n",
    "NoSQL:\n",
    "Non-relational or distributed database system.\n",
    "They have dynamic schema\n",
    "These databases are best suited for hierarchical data storage.\n",
    "These databases are not so good for complex queries\n",
    "Horizontally scalable\n",
    "Follows CAP(consistency, availability, partition tolerance)\n",
    "Examples: MongoDB, GraphQL, HBase, Neo4j, Cassandra, etc"
   ]
  },
  {
   "cell_type": "markdown",
   "id": "38acac57-4324-49a9-9899-46b9eb24e212",
   "metadata": {},
   "source": [
    "Q2. What is DDL? Explain why CREATE, DROP, ALTER, and TRUNCATE are used with an example."
   ]
  },
  {
   "cell_type": "markdown",
   "id": "8461d7d6-0eb9-48d6-9ae0-2341e452dc85",
   "metadata": {},
   "source": [
    "DDL stands for Data Definition Language, which is a set of SQL commands used to define and manipulate the structure of database objects like tables, indexes, views, and constraints.\n",
    "\n",
    "1. CREATE: The CREATE command is used to create new database objects like tables, indexes, views, and procedures. \n",
    "e.g.\n",
    "CREATE TABLE customers (\n",
    "   id INT PRIMARY KEY,\n",
    "   name VARCHAR(50),\n",
    "   email VARCHAR(50),\n",
    "   phone VARCHAR(15)\n",
    ");\n",
    "\n",
    "2. DROP: The DROP command is used to delete existing database objects like tables, indexes, views, and procedures. \n",
    "e.g.\n",
    "DROP TABLE customers;\n",
    "\n",
    "3. ALTER: The ALTER command is used to modify the structure of existing database objects like tables, indexes, views, and procedures.\n",
    "e.g.\n",
    "ALTER TABLE customers ADD COLUMN address VARCHAR(100);\n",
    "\n",
    "\n",
    "4. TRUNCATE: The TRUNCATE command is used to delete all the data from a table while keeping the table structure intact.\n",
    "e.g.\n",
    "TRUNCATE TABLE customers;"
   ]
  },
  {
   "cell_type": "markdown",
   "id": "2ae4aace-b102-4bb8-9d0c-961fd3a30032",
   "metadata": {},
   "source": [
    "Q3. What is DML? Explain INSERT, UPDATE, and DELETE with an example."
   ]
  },
  {
   "cell_type": "markdown",
   "id": "552ccd01-f412-47be-83e6-9715e0265c7c",
   "metadata": {},
   "source": [
    "DML stands for Data Manipulation Language, which is a subset of SQL (Structured Query Language) used to manipulate data stored in relational databases. DML commands allow you to add, modify, and remove data from database tables.\n",
    "\n",
    "1. INSERT - INSERT command is used to add new rows into an existing database table.\n",
    "e.g.\n",
    "INSERT INTO Employees (EmpID, EmpName, EmpSalary, EmpDepartment) VALUES (101, 'John Doe', 5000, 'Sales');\n",
    "\n",
    "2. UPDATE - UPDATE command is used to modify existing data in a database table.\n",
    "e.g.\n",
    "UPDATE Employees SET EmpSalary = 6000 WHERE EmpID = 101;\n",
    "\n",
    "3. DELETE - DELETE command is used to remove existing data from a database table.\n",
    "e.g.\n",
    "DELETE FROM Employees WHERE EmpID = 101;"
   ]
  },
  {
   "cell_type": "markdown",
   "id": "5841e057-9948-4ae4-ae46-13ebe818ae5b",
   "metadata": {},
   "source": [
    "Q4. What is DQL? Explain SELECT with an example."
   ]
  },
  {
   "cell_type": "markdown",
   "id": "321df4f6-fd38-413e-8ef0-7dadd87d7549",
   "metadata": {},
   "source": [
    "DQL stands for Data Query Language, and it is a subset of SQL (Structured Query Language) used to retrieve data from a database. DQL includes commands like SELECT, FROM, WHERE, ORDER BY, GROUP BY, HAVING, and others.\n",
    "\n",
    "SELECT is used commands in DQL, used to retrieve data from one or more tables. \n",
    "e.g.\n",
    "SELECT * from Employees;"
   ]
  },
  {
   "cell_type": "markdown",
   "id": "c54624c3-813b-4b06-8d32-ea88ddff7ff0",
   "metadata": {},
   "source": [
    "Q5. Explain Primary Key and Foreign Key."
   ]
  },
  {
   "cell_type": "markdown",
   "id": "8f4d65b8-edc5-4a96-a91b-97dd6d203263",
   "metadata": {},
   "source": [
    "Primary Key:\n",
    "- It is used to identify each record into the database table uniquely.\n",
    "- The primary key column value can never be NULL.\n",
    "- A table can have only one primary key.\n",
    "- The primary key is a unique attribute; therefore, it cannot stores duplicate values in relation.\n",
    "- The primary key is a clustered index by default, which means it is indexed automatically.\n",
    "- The primary key value can't be removed from the table. If you want to delete it, then make sure the referencing foreign key does not contain its value.\t\n",
    "- We can insert the values into the primary key column without any limitation, either it present in a foreign key or not.\n",
    "- The primary key constraint can be defined on the temporary tables.\n",
    "- It cannot create a parent-child relationship in a table.\n",
    "\n",
    "Foreign Key:\n",
    "- It is used to links two tables together. It means the foreign key in one table refers to the primary key of another table.\n",
    "- The foreign key column can accept a NULL value.\n",
    "- A table can have more than one foreign key.\n",
    "- We can store duplicate values in the foreign key column.\n",
    "- A foreign key is not a clustered index by default. We can make clustered indexes manually.\n",
    "- The foreign key value can be removed from the table without bothering that it refers to the primary key of another table.\n",
    "- The value that is not present in the column of a primary key cannot be inserted into the referencing foreign key.\n",
    "- A foreign key constraint cannot be defined on the temporary tables.\n",
    "- It can make a parent-child relationship in a table."
   ]
  },
  {
   "cell_type": "markdown",
   "id": "1c329736-f7aa-4e8d-a081-54c3fa0c3084",
   "metadata": {},
   "source": [
    "Q6. Write a python code to connect MySQL to python. Explain the cursor() and execute() method."
   ]
  },
  {
   "cell_type": "code",
   "execution_count": null,
   "id": "e4315cbf-a40f-4650-95fa-09f05443bd5e",
   "metadata": {},
   "outputs": [],
   "source": [
    "import mysql.connector\n",
    "mydb = mysql.connector.connect(\n",
    "  host=\"localhost\",\n",
    "  user=\"abc\",\n",
    "  password=\"password\"\n",
    ")\n",
    "mycursor = mydb.cursor()\n",
    "mycursor.execute(\"CREATE DATABASE if not exists test2\")\n",
    "mydb.close()"
   ]
  },
  {
   "cell_type": "markdown",
   "id": "5c364814-b6f4-447d-8cca-b09297cec6fa",
   "metadata": {},
   "source": [
    "cursor(): \n",
    "This method creates a cursor object, which is used to execute SQL queries and fetch data from the database. The cursor is like a pointer to a specific location in the database, and it allows us to navigate and manipulate the data. It is created using the connection object, which is established when connecting to the database.\n",
    "\n",
    "execute(): \n",
    "This method is used to execute SQL queries on the database through the cursor object. It takes an SQL query as its argument and executes it. It can also take parameters in the form of a tuple or a dictionary to insert data into the query."
   ]
  },
  {
   "cell_type": "markdown",
   "id": "faccbc21-5ebe-42ef-b2f7-9d27831ddf4f",
   "metadata": {},
   "source": [
    "Q7. Give the order of execution of SQL clauses in an SQL query."
   ]
  },
  {
   "cell_type": "markdown",
   "id": "940984c3-ccba-4901-90c0-7a8be85d87a8",
   "metadata": {},
   "source": [
    "The order of execution of SQL clauses are:\n",
    "FROM > WHERE > GROUP BY > HAVING > SELECT > ORDER BY > LIMIT/OFFSET"
   ]
  }
 ],
 "metadata": {
  "kernelspec": {
   "display_name": "Python 3 (ipykernel)",
   "language": "python",
   "name": "python3"
  },
  "language_info": {
   "codemirror_mode": {
    "name": "ipython",
    "version": 3
   },
   "file_extension": ".py",
   "mimetype": "text/x-python",
   "name": "python",
   "nbconvert_exporter": "python",
   "pygments_lexer": "ipython3",
   "version": "3.10.8"
  }
 },
 "nbformat": 4,
 "nbformat_minor": 5
}
