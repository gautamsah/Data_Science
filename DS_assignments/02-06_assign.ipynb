{
 "cells": [
  {
   "cell_type": "markdown",
   "id": "fee77ef8-d72a-4173-8b2f-e77b0aa46ff9",
   "metadata": {},
   "source": [
    "Q1. Create a function which will take a list as an argument and return the product of all the numbers after creating a flat list.\n",
    "\n",
    "Use the below-given list as an argument for your function.\n",
    "\n",
    "list = [1,2,3,4, [44,55,66, True], False, (34,56,78,89,34), (1,2,3,3,2,1), (1:34, \"key2\": [55, 67, 78, 89], 4: (45, 22, 61, 34)], [56, 'data science'], 'Machine Learning']\n",
    "\n",
    "Note: you must extract numeric keys and values of the dictionary also."
   ]
  },
  {
   "cell_type": "code",
   "execution_count": 2,
   "id": "1d003fa2-d116-4343-8baa-0c6e277fe36c",
   "metadata": {},
   "outputs": [
    {
     "name": "stdout",
     "output_type": "stream",
     "text": [
      "[1, 2, 3, 4, 44, 55, 66, 34, 56, 78, 89, 34, 1, 2, 3, 3, 2, 1, 1, 34, 55, 67, 78, 89, 4, 45, 22, 61, 34, 56]\n",
      "24808271033922512873003047452672000\n"
     ]
    }
   ],
   "source": [
    "list1 = [1,2,3,4, [44,55,66, True], False, (34,56,78,89,34), (1,2,3,3,2,1), {1:34, \"key2\": [55, 67, 78, 89], 4: (45, 22, 61, 34)}, [56, 'data science'], 'Machine Learning']\n",
    "\n",
    "filtered_list=[]\n",
    "\n",
    "for i in list1:\n",
    "    if type(i)==int:\n",
    "        filtered_list.append(i)\n",
    "    elif type(i)==list or type(i)==tuple:\n",
    "        for j in i:\n",
    "            if type(j)==int:\n",
    "                filtered_list.append(j)\n",
    "    elif type(i)==dict:\n",
    "        for j,k in i.items():\n",
    "            if type(j)==int:\n",
    "                filtered_list.append(j)\n",
    "            if type(k)==int:\n",
    "                filtered_list.append(k)\n",
    "            elif type(k)==list or type(k)==tuple:\n",
    "                for m in k:\n",
    "                    if type(m)==int:\n",
    "                        filtered_list.append(m)\n",
    "\n",
    "print(filtered_list)\n",
    "\n",
    "from functools import reduce\n",
    "\n",
    "print(reduce(lambda x,y: x*y, filtered_list))"
   ]
  },
  {
   "cell_type": "markdown",
   "id": "62e1f413-8ac0-4aea-87e9-72a4cd0e1fa1",
   "metadata": {},
   "source": [
    "Q2. Write a python program for encrypting a message sent to you by your friend. The logic of encryption should be such that, for 'a' the output should be 'z'. For 'b', the output should be 'y'. For 'c', the output should be 'x' respectively. Also, the whitespace should be replaced with a dollar sign. Keep the punctuation marks unchanged.\n",
    "\n",
    "Input Sentence: I want to become a Data Scientist.\n",
    "\n",
    "Encrypt the above input sentence using the program you just created.\n",
    "\n",
    "Note: Convert the given input sentence into lowercase before encrypting. The final output should be lowercase."
   ]
  },
  {
   "cell_type": "code",
   "execution_count": 22,
   "id": "d4a50e68-07bb-444c-abb5-f8868559a0c5",
   "metadata": {},
   "outputs": [
    {
     "data": {
      "text/plain": [
       "'r$dzmg$gl$yvxlnv$z$wzgz$hxrvmgrhg'"
      ]
     },
     "execution_count": 22,
     "metadata": {},
     "output_type": "execute_result"
    }
   ],
   "source": [
    "input_str=\"I want to become a Data Scientist\"\n",
    "\n",
    "def encryption(input_str):\n",
    "    input_str=input_str.lower()\n",
    "    encrypt=\"\"\n",
    "    for i in input_str:\n",
    "        if i>=\"a\" and i<=\"z\":\n",
    "            #print(i)\n",
    "            encrypt+= chr(26-((ord(i)-97+1)%26) +97)\n",
    "        elif i==\" \" or i=='\"' or i==\"'\":\n",
    "            encrypt+=\"$\"\n",
    "        else:\n",
    "            continue\n",
    "    return encrypt\n",
    "\n",
    "encryption(input_str)"
   ]
  },
  {
   "cell_type": "code",
   "execution_count": null,
   "id": "7c664eef-db3c-436c-89a7-936d396307c9",
   "metadata": {},
   "outputs": [],
   "source": []
  }
 ],
 "metadata": {
  "kernelspec": {
   "display_name": "Python 3 (ipykernel)",
   "language": "python",
   "name": "python3"
  },
  "language_info": {
   "codemirror_mode": {
    "name": "ipython",
    "version": 3
   },
   "file_extension": ".py",
   "mimetype": "text/x-python",
   "name": "python",
   "nbconvert_exporter": "python",
   "pygments_lexer": "ipython3",
   "version": "3.10.8"
  }
 },
 "nbformat": 4,
 "nbformat_minor": 5
}
