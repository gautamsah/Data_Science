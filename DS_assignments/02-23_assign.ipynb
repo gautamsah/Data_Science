{
 "cells": [
  {
   "cell_type": "markdown",
   "id": "d1557d89-d784-40f5-adf5-a1f69031c83c",
   "metadata": {},
   "source": [
    "pip install pandas"
   ]
  },
  {
   "cell_type": "markdown",
   "id": "e1e71fc9-caa8-4d91-ad9b-0779c2789fba",
   "metadata": {},
   "source": [
    "Q1. Create a Pandas Series that contains the following data: 4, 8, 15, 16, 23, and 42. Then, print the series."
   ]
  },
  {
   "cell_type": "code",
   "execution_count": 3,
   "id": "a15a2272-4772-473d-8b43-2e1a7cbcb644",
   "metadata": {},
   "outputs": [
    {
     "name": "stdout",
     "output_type": "stream",
     "text": [
      "   Data\n",
      "0     4\n",
      "1     8\n",
      "2    15\n",
      "3    16\n",
      "4    23\n",
      "5    42\n"
     ]
    },
    {
     "data": {
      "text/plain": [
       "pandas.core.series.Series"
      ]
     },
     "execution_count": 3,
     "metadata": {},
     "output_type": "execute_result"
    }
   ],
   "source": [
    "import pandas as pd\n",
    "df=pd.DataFrame({'Data':[4, 8, 15, 16, 23, 42]})\n",
    "df['Data']\n",
    "print(df)\n",
    "type(df['Data'])"
   ]
  },
  {
   "cell_type": "markdown",
   "id": "7e3a9dee-b5f8-4755-ac7f-a1ff99dfae74",
   "metadata": {
    "tags": []
   },
   "source": [
    "Q2. Create a variable of list type containing 10 elements in it, and apply pandas.Series function on the variable print it."
   ]
  },
  {
   "cell_type": "code",
   "execution_count": 8,
   "id": "95cf4096-6d5f-4258-8f36-30b543da3160",
   "metadata": {},
   "outputs": [
    {
     "data": {
      "text/plain": [
       "0     1\n",
       "1     2\n",
       "2     3\n",
       "3     4\n",
       "4     5\n",
       "5     6\n",
       "6     7\n",
       "7     8\n",
       "8     9\n",
       "9    10\n",
       "dtype: int64"
      ]
     },
     "execution_count": 8,
     "metadata": {},
     "output_type": "execute_result"
    }
   ],
   "source": [
    "import pandas as pd\n",
    "data=[1,2,3,4,5,6,7,8,9,10]\n",
    "df=pd.Series(data)\n",
    "df"
   ]
  },
  {
   "attachments": {
    "784e0ee0-c1a3-4bc9-aee5-497469c0c3d2.png": {
     "image/png": "[encoded data removed]"
    }
   },
   "cell_type": "markdown",
   "id": "5fe1a34a-2e82-4c3c-bdcd-101a14507905",
   "metadata": {},
   "source": [
    "Q3. Create a Pandas DataFrame that contains the following data: Then, print the DataFrame.\n",
    "![download (1).png](attachment:784e0ee0-c1a3-4bc9-aee5-497469c0c3d2.png)"
   ]
  },
  {
   "cell_type": "code",
   "execution_count": 11,
   "id": "dc07e3fe-0e7f-4773-9395-03f7d8c59d35",
   "metadata": {},
   "outputs": [
    {
     "data": {
      "text/html": [
       "<div>\n",
       "<style scoped>\n",
       "    .dataframe tbody tr th:only-of-type {\n",
       "        vertical-align: middle;\n",
       "    }\n",
       "\n",
       "    .dataframe tbody tr th {\n",
       "        vertical-align: top;\n",
       "    }\n",
       "\n",
       "    .dataframe thead th {\n",
       "        text-align: right;\n",
       "    }\n",
       "</style>\n",
       "<table border=\"1\" class=\"dataframe\">\n",
       "  <thead>\n",
       "    <tr style=\"text-align: right;\">\n",
       "      <th></th>\n",
       "      <th>Name</th>\n",
       "      <th>Age</th>\n",
       "      <th>gender</th>\n",
       "    </tr>\n",
       "  </thead>\n",
       "  <tbody>\n",
       "    <tr>\n",
       "      <th>0</th>\n",
       "      <td>Alice</td>\n",
       "      <td>25</td>\n",
       "      <td>female</td>\n",
       "    </tr>\n",
       "    <tr>\n",
       "      <th>1</th>\n",
       "      <td>Bob</td>\n",
       "      <td>30</td>\n",
       "      <td>Female</td>\n",
       "    </tr>\n",
       "    <tr>\n",
       "      <th>2</th>\n",
       "      <td>Claire</td>\n",
       "      <td>27</td>\n",
       "      <td>Female</td>\n",
       "    </tr>\n",
       "  </tbody>\n",
       "</table>\n",
       "</div>"
      ],
      "text/plain": [
       "     Name  Age  gender\n",
       "0   Alice   25  female\n",
       "1     Bob   30  Female\n",
       "2  Claire   27  Female"
      ]
     },
     "execution_count": 11,
     "metadata": {},
     "output_type": "execute_result"
    }
   ],
   "source": [
    "import pandas as pd\n",
    "data= [[\"Alice\", 25, \"female\"], \n",
    "       [\"Bob\", 30, \"Female\"], \n",
    "       [\"Claire\", 27, \"Female\"]]\n",
    "df = pd.DataFrame(data, columns=[\"Name\", \"Age\", \"gender\"])\n",
    "df"
   ]
  },
  {
   "cell_type": "markdown",
   "id": "6631447b-e33d-4f0f-beff-46c81c9f2c0d",
   "metadata": {},
   "source": [
    "Q4. What is ‘DataFrame’ in pandas and how is it different from pandas.series? Explain with an example."
   ]
  },
  {
   "cell_type": "markdown",
   "id": "327cf28f-f346-4471-9d1a-8a39043a03b0",
   "metadata": {},
   "source": [
    "Pandas has two main types of Data Structures based on their dependability –\n",
    "1. Series: 1D labeled array\n",
    "2. DataFrame: 2D labeled tabular structure\n",
    "\n",
    "DataFrame is a 2-dimensional labeled data structure in pandas library that is used for storing and manipulating tabular data in rows and columns. It can be considered as a collection of Series that share the same index. It is a fundamental object in pandas and can be used for various data analysis tasks such as data cleaning, data transformation, and data visualization.\n",
    "\n",
    "On the other hand, Series is a one-dimensional labeled array in pandas that can store any data type. It can be considered as a single column of a DataFrame. Each element in a Series is identified by a unique label called an index.\n",
    "\n",
    "Some differences are:\n",
    "1. Series:\n",
    "- One-dimensional\n",
    "- Homogenous – Series elements must be of the same data type.\n",
    "- Size-immutable – Once created, the size of a Series object cannot be changed.\n",
    "\n",
    "1. DataFrame:\n",
    "- Two-dimensional\n",
    "- Heterogenous – DataFrame elements can have different data types.\n",
    "- Size-mutable – Elements can be dropped or added in an existing DataFrame."
   ]
  },
  {
   "cell_type": "code",
   "execution_count": 13,
   "id": "42281c78-fe68-4624-9508-99ed901bf204",
   "metadata": {},
   "outputs": [
    {
     "name": "stdout",
     "output_type": "stream",
     "text": [
      "     Name  Age  gender\n",
      "0   Alice   25  female\n",
      "1     Bob   30  Female\n",
      "2  Claire   27  Female\n",
      "<class 'pandas.core.frame.DataFrame'>\n",
      "0     Alice\n",
      "1       Bob\n",
      "2    Claire\n",
      "Name: Name, dtype: object\n",
      "<class 'pandas.core.series.Series'>\n"
     ]
    }
   ],
   "source": [
    "import pandas as pd\n",
    "data= [[\"Alice\", 25, \"female\"], \n",
    "       [\"Bob\", 30, \"Female\"], \n",
    "       [\"Claire\", 27, \"Female\"]]\n",
    "df = pd.DataFrame(data, columns=[\"Name\", \"Age\", \"gender\"])\n",
    "print(df)\n",
    "print(type(df))\n",
    "series=df['Name']\n",
    "print(series)\n",
    "print(type(series))"
   ]
  },
  {
   "cell_type": "markdown",
   "id": "5d8d8c39-ed6f-4f07-b168-3b4b37bbc177",
   "metadata": {},
   "source": [
    "Q5. What are some common functions you can use to manipulate data in a Pandas DataFrame? Can you give an example of when you might use one of these functions?"
   ]
  },
  {
   "cell_type": "markdown",
   "id": "7a13b4b4-e6e2-4116-8400-69f86dfa3648",
   "metadata": {},
   "source": [
    "Some common functions for manipulating data in Pandas DataFrame are:\n",
    "\n",
    "head() - returns the first n rows of the DataFrame (default is 5)\n",
    "Example: df.head()\n",
    "\n",
    "tail() - returns the last n rows of the DataFrame (default is 5)\n",
    "Example: df.tail()\n",
    "\n",
    "describe() - generates descriptive statistics for the DataFrame, such as count, mean, and standard deviation\n",
    "Example: df.describe()\n",
    "\n",
    "loc[] - helps to access a group of rows and columns in a dataset, a slice of the dataset, as per our requirement.\n",
    "Example: df.loc[[1:5], [\"Name\",\"Age\",\"Gender\"]]\n",
    "\n",
    "iloc[] - method is used when the index label of a data frame is something other than numeric series of 0, 1, 2, 3….n or in case the user doesn’t know the index label.\n",
    "Example: df.iloc[[1:5],[0:3]]\n",
    "\n",
    "drop_duplicates() - returns a Pandas DataFrame with duplicate rows removed.\n",
    "Example: df.drop_duplicates(inplace=True)\n",
    "\n",
    "rename() - Renaming a column in the dataset\n",
    "Example df.rename(columns={'old_name': 'new_name'})\n",
    "\n",
    "append() - Adding a row in the dataframe\n",
    "Example: df.append(row_data)\n",
    "\n",
    "insert() - Adding a column in the dataframe\n",
    "Example: df.insert(0, 'column_name', column_value)\n",
    "\n",
    "drop() - Dropping columns or rows in the dataframe\n",
    "Example: df.drop('column_name', axis=1)\n",
    "Example: df.drop(index_no, axis=0)\n",
    "\n",
    "dropna() - removes rows or columns with missing values\n",
    "Example: df.dropna()\n",
    "\n",
    "fillna() - fills missing values with a specified value or method\n",
    "Example: df.fillna(value)\n",
    "\n",
    "groupby() - groups data based on a specified column and applies a function to each group\n",
    "Example: df.groupby('category').mean()\n",
    "\n",
    "sort_values() - sorts the DataFrame by one or more columns\n",
    "Example: df.sort_values('column_name')\n",
    "\n",
    "merge() - merges two DataFrames based on a specified key column(s)\n",
    "Example: pd.merge(df1, df2, on='key_column')\n",
    "\n",
    "select_dtypes() - Select columns with specific data types\n",
    "Example: df.select_dtypes('int')\n",
    "\n",
    "to_csv() - Save the DataFrame as desired format.\n",
    "Example: data.to_csv(\"path\")"
   ]
  },
  {
   "cell_type": "markdown",
   "id": "756d792f-f63b-40b0-9858-fb6fc2623bbf",
   "metadata": {},
   "source": [
    "Q6. Which of the following is mutable in nature Series, DataFrame, Panel?"
   ]
  },
  {
   "cell_type": "markdown",
   "id": "aef9d1c4-a639-461c-b626-87d46c8ee93e",
   "metadata": {},
   "source": [
    "1. Series - A Series is a one dimensional array like structure with homogeneous data. The values of the series are mutable means we can change any value in series, but the size of the series is immutable so we can not change the size of the series.\n",
    "\n",
    "2. DataFrame - A DataFrame is a two-dimensional array with heterogeneous data. A DataFrame size is mutable and data is also mutable so we can change the data and size of DataFrame at any time.\n",
    "\n",
    "3. Panel - The panel is a three-dimensional data structure with heterogeneous data. It is very hard to represent the Panel in a graphical representation. But a Panel can be illustrated as a container of a DataFrame. In Panel Data and size are mutable.\n",
    "\n",
    "Value Mutable\n",
    "- Series, DataFrame and Panel all three are value mutable.\n",
    "\n",
    "Size Mutable\n",
    "- Only DataFrame and Panel are size mutable.\n",
    "- Series is not size mutable."
   ]
  },
  {
   "cell_type": "markdown",
   "id": "d8a7234b-7347-47f4-9472-5c3fb26ebfb6",
   "metadata": {},
   "source": [
    "Q7. Create a DataFrame using multiple Series. Explain with an example."
   ]
  },
  {
   "cell_type": "code",
   "execution_count": 23,
   "id": "df6c84e0-0a48-4a76-91ad-9898f4f988eb",
   "metadata": {},
   "outputs": [
    {
     "data": {
      "text/html": [
       "<div>\n",
       "<style scoped>\n",
       "    .dataframe tbody tr th:only-of-type {\n",
       "        vertical-align: middle;\n",
       "    }\n",
       "\n",
       "    .dataframe tbody tr th {\n",
       "        vertical-align: top;\n",
       "    }\n",
       "\n",
       "    .dataframe thead th {\n",
       "        text-align: right;\n",
       "    }\n",
       "</style>\n",
       "<table border=\"1\" class=\"dataframe\">\n",
       "  <thead>\n",
       "    <tr style=\"text-align: right;\">\n",
       "      <th></th>\n",
       "      <th>Name</th>\n",
       "      <th>Age</th>\n",
       "      <th>gender</th>\n",
       "    </tr>\n",
       "  </thead>\n",
       "  <tbody>\n",
       "    <tr>\n",
       "      <th>0</th>\n",
       "      <td>Alice</td>\n",
       "      <td>25</td>\n",
       "      <td>Female</td>\n",
       "    </tr>\n",
       "    <tr>\n",
       "      <th>1</th>\n",
       "      <td>Bob</td>\n",
       "      <td>30</td>\n",
       "      <td>Female</td>\n",
       "    </tr>\n",
       "    <tr>\n",
       "      <th>2</th>\n",
       "      <td>Claire</td>\n",
       "      <td>27</td>\n",
       "      <td>Female</td>\n",
       "    </tr>\n",
       "  </tbody>\n",
       "</table>\n",
       "</div>"
      ],
      "text/plain": [
       "     Name  Age  gender\n",
       "0   Alice   25  Female\n",
       "1     Bob   30  Female\n",
       "2  Claire   27  Female"
      ]
     },
     "execution_count": 23,
     "metadata": {},
     "output_type": "execute_result"
    }
   ],
   "source": [
    "#for creating a DataFrame using multiple Series we use pd.concat() function\n",
    "\n",
    "import pandas as pd\n",
    "c1=[\"Alice\", \"Bob\", \"Claire\"]\n",
    "c2=[25, 30, 27]\n",
    "c3=[\"Female\", \"Female\", \"Female\"]\n",
    "\n",
    "series1=pd.Series(c1, name=\"Name\")\n",
    "series2=pd.Series(c2, name=\"Age\")\n",
    "series3=pd.Series(c3, name=\"gender\")\n",
    "df = pd.concat([series1, series2, series3], axis=1)\n",
    "df"
   ]
  }
 ],
 "metadata": {
  "kernelspec": {
   "display_name": "Python 3 (ipykernel)",
   "language": "python",
   "name": "python3"
  },
  "language_info": {
   "codemirror_mode": {
    "name": "ipython",
    "version": 3
   },
   "file_extension": ".py",
   "mimetype": "text/x-python",
   "name": "python",
   "nbconvert_exporter": "python",
   "pygments_lexer": "ipython3",
   "version": "3.10.8"
  }
 },
 "nbformat": 4,
 "nbformat_minor": 5
}
