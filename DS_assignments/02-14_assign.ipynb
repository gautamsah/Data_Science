{
 "cells": [
  {
   "cell_type": "markdown",
   "id": "ccc8f74f-41ee-4ee1-8a74-07c087d41063",
   "metadata": {},
   "source": [
    "Q1. What is multithreading in python? Why is it used? Name the module used to handle threads in python."
   ]
  },
  {
   "cell_type": "markdown",
   "id": "8fb46310-300f-4fb1-9343-fd10782c110c",
   "metadata": {},
   "source": [
    "Multithreading in Python refers to the process of creating multiple threads of execution within a single program. A thread is a lightweight process that can run concurrently with other threads within the same program. Multithreading is used in Python to perform multiple tasks simultaneously and improve the performance of the program.It is a threading technique in Python programming to run multiple threads concurrently by rapidly switching between threads with a CPU help (called context switching).\n",
    "\n",
    "Multithreading is particularly useful when a program needs to perform several operations that can run concurrently, such as downloading multiple files from the internet, processing large amounts of data, or performing complex calculations.\n",
    "\n",
    "Multithreading is used because it provides the following benefits:\n",
    "1. It ensures effective utilization of computer system resources.\n",
    "2. Multithreaded applications are more responsive.\n",
    "3. It shares resources and its state with sub-threads (child) which makes it more economical.\n",
    "4. It makes the multiprocessor architecture more effective due to similarity.\n",
    "5. It saves time by executing multiple threads at the same time.\n",
    "6. The system does not require too much memory to store multiple threads.\n",
    "\n",
    "There are two main modules of multithreading used to handle threads in Python.\n",
    "1. The thread module - obsoleted\n",
    "2. The threading module - currently used\n",
    "\n",
    "There are 3 methods in threading module:\n",
    "1. start()\n",
    "A start() method is used to initiate the activity of a thread. And it calls only once for each thread so that the execution of the thread can begin.\n",
    "2. run()\n",
    "A run() method is used to define a thread's activity and can be overridden by a class that extends the threads class.\n",
    "3. join()\n",
    "A join() method is used to block the execution of another code until the thread terminates."
   ]
  },
  {
   "cell_type": "markdown",
   "id": "d74fd810-91ad-4773-8197-c64fc37e737a",
   "metadata": {},
   "source": [
    "Q2. Why threading module used? Write the use of the following functions:\n",
    "1. activeCount()\n",
    "2. currentThread()\n",
    "3. enumerate()"
   ]
  },
  {
   "cell_type": "markdown",
   "id": "62f67d3c-874a-4cb0-9e3a-4e657f3a5353",
   "metadata": {},
   "source": [
    "The threading module in Python is used to create and manage threads in a program. It allows a program to have multiple threads of execution running concurrently, which can improve performance and responsiveness of the program.\n",
    "\n",
    "1. activeCount() - Returns the number of thread objects that are active.\n",
    "This function returns the number of Thread objects that are active in the current program. An active thread is a thread that has been started but has not yet finished running. The activeCount() function can be useful for monitoring the progress of a program that uses multiple threads.\n",
    "\n",
    "2. currentThread() - Returns the number of thread objects in the caller's thread control.\n",
    "This function returns a reference to the Thread object representing the current thread of execution. This can be useful for identifying the current thread and for passing it as an argument to other functions that require a Thread object.\n",
    "\n",
    "3. enumerate() - Returns a list of all thread objects that are currently active.\n",
    "This function returns a list of all Thread objects that are currently active in the program. Each Thread object is represented by a tuple of the form (thread_ident, thread_object), where thread_ident is a unique integer identifier for the thread and thread_object is the Thread object itself. The enumerate() function can be useful for monitoring the progress of a program that uses multiple threads and for identifying all of the threads that are currently active."
   ]
  },
  {
   "cell_type": "markdown",
   "id": "6a36dc6a-a092-48b1-9145-0641f3e42476",
   "metadata": {},
   "source": [
    "Q3. Explain the following functions:\n",
    "1. run()\n",
    "2. start()\n",
    "3. join()\n",
    "4. isAlive()"
   ]
  },
  {
   "cell_type": "markdown",
   "id": "da3ce271-09a1-48fc-8902-2a167e966ade",
   "metadata": {},
   "source": [
    "1. run()\n",
    "A run() method is used to define a thread's activity and can be overridden by a class that extends the threads class.\n",
    "\n",
    "2. start()\n",
    "A start() method is used to initiate the activity of a thread. And it calls only once for each thread so that the execution of the thread can begin.\n",
    "\n",
    "3. join()\n",
    "A join() method is used to block the execution of another code until the thread terminates.\n",
    "\n",
    "4. isAlive()\n",
    "isAlive() is a method that is used to check whether a process is still running or has completed."
   ]
  },
  {
   "cell_type": "markdown",
   "id": "68b9b718-1693-4b1f-a03e-c1699de208a0",
   "metadata": {},
   "source": [
    "Q4. Write a python program to create two threads. Thread one must print the list of squares and thread two must print the list of cubes."
   ]
  },
  {
   "cell_type": "code",
   "execution_count": 2,
   "id": "789b3309-ed3b-4824-90bc-d3c8ab3f7158",
   "metadata": {},
   "outputs": [
    {
     "name": "stdout",
     "output_type": "stream",
     "text": [
      "Square of 1 is 1\n",
      "Cube of 1 is 1\n",
      "Square of 2 is 4\n",
      "Cube of 2 is 8\n",
      "Square of 3 is 9\n",
      "Cube of 3 is 27\n",
      "Square of 4 is 16\n",
      "Cube of 4 is 64\n",
      "Square of 5 is 25\n",
      "Cube of 5 is 125\n",
      "Square of 6 is 36\n",
      "Cube of 6 is 216\n",
      "Square of 7 is 49\n",
      "Cube of 7 is 343\n",
      "Square of 8 is 64\n",
      "Cube of 8 is 512\n",
      "Square of 9 is 81\n",
      "Cube of 9 is 729\n",
      "Square of 10 is 100\n",
      "Cube of 10 is 1000\n",
      "\n"
     ]
    }
   ],
   "source": [
    "import threading\n",
    "import logging\n",
    "logging.basicConfig(filename=\"test.log\", level=logging.INFO, format=\"%(message)s\")\n",
    "\n",
    "def square(i):\n",
    "    logging.info(\"Square of {} is {}\".format(i,i**2))\n",
    "\n",
    "def cube(i):\n",
    "    logging.info(\"Cube of {} is {}\".format(i,i**3))\n",
    "\n",
    "thread1=[threading.Thread(target=square, args=(i,)) for i in range(1,11)]\n",
    "thread2=[threading.Thread(target=cube, args=(i,)) for i in range(1,11)]\n",
    "\n",
    "for i in range(10):\n",
    "    thread1[i].start()\n",
    "    thread2[i].start()\n",
    "    thread1[i].join()\n",
    "    thread2[i].join()\n",
    "    \n",
    "with open(\"test.log\") as f:\n",
    "    print(f.read())"
   ]
  },
  {
   "cell_type": "markdown",
   "id": "f5a3d8f0-b6d1-46ee-bdb9-c339c498e4ac",
   "metadata": {},
   "source": [
    "Q5. State advantages and disadvantages of multithreading."
   ]
  },
  {
   "cell_type": "markdown",
   "id": "ba22ea86-dacf-4a8e-a6ca-158a51791528",
   "metadata": {
    "tags": []
   },
   "source": [
    "Advantages of multithreading:\n",
    "\n",
    "1. Improved Performance: Multithreading can improve the performance of a Python program by allowing multiple tasks to be executed concurrently.\n",
    "\n",
    "2. Responsiveness: Multithreading can make a program more responsive by allowing it to perform other tasks while waiting for I/O operations to complete.\n",
    "\n",
    "3. Better Resource Utilization: Multithreading can make better use of system resources, such as CPU and memory, by allowing multiple tasks to be executed concurrently.\n",
    "\n",
    "4. Simplified Design: Multithreading can simplify the design of a program by allowing complex tasks to be broken down into smaller, simpler tasks that can be executed concurrently.\n",
    "\n",
    "\n",
    "Disadvantages of multithreading:\n",
    "\n",
    "1. Race Conditions: Multithreading can lead to race conditions, where two or more threads access the same resource simultaneously, resulting in unpredictable behavior.\n",
    "\n",
    "2. Deadlocks: Multithreading can also lead to deadlocks, where two or more threads wait for each other to release a resource, resulting in a program freeze.\n",
    "\n",
    "3. Overhead: Multithreading can introduce overhead due to the additional management of threads and the synchronization of resources between threads.\n",
    "\n",
    "4. GIL Limitations: In Python, the Global Interpreter Lock (GIL) limits the ability of threads to run in parallel, making multithreading less effective for CPU-bound tasks."
   ]
  },
  {
   "cell_type": "markdown",
   "id": "66475eaa-851e-4ad4-93b8-8721f6588351",
   "metadata": {},
   "source": [
    "Q6. Explain deadlocks and race conditions."
   ]
  },
  {
   "cell_type": "markdown",
   "id": "7399e881-659b-4314-83d4-01be3e3a32a0",
   "metadata": {},
   "source": [
    "Deadlock: A deadlock is a situation where two or more threads are blocked, waiting for each other to release resources they need to continue. For example, if Thread A holds a lock on Resource X and is waiting to acquire a lock on Resource Y, and Thread B holds a lock on Resource Y and is waiting to acquire a lock on Resource X, a deadlock occurs because neither thread can proceed without the other releasing its lock. Deadlocks can occur when there is a circular dependency between two or more resources, or when multiple threads are trying to acquire locks on the same resources in a different order.\n",
    "\n",
    "Race Condition: A race condition occurs when the output of a program depends on the order in which threads execute, but that order is not guaranteed. For example, if two threads are both trying to update the same variable at the same time, the final value of the variable will depend on which thread gets to it first. If the threads access the variable in a non-atomic way (i.e., the variable is read, modified, and written in separate steps), this can lead to unpredictable behavior. Race conditions can also occur when two threads are accessing shared resources in a way that is not properly synchronized, leading to data corruption or other unexpected results."
   ]
  }
 ],
 "metadata": {
  "kernelspec": {
   "display_name": "Python 3 (ipykernel)",
   "language": "python",
   "name": "python3"
  },
  "language_info": {
   "codemirror_mode": {
    "name": "ipython",
    "version": 3
   },
   "file_extension": ".py",
   "mimetype": "text/x-python",
   "name": "python",
   "nbconvert_exporter": "python",
   "pygments_lexer": "ipython3",
   "version": "3.10.8"
  }
 },
 "nbformat": 4,
 "nbformat_minor": 5
}
