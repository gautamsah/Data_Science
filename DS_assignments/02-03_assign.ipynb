{
 "cells": [
  {
   "cell_type": "markdown",
   "id": "f710a585-d69c-40c1-95b7-93bb131060f2",
   "metadata": {},
   "source": [
    "Q1. Which keyword is used to create a function? Create a function to return a list of odd numbers in the range of 1 to 25."
   ]
  },
  {
   "cell_type": "code",
   "execution_count": 6,
   "id": "577bdb11-9eb5-4374-a7c5-555d62e3efbe",
   "metadata": {},
   "outputs": [
    {
     "name": "stdout",
     "output_type": "stream",
     "text": [
      "[1, 3, 5, 7, 9, 11, 13, 15, 17, 19, 21, 23]\n"
     ]
    }
   ],
   "source": [
    "#def keyword is used to create a function\n",
    "\n",
    "def odd_list(n):\n",
    "    list=[]\n",
    "    \n",
    "    if n<=25 or n>=1:\n",
    "        for i in range(n+1):\n",
    "            if i%2!=0:\n",
    "                list.append(i)\n",
    "        return list\n",
    "    else:\n",
    "        return \"invalid input\"\n",
    "\n",
    "print(odd_list(23))"
   ]
  },
  {
   "cell_type": "markdown",
   "id": "d663c5f9-f3db-4782-995b-7880d8ce2bff",
   "metadata": {},
   "source": [
    "Q2. Why *args and **kwargs is used in some functions? Create a function each for *args and **kwargs to demonstrate their use."
   ]
  },
  {
   "cell_type": "code",
   "execution_count": 1,
   "id": "99141011-3f24-42c8-bb80-91fdc4c8e115",
   "metadata": {},
   "outputs": [
    {
     "name": "stdout",
     "output_type": "stream",
     "text": [
      "5\n",
      "9\n",
      "14\n"
     ]
    }
   ],
   "source": [
    "#We can use *args and **kwargs as arguments of a function when you are unsure about the number of arguments to pass in the functions.\n",
    "# '*args' is used to return all the input arguments passed to a function.\n",
    "# '**kwargs' is used to return all the input arguments in dictionary's key and value pair form.\n",
    "\n",
    "def add(*args):\n",
    "    total = 0\n",
    "    for i in args:\n",
    "        total+=i\n",
    "    return total\n",
    "\n",
    "\n",
    "print(add(2, 3))\n",
    "print(add(2, 3, 4))\n",
    "print(add(2, 3, 4, 5))"
   ]
  },
  {
   "cell_type": "code",
   "execution_count": 3,
   "id": "cd00c6ae-3f4c-4e9a-a775-e8a118a22b6c",
   "metadata": {},
   "outputs": [
    {
     "name": "stdout",
     "output_type": "stream",
     "text": [
      "{'name': 'gautam', 'phone_num': 9897654324, 'age': 20}\n"
     ]
    }
   ],
   "source": [
    "def dictionary(**kwargs):\n",
    "    print(kwargs)\n",
    "\n",
    "dictionary(name=\"gautam\",phone_num=9897654324, age=20)"
   ]
  },
  {
   "cell_type": "markdown",
   "id": "5451fbad-90af-4469-90af-4acd01eb546a",
   "metadata": {},
   "source": [
    "Q3. What is an iterator in python? Name the method used to initialise the iterator object and the method used for iteration. Use these methods to print the first five elements of the given list [2, 4, 6, 8, 10, 12, 14, 16, 18, 20]."
   ]
  },
  {
   "cell_type": "code",
   "execution_count": 24,
   "id": "f8b19532-fa39-42d3-a716-4e2b032d84a4",
   "metadata": {},
   "outputs": [
    {
     "name": "stdout",
     "output_type": "stream",
     "text": [
      "2\n",
      "4\n",
      "6\n",
      "8\n",
      "10\n"
     ]
    }
   ],
   "source": [
    "#An iterator is an object that contains a countable number of values.\n",
    "#An iterator is an object that can be iterated upon, meaning that you can traverse through all the values.\n",
    "#An iterator can be initialised using __iter__() method and for iteratiion __next__() method is used.\n",
    "\n",
    "list=[2, 4, 6, 8, 10, 12, 14, 16, 18, 20]\n",
    "iteration=iter(list)\n",
    "\n",
    "print(next(iteration))\n",
    "print(next(iteration))\n",
    "print(next(iteration))\n",
    "print(next(iteration))\n",
    "print(next(iteration))"
   ]
  },
  {
   "cell_type": "markdown",
   "id": "cd337bf8-5712-46b3-a521-6dffaac29a81",
   "metadata": {},
   "source": [
    "Q4. What is a generator function in python? Why yield keyword is used? Give an example of a generator function."
   ]
  },
  {
   "cell_type": "code",
   "execution_count": 30,
   "id": "7069f439-9b3d-4c05-afcc-a307df2fc503",
   "metadata": {},
   "outputs": [
    {
     "name": "stdout",
     "output_type": "stream",
     "text": [
      "2\n",
      "4\n",
      "6\n"
     ]
    }
   ],
   "source": [
    "#Generator functions are a special kind of function that return a lazy iterator called a generator iterator. \n",
    "#These are objects that you can loop over like a list. \n",
    "#However, unlike lists, lazy iterators do not store their contents in memory.\n",
    "\n",
    "#The yield keyword in Python controls the flow of a generator function. \n",
    "#This is similar to a return statement but here as soon as a yield is encountered,\n",
    "#the execution of the function halts and returns a generator iterator object instead of simply returning a value.\n",
    "\n",
    "list=[2, 4, 6, 8, 10, 12, 14, 16, 18, 20]\n",
    "\n",
    "def gen_fun(list):\n",
    "    \n",
    "    for i in list:\n",
    "        yield i\n",
    "        \n",
    "func=gen_fun(list)\n",
    "print(next(func))\n",
    "print(next(func))\n",
    "print(next(func))"
   ]
  },
  {
   "cell_type": "markdown",
   "id": "5087cb50-3694-4066-9076-761456773c31",
   "metadata": {},
   "source": [
    "Q5. Create a generator function for prime numbers less than 1000. Use the next() method to print the first 20 prime numbers."
   ]
  },
  {
   "cell_type": "code",
   "execution_count": 34,
   "id": "8761a48d-c72c-40de-a88c-3ea36ad3bad2",
   "metadata": {},
   "outputs": [
    {
     "name": "stdout",
     "output_type": "stream",
     "text": [
      "2\n",
      "4\n",
      "6\n",
      "8\n",
      "10\n",
      "12\n",
      "14\n",
      "16\n",
      "18\n",
      "20\n",
      "22\n",
      "24\n",
      "26\n",
      "28\n",
      "30\n",
      "32\n",
      "34\n",
      "36\n",
      "38\n",
      "40\n"
     ]
    }
   ],
   "source": [
    "def even_gen_func():\n",
    "    for i in [*range(1,1001)]:\n",
    "        if i%2==0:\n",
    "            yield i\n",
    "        \n",
    "even_func=even_gen_func()\n",
    "for i in [*range(20)]:\n",
    "    print(next(even_func))"
   ]
  },
  {
   "cell_type": "markdown",
   "id": "ed08ecf6-6a10-46be-b42e-f7f38b6f183a",
   "metadata": {},
   "source": [
    "Q6. Write a python program to print the first 10 Fibonacci numbers using a while loop."
   ]
  },
  {
   "cell_type": "code",
   "execution_count": 3,
   "id": "2b9a871b-58a8-4a49-b347-c7ab3241254d",
   "metadata": {},
   "outputs": [
    {
     "name": "stdout",
     "output_type": "stream",
     "text": [
      "0\n",
      "1\n",
      "1\n",
      "2\n",
      "3\n",
      "5\n",
      "8\n",
      "13\n",
      "21\n",
      "34\n"
     ]
    }
   ],
   "source": [
    "n=10\n",
    "\n",
    "a,b=0,1\n",
    "while n>0:\n",
    "    print(a)\n",
    "    c=a+b\n",
    "    a=b\n",
    "    b=c\n",
    "    n-=1\n",
    "    "
   ]
  },
  {
   "cell_type": "markdown",
   "id": "326343b7-2a69-43a0-a469-5dbd285a55d9",
   "metadata": {},
   "source": [
    "Q7. Write a List Comprehension to iterate through the given string: 'pwskills'."
   ]
  },
  {
   "cell_type": "code",
   "execution_count": 4,
   "id": "4e9ef79a-8683-4be3-853c-d0476eada400",
   "metadata": {},
   "outputs": [
    {
     "name": "stdout",
     "output_type": "stream",
     "text": [
      "['p', 'w', 's', 'k', 'i', 'l', 'l', 's']\n"
     ]
    }
   ],
   "source": [
    "string=\"pwskills\"\n",
    "list=[x for x in string]\n",
    "print(list)"
   ]
  },
  {
   "cell_type": "markdown",
   "id": "3b200353-e0ae-4eed-8cc6-895887e4311c",
   "metadata": {},
   "source": [
    "Q8. Write a python program to check whether a given number is Palindrome or not using a while loop."
   ]
  },
  {
   "cell_type": "code",
   "execution_count": 17,
   "id": "dca296fe-5601-43ee-9cb3-bf3584af1708",
   "metadata": {},
   "outputs": [
    {
     "name": "stdin",
     "output_type": "stream",
     "text": [
      "Enter the number 232\n"
     ]
    },
    {
     "name": "stdout",
     "output_type": "stream",
     "text": [
      "Entered num is palidrome num\n"
     ]
    }
   ],
   "source": [
    "n=(input(\"Enter the number\"))\n",
    "org_num=int(n)\n",
    "count=len(n)\n",
    "n=int(n)\n",
    "check=0\n",
    "\n",
    "while count>0:\n",
    "    check=check+(org_num%10)*(10**(count-1))\n",
    "    org_num=int(org_num/10)\n",
    "    count-=1\n",
    "    #print(check)\n",
    "\n",
    "if check==n:\n",
    "    print(\"Entered num is palidrome num\")\n",
    "else:\n",
    "    print(\"Entered num is not a palidrome num\")"
   ]
  },
  {
   "cell_type": "markdown",
   "id": "5d1c4570-8b30-4377-9599-e22ba17609d7",
   "metadata": {},
   "source": [
    "Q9. Write a code to print odd numbers from 1 to 100 using list comprehension."
   ]
  },
  {
   "cell_type": "code",
   "execution_count": 21,
   "id": "eaac1fd7-f513-4fdc-be5f-4ae0ba81f2b1",
   "metadata": {},
   "outputs": [
    {
     "name": "stdout",
     "output_type": "stream",
     "text": [
      "[1, 3, 5, 7, 9, 11, 13, 15, 17, 19, 21, 23, 25, 27, 29, 31, 33, 35, 37, 39, 41, 43, 45, 47, 49, 51, 53, 55, 57, 59, 61, 63, 65, 67, 69, 71, 73, 75, 77, 79, 81, 83, 85, 87, 89, 91, 93, 95, 97, 99]\n"
     ]
    }
   ],
   "source": [
    "print([x for x in [*range(1,101)] if x%2!=0 ])"
   ]
  },
  {
   "cell_type": "code",
   "execution_count": null,
   "id": "17ee5d6f-0cb0-4a93-9673-dcee9ddcb153",
   "metadata": {},
   "outputs": [],
   "source": []
  }
 ],
 "metadata": {
  "kernelspec": {
   "display_name": "Python 3 (ipykernel)",
   "language": "python",
   "name": "python3"
  },
  "language_info": {
   "codemirror_mode": {
    "name": "ipython",
    "version": 3
   },
   "file_extension": ".py",
   "mimetype": "text/x-python",
   "name": "python",
   "nbconvert_exporter": "python",
   "pygments_lexer": "ipython3",
   "version": "3.10.8"
  }
 },
 "nbformat": 4,
 "nbformat_minor": 5
}
