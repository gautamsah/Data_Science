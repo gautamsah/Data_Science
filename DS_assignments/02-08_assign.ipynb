{
 "cells": [
  {
   "cell_type": "markdown",
   "id": "c3557112-db49-403b-8360-a67a77fae5da",
   "metadata": {},
   "source": [
    "Q1. What is Abstraction in OOps? Explain with an example."
   ]
  },
  {
   "cell_type": "markdown",
   "id": "20c07354-b25d-449a-a9b1-b92156495383",
   "metadata": {},
   "source": [
    "Abstraction is the process of hiding the internal details of an application from the outer world. Abstraction is used to describe things in simple terms. It’s used to create a boundary between the application and the client programs.\n",
    "\n",
    "e.g \n",
    "1. Your car is a great example of abstraction. You can start a car by turning the key or pressing the start button. You don’t need to know how the engine is getting started, what all components your car has. The car internal implementation and complex logic is completely hidden from the user.\n",
    "\n",
    "2. We can heat our food in Microwave. We press some buttons to set the timer and type of food. Finally, we get a hot and delicious meal. The microwave internal details are hidden from us. We have been given access to the functionality in a very simple manner."
   ]
  },
  {
   "cell_type": "markdown",
   "id": "f62c9687-3e5d-4d40-b09a-831d354a46f1",
   "metadata": {},
   "source": [
    "Q2. Differentiate between Abstraction and Encapsulation. Explain with an example."
   ]
  },
  {
   "cell_type": "markdown",
   "id": "a9edef0c-fba5-4892-a2fe-7dfaa649401e",
   "metadata": {},
   "source": [
    "Abstraction is the concept of object-oriented programming that \"shows\" only essential attributes and \"hides\" unnecessary information. The main purpose of abstraction is hiding the unnecessary details from the users. Abstraction is selecting data from a larger pool to show only relevant details of the object to the user. It helps in reducing programming complexity and efforts. It is one of the most important concepts of OOPs.\n",
    "\n",
    "Encapsulation is a method of making a complex system easier to handle for end users. The user need not worry about internal details and complexities of the system. Encapsulation is a process of wrapping the data and the code, that operate on the data into a single entity. You can assume it as a protective wrapper that stops random access of code defined outside that wrapper.\n",
    "\n",
    "Key differences:\n",
    "1. Abstraction shows only useful data by providing the most necessary details, whereas Encapsulation wraps code and data for necessary information.\n",
    "2. Abstraction is focused mainly on what should be done, while Encapsulation is focused on how it should be done.\n",
    "3. Abstraction hides complexity by giving you a more abstract picture, while Encapsulation hides internal work so that you can change it later.\n",
    "4. Abstraction helps you to partition the program into many independent portions, whereas Encapsulation is easy to change with new requirements.\n",
    "5. Comparing Encapsulation vs Abstraction, Abstraction solves problems at the design level while Encapsulation solves problems at the implementation level.\n",
    "6. Abstraction hides the irrelevant details found in the code, whereas Encapsulation helps developers to organize the entire code easily.\n",
    "\n",
    "Examples are:\n",
    "\n",
    "Abstraction:\n",
    "he best example of abstraction is a TV remote. The user only interacts with the outer interface that is nothing but keys. The user only knows which key to press for what function.\n",
    "\n",
    "Encapsultaion:\n",
    "Let’s take an example of mobile device. With the help of mobile devices, you can perform various functions like taking a picture, sending a message, recording video/ audio, access the web and much more.\n",
    "The features mentioned above are functionalities of most of the smartphone. However, you don’t need to understand the internal functioning details of those features before using this program. Example, you don’t need to know how your camera calculates gamma correction or identifies a human face in an image. You just need to learn the software interface. This is encapsulation."
   ]
  },
  {
   "cell_type": "markdown",
   "id": "eecc5e7a-55eb-4259-b9e9-87992077c548",
   "metadata": {},
   "source": [
    "Q3. What is abc module in python? Why is it used?"
   ]
  },
  {
   "cell_type": "markdown",
   "id": "fb9c443f-0b15-4be6-a8df-d39b17d4f10e",
   "metadata": {},
   "source": [
    "The abc module is called Abstract Base Classes.\n",
    "\n",
    "Abstract classes are classes that contain one or more abstract methods. An abstract method is a method that is declared, but contains no implementation. Abstract classes cannot be instantiated, and require subclasses to provide implementations for the abstract methods."
   ]
  },
  {
   "cell_type": "markdown",
   "id": "91941374-39d4-41ce-86f5-2312632a08d0",
   "metadata": {},
   "source": [
    "Q4. How can we achieve data abstraction?"
   ]
  },
  {
   "cell_type": "markdown",
   "id": "591ef429-68d5-48c2-a9a9-79309f2a1e47",
   "metadata": {
    "tags": []
   },
   "source": [
    "In Python, abstraction can be achieved by having/using abstract classes and methods in our programs.\n",
    " \n",
    "import abc\n",
    "class MyClass(ABC):\n",
    "    @abstractmethod\n",
    "    def mymethod(self):\n",
    "        pass"
   ]
  },
  {
   "cell_type": "markdown",
   "id": "280c6031-5143-4356-9fe6-a610295fda4c",
   "metadata": {},
   "source": [
    "Q5. Can we create an instance of an abstract class? Explain your answer."
   ]
  },
  {
   "cell_type": "markdown",
   "id": "f0f178f7-c553-480c-96f4-c479f8d26a3b",
   "metadata": {
    "tags": []
   },
   "source": [
    "An abstract class is a class, but not one you can create objects from directly. Its purpose is to define how other classes should look like, i.e. what methods and properties they are expected to have.\n",
    "\n",
    "To initialize an abstract class we have to first make a sub-class of that abstract class, and overriding the abstract methods and initiate the subclass and call the desired method."
   ]
  }
 ],
 "metadata": {
  "kernelspec": {
   "display_name": "Python 3 (ipykernel)",
   "language": "python",
   "name": "python3"
  },
  "language_info": {
   "codemirror_mode": {
    "name": "ipython",
    "version": 3
   },
   "file_extension": ".py",
   "mimetype": "text/x-python",
   "name": "python",
   "nbconvert_exporter": "python",
   "pygments_lexer": "ipython3",
   "version": "3.10.8"
  }
 },
 "nbformat": 4,
 "nbformat_minor": 5
}
