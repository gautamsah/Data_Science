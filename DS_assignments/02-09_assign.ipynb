{
 "cells": [
  {
   "cell_type": "markdown",
   "id": "1ce15477-459e-4275-ba79-4fe3fa3fcd3a",
   "metadata": {},
   "source": [
    "Q1. Create a vehicle class with an init method having instance variables as name_of_vehicle, max_speed and average_of_vehicle."
   ]
  },
  {
   "cell_type": "code",
   "execution_count": 1,
   "id": "3f51b2df-063b-42ac-b19e-6febb6a31dc9",
   "metadata": {},
   "outputs": [],
   "source": [
    "class vehicle:\n",
    "    def __init__(self, name_of_vehicle, max_speed, average_of_vehicle):\n",
    "        self.name_of_vehicle=name_of_vehicle\n",
    "        self.max_speed=max_speed\n",
    "        self.average_of_vehicle=average_of_vehicle"
   ]
  },
  {
   "cell_type": "markdown",
   "id": "a8cf33ad-bc3d-4ef5-911b-d42340c7e004",
   "metadata": {},
   "source": [
    "Q2. Create a child class car from the vehicle class created in Q1, which will inherit the vehicle class. Create a method named seating_capacity which takes capacity as an argument and returns the name of the vehicle and its seating capacity."
   ]
  },
  {
   "cell_type": "code",
   "execution_count": 5,
   "id": "1b765414-2f54-4e8a-a054-6f8f4e0623c2",
   "metadata": {},
   "outputs": [
    {
     "data": {
      "text/plain": [
       "('Innova', 7)"
      ]
     },
     "execution_count": 5,
     "metadata": {},
     "output_type": "execute_result"
    }
   ],
   "source": [
    "class car(vehicle):\n",
    "    \n",
    "    def seating_capacity(self, capacity):\n",
    "        self.capacity=capacity\n",
    "        return (self.name_of_vehicle, self.capacity)\n",
    "\n",
    "car1=car(\"Innova\", 120, 15.5)\n",
    "car1.seating_capacity(7)"
   ]
  },
  {
   "cell_type": "markdown",
   "id": "86040ec3-c4f4-4b67-bc9e-76e557d40676",
   "metadata": {},
   "source": [
    "Q3. What is multiple inheritance? Write a python code to demonstrate multiple inheritance."
   ]
  },
  {
   "cell_type": "code",
   "execution_count": 11,
   "id": "e88c14b5-1d15-4af5-96a4-e70487ca114b",
   "metadata": {},
   "outputs": [
    {
     "name": "stdout",
     "output_type": "stream",
     "text": [
      "Here are the father characteristics\n",
      "Here are the mother characteristics\n"
     ]
    }
   ],
   "source": [
    "#When a class is derived from more than one base class it is called multiple Inheritance. The derived class inherits all the features of the base case.\n",
    "\n",
    "class father:\n",
    "    def father_char(self):\n",
    "        print(\"Here are the father characteristics\")\n",
    "\n",
    "class mother:\n",
    "    def mother_char(self):\n",
    "        print(\"Here are the mother characteristics\")\n",
    "\n",
    "class child(father,mother):\n",
    "    pass\n",
    "\n",
    "child1=child()\n",
    "child1.father_char()\n",
    "child1.mother_char()"
   ]
  },
  {
   "cell_type": "markdown",
   "id": "6e241a7d-ea17-43e8-86c9-63dd915218e9",
   "metadata": {},
   "source": [
    "Q4. What are getter and setter in python? Create a class and create a getter and a setter method in this class."
   ]
  },
  {
   "cell_type": "markdown",
   "id": "329818aa-34e2-458e-aaae-b120b96a0f9c",
   "metadata": {},
   "source": [
    "The main purpose of using getters and setters in object-oriented programs is to ensure data encapsulation. Private variables in python are not actually hidden fields like in other object oriented languages. Getters and Setters in python are often used when:\n",
    "\n",
    "1. We use getters & setters to add validation logic around getting and setting a value.\n",
    "2. To avoid direct access of a class field i.e. private variables cannot be accessed directly or modified by external user."
   ]
  },
  {
   "cell_type": "code",
   "execution_count": 16,
   "id": "dd014339-fcc0-4ccd-a090-c63d4e719f8d",
   "metadata": {},
   "outputs": [
    {
     "name": "stdout",
     "output_type": "stream",
     "text": [
      "9876543210\n",
      "9998887770\n"
     ]
    }
   ],
   "source": [
    "class student_details:\n",
    "    \n",
    "    def __init__(self, student_name, phone_num):\n",
    "        self.student_name=student_name\n",
    "        self.__phone_num=phone_num\n",
    "        \n",
    "    def get_phone_num(self):\n",
    "        return self.__phone_num\n",
    "    \n",
    "    def set_phone_num(self, num):\n",
    "        self.__phone_num=num\n",
    "    \n",
    "stu1=student_details(\"Gautam\", 9876543210)\n",
    "print(stu1.get_phone_num())\n",
    "stu1.set_phone_num(9998887770)\n",
    "print(stu1.get_phone_num())"
   ]
  },
  {
   "cell_type": "markdown",
   "id": "4009db04-1bc6-44c4-87e7-5dc40eb26f43",
   "metadata": {},
   "source": [
    "Q5. What is method overriding in python? Write a python code to demonstrate method overriding."
   ]
  },
  {
   "cell_type": "markdown",
   "id": "0d5c64a1-de05-4a75-91e7-d1f469754734",
   "metadata": {},
   "source": [
    "Method overriding is a feature of object-oriented programming languages where the subclass or child class can provide the program with specific characteristics or a specific implementation process of data provided that are already defined in the parent class or superclass."
   ]
  },
  {
   "cell_type": "code",
   "execution_count": 17,
   "id": "5f77f592-dc68-43fd-ae19-39bdda881aed",
   "metadata": {},
   "outputs": [
    {
     "name": "stdout",
     "output_type": "stream",
     "text": [
      "Here are the father characteristics\n",
      "Here are the child characteristics\n"
     ]
    }
   ],
   "source": [
    "class Father():\n",
    "      \n",
    "    def characteristics(self):\n",
    "        print(\"Here are the father characteristics\")\n",
    "          \n",
    "class Child(father):\n",
    "      \n",
    "    def characteristics(self):\n",
    "        print(\"Here are the child characteristics\")\n",
    "          \n",
    "parent = Father()\n",
    "child1 = Child()\n",
    "  \n",
    "parent.characteristics()\n",
    "child1.characteristics()"
   ]
  },
  {
   "cell_type": "code",
   "execution_count": null,
   "id": "e1ee5565-8cbf-40f3-b8d9-43e972423973",
   "metadata": {},
   "outputs": [],
   "source": []
  }
 ],
 "metadata": {
  "kernelspec": {
   "display_name": "Python 3 (ipykernel)",
   "language": "python",
   "name": "python3"
  },
  "language_info": {
   "codemirror_mode": {
    "name": "ipython",
    "version": 3
   },
   "file_extension": ".py",
   "mimetype": "text/x-python",
   "name": "python",
   "nbconvert_exporter": "python",
   "pygments_lexer": "ipython3",
   "version": "3.10.8"
  }
 },
 "nbformat": 4,
 "nbformat_minor": 5
}
