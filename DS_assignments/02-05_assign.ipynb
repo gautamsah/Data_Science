{
 "cells": [
  {
   "cell_type": "markdown",
   "id": "07759a75-5542-4d2f-b11a-97a47cb534c1",
   "metadata": {},
   "source": [
    "Q1. Explain Class and Object with respect to Object-Oriented Programming. Give a suitable example."
   ]
  },
  {
   "cell_type": "markdown",
   "id": "d2177f32-2c10-4387-8dd9-36710f8fdb24",
   "metadata": {},
   "source": [
    "Class are a blueprint or a set of instructions to build a specific type of object. It is a basic concept of Object-Oriented Programming which revolve around the real-life entities. Class in Java determines how an object will behave and what the object will contain.\n",
    "\n",
    "Object is an instance of a class. An object in OOPS is nothing but a self-contained component which consists of methods and properties to make a particular type of data useful. \n",
    "\n",
    "For example color name, table, bag, barking. When you send a message to an object, you are asking the object to invoke or execute one of its methods as defined in the class."
   ]
  },
  {
   "cell_type": "markdown",
   "id": "b998690c-46e2-4dd7-b43e-e5fad835bc7e",
   "metadata": {},
   "source": [
    "Q2. Name the four pillars of OOPS."
   ]
  },
  {
   "cell_type": "markdown",
   "id": "d357fa30-669f-420a-9e8e-79cff0eb9656",
   "metadata": {},
   "source": [
    "The four pillars of object-oriented programming are:\n",
    "\n",
    "1. Abstraction\n",
    "2. Encapsulation\n",
    "3. Inheritance\n",
    "4. Polymorphism"
   ]
  },
  {
   "cell_type": "markdown",
   "id": "6dfbb75e-1e7a-4002-8f3a-9e11a0e6c72c",
   "metadata": {},
   "source": [
    "Q3. Explain why the init() function is used. Give a suitable example."
   ]
  },
  {
   "cell_type": "markdown",
   "id": "64760804-5105-468a-85dd-c9be514e6fc3",
   "metadata": {},
   "source": [
    "In an object-oriented approach, the __init__ method is the Python equivalent of the C++ constructor. Every time an object is created from a class, the __init__function is called. The __init__ method only allows the class to initialize the object's attributes. It is only used within classes."
   ]
  },
  {
   "cell_type": "code",
   "execution_count": 3,
   "id": "7cefbcd5-1a67-49d1-9c1c-cb2de7381b08",
   "metadata": {},
   "outputs": [
    {
     "name": "stdout",
     "output_type": "stream",
     "text": [
      "toyota\n"
     ]
    }
   ],
   "source": [
    "class car:\n",
    "    def __init__(self,company,model):\n",
    "        self.company=company\n",
    "        self.model=model\n",
    "    \n",
    "car1=car(\"toyota\", \"innova\")\n",
    "print(car1.company)"
   ]
  },
  {
   "cell_type": "markdown",
   "id": "93aa04a2-aac7-482e-84ac-60190fb44690",
   "metadata": {},
   "source": [
    "Q4. Why self is used in OOPS?"
   ]
  },
  {
   "cell_type": "markdown",
   "id": "6431b612-0aac-44e6-90b4-7945b922ae10",
   "metadata": {},
   "source": [
    "The self variable is used to represent the instance of the class which is often used in object-oriented programming. It works as a reference to the object. Python uses the self parameter to refer to instance attributes and methods of the class. "
   ]
  },
  {
   "cell_type": "markdown",
   "id": "8ded8d0b-e34c-4789-87ba-b5c402a1afb3",
   "metadata": {},
   "source": [
    "Q5. What is inheritance? Give an example for each type of inheritance."
   ]
  },
  {
   "cell_type": "markdown",
   "id": "e4a1cdc9-56fd-456d-b0e6-4e445e4d8c33",
   "metadata": {},
   "source": [
    "nheritance is a mechanism of acquiring the features and behaviors of a class by another class. The class whose members are inherited is called the base class, and the class that inherits those members is called the derived class. Inheritance implements the IS-A relationship.\n",
    "\n",
    "For example, mammal IS-A animal, dog IS-A mammal; Hence dog IS-A animal as well.\n",
    "\n",
    "Single Inheritance: \n",
    "Single inheritance enables a derived class to inherit properties from a single parent class, thus enabling code reusability and the addition of new features to existing code.\n",
    "\n",
    "e.g. child inherits from his father\n",
    "\n",
    "Multiple Inheritance: \n",
    "When a class can be derived from more than one base class this type of inheritance is called multiple inheritances. In multiple inheritances, all the features of the base classes are inherited into the derived class. \n",
    "\n",
    "e.g. child inherits from his father as well as from his mother\n",
    "\n",
    "Multilevel Inheritance :\n",
    "In multilevel inheritance, features of the base class and the derived class are further inherited into the new derived class. This is similar to a relationship representing a child and a grandfather.\n",
    "\n",
    "e.g. child inherits from father and his father inherits from his grandfather, so some qualities of child is inherited from his grandfather\n",
    "\n",
    "Hierarchical Inheritance: \n",
    "When more than one derived class are created from a single base this type of inheritance is called hierarchical inheritance. In this program, we have a parent (base) class and two child (derived) classes.\n",
    "\n",
    "e.g. when there are 2 or more children then all children inherit from their father\n",
    "\n",
    "Hybrid Inheritance: \n",
    "Inheritance consisting of multiple types of inheritance is called hybrid inheritance."
   ]
  },
  {
   "cell_type": "code",
   "execution_count": 8,
   "id": "dabeba06-831f-4302-914a-d2f94c33a9d6",
   "metadata": {},
   "outputs": [
    {
     "data": {
      "text/plain": [
       "'this is father class'"
      ]
     },
     "execution_count": 8,
     "metadata": {},
     "output_type": "execute_result"
    }
   ],
   "source": [
    "#Single Inheritance\n",
    "\n",
    "class father:\n",
    "    def __init__(self):\n",
    "        pass\n",
    "    \n",
    "    def info():\n",
    "        return \"this is father class\"\n",
    "    \n",
    "class child(father):\n",
    "    pass\n",
    "\n",
    "child1=child()\n",
    "child.info()"
   ]
  },
  {
   "cell_type": "code",
   "execution_count": 11,
   "id": "ac9d656e-e3c3-4b01-aad8-68249a6da8d3",
   "metadata": {},
   "outputs": [
    {
     "name": "stdout",
     "output_type": "stream",
     "text": [
      "this is father class\n",
      "this is mother class\n"
     ]
    }
   ],
   "source": [
    "#Multiple Inheritance\n",
    "\n",
    "class father:\n",
    "    def __init__(self):\n",
    "        pass\n",
    "    \n",
    "    def info_father():\n",
    "        return \"this is father class\"\n",
    "\n",
    "    \n",
    "class mother:\n",
    "    def __init__(self):\n",
    "        pass\n",
    "    \n",
    "    def info_mother():\n",
    "        return \"this is mother class\"\n",
    "\n",
    "\n",
    "class child(father,mother):\n",
    "    pass\n",
    "\n",
    "child1=child()\n",
    "print(child.info_father())\n",
    "print(child.info_mother())"
   ]
  },
  {
   "cell_type": "code",
   "execution_count": 12,
   "id": "a6debb6c-1328-47b5-ac26-05f619e011d3",
   "metadata": {},
   "outputs": [
    {
     "name": "stdout",
     "output_type": "stream",
     "text": [
      "this is father class\n",
      "this is grandfather class\n"
     ]
    }
   ],
   "source": [
    "#Multilevel Inheritance\n",
    "\n",
    "class grandfather:\n",
    "    def __init__(self):\n",
    "        pass\n",
    "    \n",
    "    def info_grandfather():\n",
    "        return \"this is grandfather class\"\n",
    "\n",
    "    \n",
    "class father(grandfather):\n",
    "    def __init__(self):\n",
    "        pass\n",
    "    \n",
    "    def info_father():\n",
    "        return \"this is father class\"\n",
    "\n",
    "\n",
    "class child(father):\n",
    "    pass\n",
    "\n",
    "child1=child()\n",
    "print(child.info_father())\n",
    "print(child.info_grandfather())"
   ]
  },
  {
   "cell_type": "code",
   "execution_count": 15,
   "id": "6f78449b-713d-4869-baae-63b095b4791d",
   "metadata": {},
   "outputs": [
    {
     "name": "stdout",
     "output_type": "stream",
     "text": [
      "this is father class\n",
      "this is father class\n"
     ]
    }
   ],
   "source": [
    "#Hierarchical Inheritance\n",
    "\n",
    "class father:\n",
    "    def __init__(self):\n",
    "        pass\n",
    "    \n",
    "    def info():\n",
    "        return \"this is father class\"\n",
    "    \n",
    "class child1(father):\n",
    "    pass\n",
    "\n",
    "class child2(father):\n",
    "    pass\n",
    "\n",
    "child_1=child1()\n",
    "print(child1.info())\n",
    "\n",
    "child_2=child2()\n",
    "print(child2.info())"
   ]
  },
  {
   "cell_type": "code",
   "execution_count": null,
   "id": "d28634bc-9ada-4870-a443-185fe7168a48",
   "metadata": {},
   "outputs": [],
   "source": []
  }
 ],
 "metadata": {
  "kernelspec": {
   "display_name": "Python 3 (ipykernel)",
   "language": "python",
   "name": "python3"
  },
  "language_info": {
   "codemirror_mode": {
    "name": "ipython",
    "version": 3
   },
   "file_extension": ".py",
   "mimetype": "text/x-python",
   "name": "python",
   "nbconvert_exporter": "python",
   "pygments_lexer": "ipython3",
   "version": "3.10.8"
  }
 },
 "nbformat": 4,
 "nbformat_minor": 5
}
