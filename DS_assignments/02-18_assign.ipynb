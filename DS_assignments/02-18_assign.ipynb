{
 "cells": [
  {
   "cell_type": "markdown",
   "id": "b7d426c9-edf7-4fb3-b699-70d71c350561",
   "metadata": {},
   "source": [
    "Q1. What is an API? Give an example, where an API is used in real life."
   ]
  },
  {
   "cell_type": "markdown",
   "id": "3ec43ab7-ec17-4001-9ce7-05f1798a98e9",
   "metadata": {},
   "source": [
    "- An API is the interface that allows two independent software components to exchange information. An API acts as an intermediary between internal software functions and external ones, creating an exchange of information so seamless that it often goes unnoticed by the end user.\n",
    "\n",
    "- An API functions like a virtual middleman, relaying information from one interface, like a mobile app, to another. APIs connect different parts of a software platform to ensure that information ends up in the right place.\n",
    "\n",
    "- These connection points function not only as an internal communications channel but also as a means for external tools to access the same information.\n",
    "\n",
    "- In practice, an API can be used to connect virtually any processes.\n",
    "\n",
    "Examples are:\n",
    "\n",
    "- Sharing flight information between airlines and travel sites\n",
    "- Using Google Maps in a ola, zomato, swiggy app\n",
    "- Building chatbots in a messaging service\n",
    "- Embedding YouTube videos into a webpage\n",
    "- Automating workflows between B2B software tools"
   ]
  },
  {
   "cell_type": "markdown",
   "id": "a5f3bad9-2a79-40f8-bcd7-319706b138b6",
   "metadata": {},
   "source": [
    "Q2. Give advantages and disadvantages of using API."
   ]
  },
  {
   "cell_type": "markdown",
   "id": "c600ed75-6cad-4370-a62c-1884bb54b4c2",
   "metadata": {},
   "source": [
    "Advantages of using APIs are:\n",
    "\n",
    "1. Improved integration: APIs enable software systems to communicate with each other in a standardized and streamlined way, which facilitates integration and data exchange.\n",
    "\n",
    "2. Increased productivity: Developers can save time and resources by using pre-built APIs instead of developing custom integrations from scratch. This allows them to focus on creating unique features and functionalities that differentiate their product from others.\n",
    "\n",
    "3. Expanded functionality: APIs allow developers to access features and functionality that are not available in their own system. This can lead to expanded capabilities, such as integrating with social media platforms, payment gateways, or mapping services.\n",
    "\n",
    "4. Enhanced user experience: By providing access to third-party functionality, APIs can improve the user experience of an application, making it more useful and engaging.\n",
    "\n",
    "5. Adaptation: Needs change over time and APIs help to anticipate change\n",
    "\n",
    "6. Automated Tasks: Applications ensure automation through their inter-relationship and thereby resulting in a smooth transition of data.\n",
    "\n",
    "Disadvantages of using APIs are:\n",
    "\n",
    "1. Security risks: APIs can introduce new security risks, especially if they are poorly designed or implemented. APIs can provide a point of entry for attackers to exploit vulnerabilities in the system.\n",
    "\n",
    "2. Dependence on third-party providers: Relying on third-party APIs can introduce dependencies on those providers. If the provider experiences downtime, changes its API, or goes out of business, it can disrupt the functioning of the dependent system.\n",
    "\n",
    "3. Complexity: APIs can be complex to develop, implement, and maintain. This can require significant resources and expertise, which may be challenging for some organizations.\n",
    "\n",
    "4. Cost: Some APIs may be expensive to use, especially those that provide premium features or high usage limits. This can add to the overall cost of developing and operating an application.\n",
    "\n",
    "5. Inconsistency: In case you need to tweak existing code to add some extra functionality you might need to wade through layers and layers of files just to identify the line where you need to make any changes. It can get pretty annoying at times."
   ]
  },
  {
   "cell_type": "markdown",
   "id": "92314f8f-abf6-470b-a8a3-e03dcb984bbf",
   "metadata": {},
   "source": [
    "Q3. What is a Web API? Differentiate between API and Web API."
   ]
  },
  {
   "cell_type": "markdown",
   "id": "bd7c2c17-5ac9-4c0e-9b29-fd1774888a02",
   "metadata": {},
   "source": [
    "- A Web API is a specific type of API that is designed to be used over the internet through a web browser. \n",
    "- Web APIs are typically based on HTTP (Hypertext Transfer Protocol) and use common web technologies such as JSON (JavaScript Object Notation) or XML (Extensible Markup Language) to transmit data. \n",
    "- Web APIs are often used to enable different web-based applications to share data or functionality, such as allowing a mobile app to access data from a social media platform.\n",
    "- Web API is implemented via REST API, SOAP API.\n",
    "\n",
    "The key difference between an API and a Web API is that an API can be designed to work with any type of application, whereas a Web API is specifically designed to be used over the internet via a web browser. While many APIs can be accessed over the internet, a Web API is optimized for web-based use and typically uses web-specific technologies such as HTTP and JSON or XML. "
   ]
  },
  {
   "cell_type": "markdown",
   "id": "8d01e4ad-1fc4-480d-a618-1e4a3b5c7959",
   "metadata": {},
   "source": [
    "Q4. Explain REST and SOAP Architecture. Mention shortcomings of SOAP."
   ]
  },
  {
   "cell_type": "markdown",
   "id": "8e95d1b8-4ad3-41a2-a861-02d52b955522",
   "metadata": {},
   "source": [
    "REST (Representational State Transfer)\n",
    "- REST is an architectural style for building distributed systems based on the principles of the web. \n",
    "- It uses HTTP methods (GET, POST, PUT, DELETE) to manipulate resources identified by URLs (Uniform Resource Locators). \n",
    "- RESTful web services are stateless and use hypermedia to represent and link resources, allowing clients to navigate through the API. \n",
    "- REST is flexible and easy to implement, making it a popular choice for building web services.\n",
    "\n",
    "SOAP (Simple Object Access Protocol)\n",
    "- SOAP, on the other hand, is a messaging protocol for exchanging structured data over the internet. \n",
    "- It uses XML (Extensible Markup Language) to define the structure of the message and supports various transport protocols, such as HTTP, SMTP, and TCP. \n",
    "- SOAP is designed to be platform- and language-independent, making it suitable for heterogeneous environments.\n",
    "- SOAP supports more features than REST, such as built-in error handling and security, making it a good choice for enterprise applications that require strict reliability and security.\n",
    "\n",
    "The shortcomings of SOAP are:\n",
    "1. Complexity: SOAP is complex and has a steep learning curve, making it more difficult to implement and maintain than REST.\n",
    "\n",
    "2. Overhead: SOAP messages are verbose and require more bandwidth to transmit than REST messages, making SOAP less suitable for high-performance, low-bandwidth applications.\n",
    "\n",
    "3. Limited scalability: SOAP requires more resources on both the server and the client sides, limiting its scalability compared to REST.\n",
    "\n",
    "4. Lack of flexibility: SOAP is rigid and requires a lot of overhead to support changes, making it less flexible than REST."
   ]
  },
  {
   "cell_type": "markdown",
   "id": "ac90f66a-4dfd-4600-9fad-147b8aa0c28d",
   "metadata": {},
   "source": [
    "Q5. Differentiate between REST and SOAP."
   ]
  },
  {
   "cell_type": "markdown",
   "id": "98394792-237f-4928-a503-aa23be6bf925",
   "metadata": {},
   "source": [
    "SOAP\n",
    "•  Language, platform, and transport independent (REST requires use of HTTP)\n",
    "•  Works well in distributed enterprise environments (REST assumes direct point-to-point communication)\n",
    "•  Standardized\n",
    "•  Provides significant pre-build extensibility in the form of the WS* standards\n",
    "•  Built-in error handling\n",
    "•  Automation when used with certain language products\n",
    "\n",
    "REST\n",
    "•  REST is easier to use for the most part and is more flexible.\n",
    "•  No expensive tools require to interact with the web service\n",
    "•  Smaller learning curve\n",
    "•  Efficient (SOAP uses XML for all messages, REST can use smaller message formats)\n",
    "•  Fast (no extensive processing required)\n",
    "•  Closer to other web technologies in design philosophy"
   ]
  }
 ],
 "metadata": {
  "kernelspec": {
   "display_name": "Python 3 (ipykernel)",
   "language": "python",
   "name": "python3"
  },
  "language_info": {
   "codemirror_mode": {
    "name": "ipython",
    "version": 3
   },
   "file_extension": ".py",
   "mimetype": "text/x-python",
   "name": "python",
   "nbconvert_exporter": "python",
   "pygments_lexer": "ipython3",
   "version": "3.10.8"
  }
 },
 "nbformat": 4,
 "nbformat_minor": 5
}
