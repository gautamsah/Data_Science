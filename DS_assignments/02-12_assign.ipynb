{
 "cells": [
  {
   "cell_type": "markdown",
   "id": "b26cbf3b-2e71-4de2-9a1c-43de71e546bf",
   "metadata": {},
   "source": [
    "Q1. What is an Exception in python? Write the difference between Exceptions and Syntax errors."
   ]
  },
  {
   "cell_type": "markdown",
   "id": "76207242-8ad5-4bc5-9fc4-dc8ceba91996",
   "metadata": {},
   "source": [
    "In Python, an exception is an error that occurs during the execution of a program, which interrupts the normal flow of the code. When an exception occurs, Python raises an exception object, which contains information about the error, such as the type, message, and traceback.\n",
    "\n",
    "Exceptions can occur for various reasons, such as invalid inputs, division by zero, file not found, network errors, or programming errors. By handling exceptions, you can gracefully recover from errors, log them, or display user-friendly messages. To handle exceptions in Python, you can use try-except blocks, which allow you to catch and handle specific types of exceptions.\n",
    "\n",
    "Syntax errors, on the other hand, are errors that occur during the parsing of the code, before the execution starts. Syntax errors occur when the code violates the rules of the Python syntax, such as using invalid keywords, missing parentheses, or mismatched quotes. Syntax errors prevent the code from running at all and require you to fix them before the code can be executed.\n",
    "\n",
    "The main differences between exceptions and syntax errors in Python are:\n",
    "\n",
    "Cause: Exceptions are caused by runtime errors, while Syntax errors are caused by code that doesn't follow the syntax rules of the language.\n",
    "\n",
    "Occurrence: Exceptions occur during the execution of the code, while syntax errors occur during the parsing of the code.\n",
    "\n",
    "Handling: Exceptions can be handled using try-except blocks, which allow you to recover from errors and continue the program's execution. Syntax errors cannot be handled in the same way and require you to fix them before running the code.\n",
    "\n",
    "Types: Exceptions can occur for various reasons, such as input errors, network errors, or programming errors, while syntax errors occur only when the code violates the Python syntax rules.\n",
    "\n",
    "Error messages: Exceptions provide detailed error messages, including the type, message, and traceback, which can help you identify and fix the errors. Syntax errors provide simpler error messages, indicating the location and type of the error."
   ]
  },
  {
   "cell_type": "markdown",
   "id": "5bc7c45e-e665-4d71-9cd7-22201636bf20",
   "metadata": {},
   "source": [
    "Q2. What happens when an exception is not handled? Explain with an example."
   ]
  },
  {
   "cell_type": "markdown",
   "id": "19a00e29-a088-4032-acb5-63a098d1484e",
   "metadata": {},
   "source": [
    "When an exception is not handled in a Python program, the program will terminate abruptly and display an error message, also known as a traceback, which describes the exception that was raised and the sequence of function calls that led up to it. This can be problematic because it doesn't give the program an opportunity to recover from the error and continue executing."
   ]
  },
  {
   "cell_type": "code",
   "execution_count": 22,
   "id": "1be8bc6e-ff51-4af4-8bd4-053b215f4ae3",
   "metadata": {},
   "outputs": [
    {
     "ename": "ZeroDivisionError",
     "evalue": "division by zero",
     "output_type": "error",
     "traceback": [
      "\u001b[0;31m---------------------------------------------------------------------------\u001b[0m",
      "\u001b[0;31mZeroDivisionError\u001b[0m                         Traceback (most recent call last)",
      "Cell \u001b[0;32mIn[22], line 7\u001b[0m\n\u001b[1;32m      4\u001b[0m \u001b[38;5;28;01mdef\u001b[39;00m \u001b[38;5;21mdivide_by_zero\u001b[39m():\n\u001b[1;32m      5\u001b[0m     \u001b[38;5;28;01mreturn\u001b[39;00m \u001b[38;5;241m10\u001b[39m \u001b[38;5;241m/\u001b[39m \u001b[38;5;241m0\u001b[39m\n\u001b[0;32m----> 7\u001b[0m \u001b[43mdivide_by_zero\u001b[49m\u001b[43m(\u001b[49m\u001b[43m)\u001b[49m\n",
      "Cell \u001b[0;32mIn[22], line 5\u001b[0m, in \u001b[0;36mdivide_by_zero\u001b[0;34m()\u001b[0m\n\u001b[1;32m      4\u001b[0m \u001b[38;5;28;01mdef\u001b[39;00m \u001b[38;5;21mdivide_by_zero\u001b[39m():\n\u001b[0;32m----> 5\u001b[0m     \u001b[38;5;28;01mreturn\u001b[39;00m \u001b[38;5;241;43m10\u001b[39;49m\u001b[43m \u001b[49m\u001b[38;5;241;43m/\u001b[39;49m\u001b[43m \u001b[49m\u001b[38;5;241;43m0\u001b[39;49m\n",
      "\u001b[0;31mZeroDivisionError\u001b[0m: division by zero"
     ]
    }
   ],
   "source": [
    "import logging\n",
    "logging.basicConfig(filename=\"text.log\", level=logging.INFO)\n",
    "\n",
    "def divide_by_zero():\n",
    "    return 10 / 0\n",
    "\n",
    "divide_by_zero()"
   ]
  },
  {
   "cell_type": "markdown",
   "id": "70407ae6-222b-4dd0-89a0-1e358dbdca1c",
   "metadata": {},
   "source": [
    "Q3. Which Python statements are used to catch and handle exceptions? Explain with an example."
   ]
  },
  {
   "cell_type": "markdown",
   "id": "08537017-5662-47be-ab87-73f5b97398af",
   "metadata": {},
   "source": [
    "The try and except block in Python is used to catch and handle exceptions. Python executes code following the try statement as a “normal” part of the program. The code that follows the except statement is the program’s response to any exceptions in the preceding try clause."
   ]
  },
  {
   "cell_type": "code",
   "execution_count": 23,
   "id": "8ce62c74-b71d-409a-802e-162ff3c32883",
   "metadata": {},
   "outputs": [
    {
     "name": "stdout",
     "output_type": "stream",
     "text": [
      "division by zero\n"
     ]
    }
   ],
   "source": [
    "import logging\n",
    "logging.basicConfig(filename=\"text.log\", level=logging.INFO)\n",
    "\n",
    "try:\n",
    "    a=10/0\n",
    "except ZeroDivisionError as e:\n",
    "    print(e)\n",
    "    logging.error(e)"
   ]
  },
  {
   "cell_type": "markdown",
   "id": "9e149a84-7f04-4e6f-bca2-14a77ea88133",
   "metadata": {},
   "source": [
    "Q4. Explain with an example:\n",
    "a. try and else\n",
    "b. finally\n",
    "c. raise"
   ]
  },
  {
   "cell_type": "code",
   "execution_count": 24,
   "id": "fd73a1d0-1de3-49ef-9edd-b3ae166ef190",
   "metadata": {},
   "outputs": [
    {
     "name": "stdout",
     "output_type": "stream",
     "text": [
      "division value is 2.0\n"
     ]
    }
   ],
   "source": [
    "#a. try and else\n",
    "import logging\n",
    "logging.basicConfig(filename=\"text.log\", level=logging.INFO)\n",
    "\n",
    "try:\n",
    "    a=10/5\n",
    "except ZeroDivisionError as e:\n",
    "    print(e)\n",
    "    logging.erroe(e)\n",
    "else:\n",
    "    print(\"division value is {}\".format(a))\n",
    "    logging.info(\"division value is {}\".format(a))"
   ]
  },
  {
   "cell_type": "code",
   "execution_count": 25,
   "id": "a45398ae-436f-4449-b322-13d53b9f2d7b",
   "metadata": {},
   "outputs": [
    {
     "name": "stdout",
     "output_type": "stream",
     "text": [
      "[Errno 2] No such file or directory: 'test.txt'\n",
      "this is finally block\n"
     ]
    }
   ],
   "source": [
    "#b. finally\n",
    "import logging\n",
    "logging.basicConfig(filename=\"text.log\", level=logging.INFO)\n",
    "\n",
    "try:\n",
    "    with open(\"test.txt\", \"r\") as f:\n",
    "        print(f.read())\n",
    "        logging.info(f.read())\n",
    "except Exception as e:\n",
    "    print(e)\n",
    "    logging.error(e)\n",
    "finally:\n",
    "    print(\"this is finally block\")\n",
    "    logging.info(\"this is finally block\")"
   ]
  },
  {
   "cell_type": "code",
   "execution_count": 27,
   "id": "ba482449-7e3f-442a-a098-65b91e4b78e9",
   "metadata": {},
   "outputs": [
    {
     "name": "stdin",
     "output_type": "stream",
     "text": [
      "enter phone number 789456123\n"
     ]
    },
    {
     "name": "stdout",
     "output_type": "stream",
     "text": [
      "Enter 10 digit number\n"
     ]
    }
   ],
   "source": [
    "#c. raise\n",
    "import logging\n",
    "logging.basicConfig(filename=\"text.log\", level=logging.INFO)\n",
    "\n",
    "class LengthError(Exception):\n",
    "    pass\n",
    "\n",
    "try:\n",
    "    phone_num=int(input(\"enter phone number\"))\n",
    "    if phone_num < 10**9:\n",
    "        raise LengthError()\n",
    "except LengthError:\n",
    "    print(\"Enter 10 digit number\")\n",
    "    logging.error(\"Enter 10 digit number\")\n",
    "except Exception as e:\n",
    "    print(e)\n",
    "    logging.error(e)"
   ]
  },
  {
   "cell_type": "markdown",
   "id": "0b1b9be9-d242-4de7-92fb-39918f083058",
   "metadata": {},
   "source": [
    "Q5. What are Custom Exceptions in python? Why do we need Custom Exceptions? Explain with an example."
   ]
  },
  {
   "cell_type": "markdown",
   "id": "4d106000-cccd-4280-ad61-15cde63d1752",
   "metadata": {},
   "source": [
    "In Python, exceptions are raised whenever an error occurs during the execution of a program. Custom Exceptions are user-defined exceptions that allow developers to create their own exception classes and raise them when necessary.\n",
    "\n",
    "Custom Exceptions are useful in situations where a specific error occurs in a program that isn't covered by the built-in exception classes provided by Python. They allow developers to handle errors in a more specific and meaningful way, improving the clarity and maintainability of their code."
   ]
  },
  {
   "cell_type": "code",
   "execution_count": 29,
   "id": "064333dc-3a87-4f8c-b143-bcc03ada5336",
   "metadata": {},
   "outputs": [
    {
     "name": "stdout",
     "output_type": "stream",
     "text": [
      "Entered password length is less than 8\n"
     ]
    }
   ],
   "source": [
    "import logging\n",
    "logging.basicConfig(filename=\"text.log\", level=logging.INFO)\n",
    "\n",
    "class ValidatePass(Exception):\n",
    "    def __init__(self,msg):\n",
    "        self.msg=msg\n",
    "    \n",
    "try:\n",
    "    password=\"hello@1\"\n",
    "    if len(password)<8:\n",
    "        raise ValidatePass(\"Entered password length is less than 8\")\n",
    "except ValidatePass as e:\n",
    "    print(e)\n",
    "    logging.error(e)"
   ]
  },
  {
   "cell_type": "markdown",
   "id": "e3089901-a0da-48a3-9141-59545ce3bc6e",
   "metadata": {},
   "source": [
    "Q6. Create a custom exception class. Use this class to handle an exception."
   ]
  },
  {
   "cell_type": "code",
   "execution_count": 30,
   "id": "c3355251-ff98-4856-84d6-5f37988adfc2",
   "metadata": {},
   "outputs": [
    {
     "name": "stdin",
     "output_type": "stream",
     "text": [
      "Enter percentage 120\n"
     ]
    },
    {
     "name": "stdout",
     "output_type": "stream",
     "text": [
      "Out of range\n"
     ]
    }
   ],
   "source": [
    "import logging\n",
    "logging.basicConfig(filename=\"text.log\", level=logging.INFO)\n",
    "\n",
    "class ValidatePercentage(Exception):\n",
    "    def __init__(self,msg):\n",
    "        self.msg=msg\n",
    "    \n",
    "try:\n",
    "    percent=float(input(\"Enter percentage\"))\n",
    "    if percent<0 or percent>100:\n",
    "        raise ValidatePercentage(\"Out of range\")\n",
    "except ValidatePercentage as e:\n",
    "    print(e)\n",
    "    logging.error(e)"
   ]
  },
  {
   "cell_type": "code",
   "execution_count": null,
   "id": "dacfaae0-159d-41f4-92b1-c3beb5eb0145",
   "metadata": {},
   "outputs": [],
   "source": []
  }
 ],
 "metadata": {
  "kernelspec": {
   "display_name": "Python 3 (ipykernel)",
   "language": "python",
   "name": "python3"
  },
  "language_info": {
   "codemirror_mode": {
    "name": "ipython",
    "version": 3
   },
   "file_extension": ".py",
   "mimetype": "text/x-python",
   "name": "python",
   "nbconvert_exporter": "python",
   "pygments_lexer": "ipython3",
   "version": "3.10.8"
  }
 },
 "nbformat": 4,
 "nbformat_minor": 5
}
