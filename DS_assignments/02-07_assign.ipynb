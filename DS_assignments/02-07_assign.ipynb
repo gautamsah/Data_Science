{
 "cells": [
  {
   "cell_type": "markdown",
   "id": "b978e046-386f-411e-80ca-308cb4bd55ec",
   "metadata": {},
   "source": [
    "Q1. You are writing code for a company. The requirement of the company is that you create a python function that will check whether the password entered by the user is correct or not. The function should take the password as input and return the string \"Valid Password\" if the entered password follows the below-given password guidelines else it should return \"Invalid Password\".\n",
    "Note:\n",
    "1. The Password should contain at least two uppercase letters and at least two lowercase letters.\n",
    "2. The Password should contain at least a number and three special characters.\n",
    "3. The length of the password should be 10 characters long."
   ]
  },
  {
   "cell_type": "code",
   "execution_count": 4,
   "id": "cd713fc1-d054-4d0c-b372-4d1772b2e716",
   "metadata": {},
   "outputs": [
    {
     "name": "stdin",
     "output_type": "stream",
     "text": [
      "Enter your password dfDD1@#$jj\n"
     ]
    },
    {
     "name": "stdout",
     "output_type": "stream",
     "text": [
      "Valid password\n"
     ]
    }
   ],
   "source": [
    "password=input(\"Enter your password\")\n",
    "\n",
    "def pass_check(password):\n",
    "    length=len(password)\n",
    "    \n",
    "    uc,lc,num,spchar=0,0,0,0\n",
    "    \n",
    "    if length>=10:\n",
    "        for i in password:\n",
    "            if i>=\"a\" and i<=\"z\":\n",
    "                lc+=1\n",
    "            elif i>=\"A\" and i<=\"Z\":\n",
    "                uc+=1\n",
    "            elif i>=\"0\" and i<=\"9\":\n",
    "                num+=1\n",
    "            elif i==\"@\" or i==\"#\" or i==\"$\":\n",
    "                spchar+=1\n",
    "            else:\n",
    "                return False\n",
    "        if lc>1 and uc>1 and num>0 and spchar>2:\n",
    "            return True\n",
    "        else:\n",
    "            return False\n",
    "    else:\n",
    "        return False\n",
    "    \n",
    "validity=pass_check(password)\n",
    "if validity==1:\n",
    "    print(\"Valid password\")\n",
    "else:\n",
    "    print(\"Invalid password\")"
   ]
  },
  {
   "cell_type": "markdown",
   "id": "a3b49516-ec86-4334-8332-c9b668cfbb26",
   "metadata": {},
   "source": [
    "Q2. Solve the below-given questions using at least one of the following:\n",
    "1. Lambda function\n",
    "2. Filter function\n",
    "3. Map function\n",
    "4. List Comprehension\n",
    "\n",
    "a. Check if the string starts with a particular letter.\n",
    "b. Check if the string is numeric.\n",
    "c. Sort a list of tuples having fruit names and their quantity. [(\"mango\",99), (\"orange\", 80), (\"grapes\", 1000)]\n",
    "d. Find the squares of numbers from 1 to 10.\n",
    "e. Find the cube root of numbers from 1 to 10.\n",
    "f. Check if a given number is even.\n",
    "g. Filter odd numbers from the given list.\n",
    "\t[1,2,3,4,5,6,7,8,9,10]\n",
    "h. Sort a list of integers into positive and negative integers lists.\n",
    "\t[1,2,3,4,5,6,-1,-2,-3,-4,-5,0]"
   ]
  },
  {
   "cell_type": "code",
   "execution_count": 6,
   "id": "76c04cea-ceef-4b0c-ae63-b1fbb816c189",
   "metadata": {},
   "outputs": [
    {
     "name": "stdin",
     "output_type": "stream",
     "text": [
      "Enter the string 23fds\n"
     ]
    },
    {
     "name": "stdout",
     "output_type": "stream",
     "text": [
      "Invalid String\n"
     ]
    }
   ],
   "source": [
    "#a. Check if the string starts with a particular letter.\n",
    "\n",
    "string=input(\"Enter the string\")\n",
    "\n",
    "print(\"Valid String\") if string.startswith(\"A\") else print(\"Invalid String\")\n"
   ]
  },
  {
   "cell_type": "code",
   "execution_count": 14,
   "id": "7cc3c5ad-3318-414d-aed8-a884ad9bd71d",
   "metadata": {},
   "outputs": [
    {
     "name": "stdin",
     "output_type": "stream",
     "text": [
      "Enter the string 56456\n"
     ]
    },
    {
     "name": "stdout",
     "output_type": "stream",
     "text": [
      "Numeric value\n"
     ]
    }
   ],
   "source": [
    "#b. Check if the string is numeric.\n",
    "\n",
    "string=input(\"Enter the string\")\n",
    "\n",
    "print(\"Numeric value\") if string.isdigit() else print(\"Not Numeric value\")"
   ]
  },
  {
   "cell_type": "code",
   "execution_count": 18,
   "id": "82abdb12-1222-4a45-a49b-46f315bade09",
   "metadata": {},
   "outputs": [
    {
     "name": "stdout",
     "output_type": "stream",
     "text": [
      "[('orange', 80), ('mango', 99), ('grapes', 1000)]\n"
     ]
    }
   ],
   "source": [
    "#c. Sort a list of tuples having fruit names and their quantity. [(\"mango\",99), (\"orange\", 80), (\"grapes\", 1000)]\n",
    "\n",
    "fruits=[(\"mango\",99), (\"orange\", 80), (\"grapes\", 1000)]\n",
    "\n",
    "fruits.sort(key=lambda x: x[1])\n",
    "print(fruits)"
   ]
  },
  {
   "cell_type": "code",
   "execution_count": 21,
   "id": "ce3aebd8-7888-4b02-b913-672863660db8",
   "metadata": {},
   "outputs": [
    {
     "name": "stdout",
     "output_type": "stream",
     "text": [
      "[1, 4, 9, 16, 25, 36, 49, 64, 81, 100]\n"
     ]
    }
   ],
   "source": [
    "#d. Find the squares of numbers from 1 to 10.\n",
    "\n",
    "list=[*range(1,11)]\n",
    "sq_list=[x**2 for x in list]\n",
    "\n",
    "print(sq_list)"
   ]
  },
  {
   "cell_type": "code",
   "execution_count": 1,
   "id": "8c1814f1-e887-4b18-9ac8-a6e44e61d295",
   "metadata": {},
   "outputs": [
    {
     "name": "stdout",
     "output_type": "stream",
     "text": [
      "[1.0, 1.2599210498948732, 1.4422495703074083, 1.5874010519681994, 1.7099759466766968, 1.8171205928321397, 1.912931182772389, 2.0, 2.080083823051904, 2.154434690031884]\n"
     ]
    }
   ],
   "source": [
    "#e. Find the cube root of numbers from 1 to 10.\n",
    "\n",
    "list=[*range(1,11)]\n",
    "sq_list=[x**(1/3) for x in list]\n",
    "\n",
    "print(sq_list)"
   ]
  },
  {
   "cell_type": "code",
   "execution_count": 2,
   "id": "c79d2d58-2444-4233-a683-0aa789bd22f7",
   "metadata": {},
   "outputs": [
    {
     "name": "stdin",
     "output_type": "stream",
     "text": [
      "Enter number 45\n"
     ]
    },
    {
     "name": "stdout",
     "output_type": "stream",
     "text": [
      "Odd num\n"
     ]
    }
   ],
   "source": [
    "#f. Check if a given number is even.\n",
    "\n",
    "num=int(input(\"Enter number\"))\n",
    "\n",
    "print(\"Even num\") if num%2==0 else print(\"Odd num\")"
   ]
  },
  {
   "cell_type": "code",
   "execution_count": 5,
   "id": "f23f8d60-73b9-4a43-9519-eed0bdc7b13d",
   "metadata": {},
   "outputs": [
    {
     "data": {
      "text/plain": [
       "[1, 3, 5, 7, 9]"
      ]
     },
     "execution_count": 5,
     "metadata": {},
     "output_type": "execute_result"
    }
   ],
   "source": [
    "#g. Filter odd numbers from the given list.\n",
    "\t\n",
    "l=[1,2,3,4,5,6,7,8,9,10]\n",
    "\n",
    "filterl=[x for x in l if x%2!=0]\n",
    "filterl"
   ]
  },
  {
   "cell_type": "code",
   "execution_count": 14,
   "id": "9d4df7c1-4f9f-48d8-baa5-256712d8a2f7",
   "metadata": {},
   "outputs": [
    {
     "name": "stdout",
     "output_type": "stream",
     "text": [
      "[0, 1, 2, 3, 4, 5, 6]\n",
      "[-5, -4, -3, -2, -1]\n"
     ]
    }
   ],
   "source": [
    "#h. Sort a list of integers into positive and negative integers lists.\n",
    "\n",
    "l=[1,2,3,4,5,6,-1,-2,-3,-4,-5,0]\n",
    "\n",
    "pos=[i for i in l if i>=0]\n",
    "neg=[i for i in l if i<0]\n",
    "pos.sort()\n",
    "neg.sort()\n",
    "print(pos)\n",
    "print(neg)"
   ]
  },
  {
   "cell_type": "code",
   "execution_count": null,
   "id": "12443151-3eed-46d6-b481-676b90164748",
   "metadata": {},
   "outputs": [],
   "source": []
  }
 ],
 "metadata": {
  "kernelspec": {
   "display_name": "Python 3 (ipykernel)",
   "language": "python",
   "name": "python3"
  },
  "language_info": {
   "codemirror_mode": {
    "name": "ipython",
    "version": 3
   },
   "file_extension": ".py",
   "mimetype": "text/x-python",
   "name": "python",
   "nbconvert_exporter": "python",
   "pygments_lexer": "ipython3",
   "version": "3.10.8"
  }
 },
 "nbformat": 4,
 "nbformat_minor": 5
}
