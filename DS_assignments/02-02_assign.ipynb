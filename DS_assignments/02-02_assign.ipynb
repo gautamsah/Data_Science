{
 "cells": [
  {
   "cell_type": "markdown",
   "id": "2c328afb-9b47-413a-abba-c7cb4469aeeb",
   "metadata": {},
   "source": [
    "Q1. Explain with an example each when to use a for loop and a while loop."
   ]
  },
  {
   "cell_type": "code",
   "execution_count": null,
   "id": "f93e0653-2c45-40c7-9099-b0045d568643",
   "metadata": {},
   "outputs": [],
   "source": [
    "#The for loop is used when the number of iterations is already known.\n",
    "\n",
    "n=10\n",
    "\n",
    "sum=0\n",
    "product=1\n",
    "for i in range(n):\n",
    "    sum+=(i+1)\n",
    "    product*=(i+1)\n",
    "print(\"The sum is\",sum,\"\\nThe product is\",product)"
   ]
  },
  {
   "cell_type": "code",
   "execution_count": null,
   "id": "9ebd29aa-a89b-4340-8f5d-dfc11a68d1f1",
   "metadata": {},
   "outputs": [],
   "source": [
    "#A loop that executes a single statement or a group of statements for the given true condition. \n",
    "#The statement repeats itself till the boolean value becomes false.\n",
    "\n",
    "n=10\n",
    "\n",
    "sum=0\n",
    "product=1\n",
    "while n>0:\n",
    "    sum+=(n)\n",
    "    product*=(n)\n",
    "    n-=1\n",
    "print(\"The sum is\",sum,\"\\nThe product is\",product)"
   ]
  },
  {
   "cell_type": "markdown",
   "id": "b8652fd9-f2b8-4305-a21c-beb0e7fe4564",
   "metadata": {},
   "source": [
    "Q2. Write a python program to print the sum and product of the first 10 natural numbers using for and while loop."
   ]
  },
  {
   "cell_type": "code",
   "execution_count": 2,
   "id": "cb6a8c34-7818-4193-9b1f-37eb9b40f3eb",
   "metadata": {},
   "outputs": [
    {
     "name": "stdout",
     "output_type": "stream",
     "text": [
      "The sum is 55 \n",
      "The product is 3628800\n"
     ]
    }
   ],
   "source": [
    "n=10\n",
    "\n",
    "sum=0\n",
    "product=1\n",
    "for i in range(n):\n",
    "    sum+=(i+1)\n",
    "    product*=(i+1)\n",
    "print(\"The sum is\",sum,\"\\nThe product is\",product)"
   ]
  },
  {
   "cell_type": "code",
   "execution_count": 4,
   "id": "1c7b33e4-5b2f-44cd-9331-c347f5ff1c9e",
   "metadata": {},
   "outputs": [
    {
     "name": "stdout",
     "output_type": "stream",
     "text": [
      "The sum is 55 \n",
      "The product is 3628800\n"
     ]
    }
   ],
   "source": [
    "n=10\n",
    "\n",
    "sum=0\n",
    "product=1\n",
    "while n>0:\n",
    "    sum+=(n)\n",
    "    product*=(n)\n",
    "    n-=1\n",
    "print(\"The sum is\",sum,\"\\nThe product is\",product)"
   ]
  },
  {
   "cell_type": "markdown",
   "id": "0f5e575f-8e42-4ba8-8426-7266e0dde534",
   "metadata": {},
   "source": [
    "Q3. Create a python program to compute the electricity bill for a household."
   ]
  },
  {
   "cell_type": "code",
   "execution_count": 5,
   "id": "fb5c0c85-5bcd-4f86-890f-ac876b9b6736",
   "metadata": {},
   "outputs": [
    {
     "name": "stdin",
     "output_type": "stream",
     "text": [
      "Enter total units of electricity consumed 310\n"
     ]
    },
    {
     "name": "stdout",
     "output_type": "stream",
     "text": [
      "Your total bill is 2250 rupees\n"
     ]
    }
   ],
   "source": [
    "total_units=int(input(\"Enter total units of electricity consumed\"))\n",
    "450,600,1000\n",
    "if total_units>300:\n",
    "    calc=(total_units-300)*20+2050\n",
    "elif total_units>200 and total_units<=300:\n",
    "    calc=(total_units-200)*10+1050\n",
    "elif total_units>100 and total_units<=200:\n",
    "    calc=(total_units-100)*6+450\n",
    "else:\n",
    "    calc=(total_units)*4.5\n",
    "\n",
    "print(\"Your total bill is\",calc,\"rupees\")"
   ]
  },
  {
   "cell_type": "markdown",
   "id": "7bf6a3f9-d7fb-4ce7-b9ae-ba45fa0a11b7",
   "metadata": {},
   "source": [
    "Q4. Create a list of numbers from 1 to 100. Use for loop and while loop to calculate the cube of each number and if the cube of that number is divisible by 4 or 5 then append that number in a list and print that list."
   ]
  },
  {
   "cell_type": "code",
   "execution_count": 12,
   "id": "18394c80-e619-4a27-abda-95876f230059",
   "metadata": {},
   "outputs": [
    {
     "name": "stdout",
     "output_type": "stream",
     "text": [
      "[8, 64, 125, 216, 512, 1000, 1728, 2744, 3375, 4096, 5832, 8000, 10648, 13824, 15625, 17576, 21952, 27000, 32768, 39304, 42875, 46656, 54872, 64000, 74088, 85184, 91125, 97336, 110592, 125000, 140608, 157464, 166375, 175616, 195112, 216000, 238328, 262144, 274625, 287496, 314432, 343000, 373248, 405224, 421875, 438976, 474552, 512000, 551368, 592704, 614125, 636056, 681472, 729000, 778688, 830584, 857375, 884736, 941192, 1000000]\n"
     ]
    }
   ],
   "source": [
    "n=[*range(1,101)]\n",
    "\n",
    "list=[]\n",
    "for i in n:\n",
    "    product=i*i*i\n",
    "    if product%4==0 or product%5==0:\n",
    "        list.append(product)\n",
    "print(list)"
   ]
  },
  {
   "cell_type": "markdown",
   "id": "9da3db3c-dd52-4ed0-b5c4-a93a0ebd916a",
   "metadata": {},
   "source": [
    "Q5. Write a program to filter count vowels in the below-given string.\n",
    "string = \"I want to become a data scientist\""
   ]
  },
  {
   "cell_type": "code",
   "execution_count": 13,
   "id": "3bdd591c-a949-48d8-97f1-e75b736033a9",
   "metadata": {},
   "outputs": [
    {
     "name": "stdout",
     "output_type": "stream",
     "text": [
      "['I', 'a', 'o', 'e', 'o', 'e', 'a', 'a', 'a', 'i', 'e', 'i']\n",
      "The total count of vowels are 12\n"
     ]
    }
   ],
   "source": [
    "string = \"I want to become a data scientist\"\n",
    "\n",
    "count=0\n",
    "list=[]\n",
    "for i in string:\n",
    "    if i==\"a\" or i==\"e\" or i==\"i\" or i==\"o\" or i==\"u\" or i==\"A\" or i==\"E\" or i==\"I\" or i==\"O\" or i==\"U\":\n",
    "        list.append(i)\n",
    "        count+=1\n",
    "    else:\n",
    "        continue\n",
    "print(list)\n",
    "print(\"The total count of vowels are\",count)"
   ]
  }
 ],
 "metadata": {
  "kernelspec": {
   "display_name": "Python 3 (ipykernel)",
   "language": "python",
   "name": "python3"
  },
  "language_info": {
   "codemirror_mode": {
    "name": "ipython",
    "version": 3
   },
   "file_extension": ".py",
   "mimetype": "text/x-python",
   "name": "python",
   "nbconvert_exporter": "python",
   "pygments_lexer": "ipython3",
   "version": "3.10.8"
  }
 },
 "nbformat": 4,
 "nbformat_minor": 5
}
