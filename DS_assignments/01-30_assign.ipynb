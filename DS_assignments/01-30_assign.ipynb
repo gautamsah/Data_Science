{
 "cells": [
  {
   "cell_type": "markdown",
   "id": "f1f0575a-d8d9-42df-bb4c-a4e467641ad1",
   "metadata": {},
   "source": [
    "1. Write a program to accept percentage from the user and display the grade according to the following criteria:"
   ]
  },
  {
   "cell_type": "code",
   "execution_count": 8,
   "id": "fa4c9ef1-702a-4d4d-a827-2463bacec6d7",
   "metadata": {},
   "outputs": [
    {
     "name": "stdin",
     "output_type": "stream",
     "text": [
      "Enter your percentage 80.01\n"
     ]
    },
    {
     "name": "stdout",
     "output_type": "stream",
     "text": [
      "You got grade B\n"
     ]
    }
   ],
   "source": [
    "percentage=float(input(\"Enter your percentage\"))\n",
    "if percentage>100 or percentage<0:\n",
    "    print(\"Invalid input\")\n",
    "else:\n",
    "    if percentage>90:\n",
    "        print(\"You got grade A\")\n",
    "    elif percentage>80 and percentage<=90:\n",
    "        print(\"You got grade B\")\n",
    "    elif percentage>=60 and percentage<=80:\n",
    "        print(\"You got grade C\")\n",
    "    else:\n",
    "        print(\"You got grade D\")"
   ]
  },
  {
   "cell_type": "markdown",
   "id": "f06834fd-d61b-42e9-b8a2-270961d8e08e",
   "metadata": {},
   "source": [
    "2. Write a program to accept the cost price of a bike and display the road tax to be paid according to the following criteria:"
   ]
  },
  {
   "cell_type": "code",
   "execution_count": 12,
   "id": "ce861440-cd51-480d-97bb-c4ad86410f47",
   "metadata": {},
   "outputs": [
    {
     "name": "stdin",
     "output_type": "stream",
     "text": [
      "Enter the bike cost 12345\n"
     ]
    },
    {
     "name": "stdout",
     "output_type": "stream",
     "text": [
      "The road tax to be paid is 617.25 rupees\n"
     ]
    }
   ],
   "source": [
    "cost=int(input(\"Enter the bike cost\"))\n",
    "\n",
    "if cost>100000:\n",
    "    print(\"The road tax to be paid is\",cost*0.15, \"rupees\")\n",
    "elif cost>50000 and cost<=100000:\n",
    "    print(\"The road tax to be paid is\",cost*0.10, \"rupees\")\n",
    "else:\n",
    "    print(\"The road tax to be paid is\",cost*0.05, \"rupees\")"
   ]
  },
  {
   "cell_type": "markdown",
   "id": "2ee3b9b2-24e4-448b-8c8d-9e56d7476bb7",
   "metadata": {},
   "source": [
    "3. Accept any City from tho user and display monuments Of that City."
   ]
  },
  {
   "cell_type": "code",
   "execution_count": 14,
   "id": "fa1485f5-bf64-4f83-a27d-9fa36210fa56",
   "metadata": {},
   "outputs": [
    {
     "name": "stdout",
     "output_type": "stream",
     "text": [
      "City: Delhi, Agra, Jaipur\n"
     ]
    },
    {
     "name": "stdin",
     "output_type": "stream",
     "text": [
      "Enter the city name from above option:  delhi\n"
     ]
    },
    {
     "name": "stdout",
     "output_type": "stream",
     "text": [
      "The monument of the city is Red Fort\n"
     ]
    }
   ],
   "source": [
    "print(\"City: Delhi, Agra, Jaipur\")\n",
    "city=input(\"Enter the city name from above option: \")\n",
    "\n",
    "if city==\"Delhi\" or city==\"delhi\":\n",
    "    print(\"The monument of the city is Red Fort\")\n",
    "elif city==\"Agra\" or city==\"agra\":\n",
    "    print(\"The monument of the city is Taj Mahal\")\n",
    "elif city==\"Jaipur\" or city==\"jaipur\":\n",
    "    print(\"The monument of the city is Jal Mahal\")\n",
    "else:\n",
    "    print(\"Invalid Input\")"
   ]
  },
  {
   "cell_type": "markdown",
   "id": "7dc57226-6c9f-4040-afce-0c1f4753d232",
   "metadata": {},
   "source": [
    "4. Check how many times a given number can be divided by 3 before it is less than or equal to 10."
   ]
  },
  {
   "cell_type": "code",
   "execution_count": 17,
   "id": "871a92c5-7e2b-406c-ae9f-347c62fd4aaf",
   "metadata": {},
   "outputs": [
    {
     "name": "stdin",
     "output_type": "stream",
     "text": [
      "Enter the number to be divided by 3 300\n"
     ]
    },
    {
     "name": "stdout",
     "output_type": "stream",
     "text": [
      "The number can be divided 4 times\n"
     ]
    }
   ],
   "source": [
    "number=int(input(\"Enter the number to be divided by 3\"))\n",
    "count=0\n",
    "\n",
    "while number>10:\n",
    "    number=number/3.0\n",
    "    count+=1\n",
    "print(\"The number can be divided\", count, \"times\")"
   ]
  },
  {
   "cell_type": "markdown",
   "id": "35b4dec0-742c-44d6-bfba-f55b75461149",
   "metadata": {},
   "source": [
    "5. Why and When to Use while Loop in Python give a detailed description with example"
   ]
  },
  {
   "cell_type": "markdown",
   "id": "94af3e66-872e-4017-aeef-04b64b9b257a",
   "metadata": {},
   "source": [
    "While is loop is used to repeat a block of code\n",
    "\n",
    "while loop is used to run a loop until a condition is met.\n",
    "\t- A while loop evaluates the condition\n",
    "\t- If the condition evaluates to True, the code inside the while loop is executed.\n",
    "\t- condition is evaluated again.\n",
    "\t- This process continues until the condition is False.\n",
    "\t- When condition evaluates to False, the loop stops."
   ]
  },
  {
   "cell_type": "code",
   "execution_count": 18,
   "id": "681f97a8-a2ca-419d-bdf1-2a3948ffaa89",
   "metadata": {},
   "outputs": [
    {
     "name": "stdout",
     "output_type": "stream",
     "text": [
      "1\n",
      "2\n",
      "3\n",
      "4\n",
      "5\n",
      "6\n",
      "7\n",
      "8\n",
      "9\n",
      "10\n"
     ]
    }
   ],
   "source": [
    "# program to display numbers from 1 to 10\n",
    "i=1\n",
    "n=10\n",
    "\n",
    "while i<=n:\n",
    "    print(i)\n",
    "    i+=1"
   ]
  },
  {
   "cell_type": "markdown",
   "id": "8679ff4a-e106-44e0-a372-bea11da499f4",
   "metadata": {},
   "source": [
    "6. Use nested while loop to print 3 different pattern."
   ]
  },
  {
   "cell_type": "code",
   "execution_count": 23,
   "id": "5a71d527-38b1-4963-8c81-c452a099c9e8",
   "metadata": {},
   "outputs": [
    {
     "name": "stdin",
     "output_type": "stream",
     "text": [
      "Enter number  5\n"
     ]
    },
    {
     "name": "stdout",
     "output_type": "stream",
     "text": [
      "* * * * * \n",
      "\n",
      "* * * * \n",
      "\n",
      "* * * \n",
      "\n",
      "* * \n",
      "\n",
      "* \n",
      "\n",
      "\n",
      "\n"
     ]
    }
   ],
   "source": [
    "n=int(input(\"Enter number \"))\n",
    "\n",
    "for i in range(n+1):\n",
    "    for j in range(n-i):\n",
    "        print(\"*\", end=\" \")\n",
    "    print(\"\\n\")"
   ]
  },
  {
   "cell_type": "code",
   "execution_count": 22,
   "id": "a4e198f4-7233-447e-8eef-38723201eb9c",
   "metadata": {},
   "outputs": [
    {
     "name": "stdin",
     "output_type": "stream",
     "text": [
      "Enter number  5\n"
     ]
    },
    {
     "name": "stdout",
     "output_type": "stream",
     "text": [
      "\n",
      "\n",
      "1 \n",
      "\n",
      "1 2 \n",
      "\n",
      "1 2 3 \n",
      "\n",
      "1 2 3 4 \n",
      "\n",
      "1 2 3 4 5 \n",
      "\n"
     ]
    }
   ],
   "source": [
    "n=int(input(\"Enter number \"))\n",
    "\n",
    "for i in range(n+1):\n",
    "    for j in range(i):\n",
    "        print(j+1, end=\" \")\n",
    "    print(\"\\n\")"
   ]
  },
  {
   "cell_type": "code",
   "execution_count": 28,
   "id": "bf4c18c2-1a77-43d4-889e-fdbbb13c508a",
   "metadata": {},
   "outputs": [
    {
     "name": "stdin",
     "output_type": "stream",
     "text": [
      "Enter number  5\n"
     ]
    },
    {
     "name": "stdout",
     "output_type": "stream",
     "text": [
      "\n",
      "\n",
      "* \n",
      "\n",
      "* * \n",
      "\n",
      "* * * \n",
      "\n",
      "* * * * \n",
      "\n",
      "* * * * * \n",
      "\n",
      "* * * * \n",
      "\n",
      "* * * \n",
      "\n",
      "* * \n",
      "\n",
      "* \n",
      "\n",
      "\n",
      "\n"
     ]
    }
   ],
   "source": [
    "n=int(input(\"Enter number \"))\n",
    "\n",
    "for i in range(n+1):\n",
    "    for j in range(i):\n",
    "        print(\"*\", end=\" \")\n",
    "    print(\"\\n\")\n",
    "for i in range(n):\n",
    "    for j in range(n-i-1):\n",
    "        print(\"*\", end=\" \")\n",
    "    print(\"\\n\")"
   ]
  },
  {
   "cell_type": "markdown",
   "id": "91938f23-5bdf-4930-be88-bd8e343b7a90",
   "metadata": {},
   "source": [
    "7. Reverse a while loop to display numbers from 10 to 1."
   ]
  },
  {
   "cell_type": "code",
   "execution_count": 31,
   "id": "30850098-cf76-43ce-8bc5-53130aa5564d",
   "metadata": {},
   "outputs": [
    {
     "name": "stdout",
     "output_type": "stream",
     "text": [
      "10\n",
      "9\n",
      "8\n",
      "7\n",
      "6\n",
      "5\n",
      "4\n",
      "3\n",
      "2\n",
      "1\n",
      "0\n"
     ]
    }
   ],
   "source": [
    "n=10\n",
    "\n",
    "while n>=0:\n",
    "    print(n)\n",
    "    n-=1"
   ]
  },
  {
   "cell_type": "markdown",
   "id": "bb50f371-fefc-4625-bb2b-e76d67b500c3",
   "metadata": {},
   "source": [
    "8. Reverse a while loop to display numbers from 10 to 1"
   ]
  },
  {
   "cell_type": "code",
   "execution_count": 32,
   "id": "7b18f1d0-d074-4bd1-a5c2-3f2c90eab614",
   "metadata": {},
   "outputs": [
    {
     "name": "stdout",
     "output_type": "stream",
     "text": [
      "10\n",
      "9\n",
      "8\n",
      "7\n",
      "6\n",
      "5\n",
      "4\n",
      "3\n",
      "2\n",
      "1\n",
      "0\n"
     ]
    }
   ],
   "source": [
    "n=10\n",
    "\n",
    "while n>=0:\n",
    "    print(n)\n",
    "    n-=1"
   ]
  },
  {
   "cell_type": "code",
   "execution_count": null,
   "id": "621f34c3-d9af-49a9-a392-b42f5c5fc38c",
   "metadata": {},
   "outputs": [],
   "source": []
  }
 ],
 "metadata": {
  "kernelspec": {
   "display_name": "Python 3 (ipykernel)",
   "language": "python",
   "name": "python3"
  },
  "language_info": {
   "codemirror_mode": {
    "name": "ipython",
    "version": 3
   },
   "file_extension": ".py",
   "mimetype": "text/x-python",
   "name": "python",
   "nbconvert_exporter": "python",
   "pygments_lexer": "ipython3",
   "version": "3.10.8"
  }
 },
 "nbformat": 4,
 "nbformat_minor": 5
}
